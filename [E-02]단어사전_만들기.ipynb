{
  "cells": [
    {
      "cell_type": "markdown",
      "metadata": {
        "id": "TpSTOHa0SuOe"
      },
      "source": [
        "# 참고 사이트\n",
        "- 멋진 단어사전 만들기 me2.kr/tt6h9\n",
        "- 멋진 단어사전 만들기 me2.kr/xle80\n",
        "- 센텐스피스(SentencePiece) me2.kr/d2w43\n",
        "- 자연어처리 한번에 끝내기 me2.kr/wpxil\n",
        "- 모두의 딥러닝(책이름)"
      ]
    },
    {
      "cell_type": "markdown",
      "metadata": {
        "id": "odZTF4NJBPuy"
      },
      "source": [
        "# 모델학습하기"
      ]
    },
    {
      "cell_type": "markdown",
      "metadata": {
        "id": "ocCicnRkBT9c"
      },
      "source": [
        "## 기본 다운로드 및 파일 불러오기"
      ]
    },
    {
      "cell_type": "code",
      "execution_count": 129,
      "metadata": {
        "colab": {
          "base_uri": "https://localhost:8080/"
        },
        "id": "cx3kEq7iAeeI",
        "outputId": "4841b1c5-1ed7-477f-e9e4-284f41105fc5"
      },
      "outputs": [
        {
          "name": "stdout",
          "output_type": "stream",
          "text": [
            "Looking in indexes: https://pypi.org/simple, https://us-python.pkg.dev/colab-wheels/public/simple/\n",
            "Requirement already satisfied: sentencepiece in /usr/local/lib/python3.7/dist-packages (0.1.97)\n"
          ]
        }
      ],
      "source": [
        "# SentencePiece 설치\n",
        "!pip install sentencepiece"
      ]
    },
    {
      "cell_type": "code",
      "execution_count": 130,
      "metadata": {
        "colab": {
          "base_uri": "https://localhost:8080/"
        },
        "id": "Gqz370PmBBUL",
        "outputId": "aa551a56-2132-4cda-a5ba-a03e40b967c8"
      },
      "outputs": [
        {
          "name": "stdout",
          "output_type": "stream",
          "text": [
            "--2022-10-03 00:16:02--  https://www.dropbox.com/s/9xls0tgtf3edgns/mecab-0.996-ko-0.9.2.tar.gz?dl=1\n",
            "Resolving www.dropbox.com (www.dropbox.com)... 162.125.7.18, 2620:100:6031:18::a27d:5112\n",
            "Connecting to www.dropbox.com (www.dropbox.com)|162.125.7.18|:443... connected.\n",
            "HTTP request sent, awaiting response... 302 Found\n",
            "Location: /s/dl/9xls0tgtf3edgns/mecab-0.996-ko-0.9.2.tar.gz [following]\n",
            "--2022-10-03 00:16:03--  https://www.dropbox.com/s/dl/9xls0tgtf3edgns/mecab-0.996-ko-0.9.2.tar.gz\n",
            "Reusing existing connection to www.dropbox.com:443.\n",
            "HTTP request sent, awaiting response... 302 Found\n",
            "Location: https://uc059d60d88c3ba0d971896d19aa.dl.dropboxusercontent.com/cd/0/get/BuFoBEbeNu1E_Iikkv7_5wNDqRcmtLBGoDEUg7ZSyHVaa1xw8nTl5z6VDo4xW7x7ooS7jocSzzJappqg2AvztStlPVbeM9si_UEzfStPifGkKw2BOYqlFApncte27478gleckuIM0D9N9Bs92_cwwkmmihNvb0ZOheDwwmjN7twLqENRdglhqZ5l1qE0CHa7Wt8/file?dl=1# [following]\n",
            "--2022-10-03 00:16:04--  https://uc059d60d88c3ba0d971896d19aa.dl.dropboxusercontent.com/cd/0/get/BuFoBEbeNu1E_Iikkv7_5wNDqRcmtLBGoDEUg7ZSyHVaa1xw8nTl5z6VDo4xW7x7ooS7jocSzzJappqg2AvztStlPVbeM9si_UEzfStPifGkKw2BOYqlFApncte27478gleckuIM0D9N9Bs92_cwwkmmihNvb0ZOheDwwmjN7twLqENRdglhqZ5l1qE0CHa7Wt8/file?dl=1\n",
            "Resolving uc059d60d88c3ba0d971896d19aa.dl.dropboxusercontent.com (uc059d60d88c3ba0d971896d19aa.dl.dropboxusercontent.com)... 162.125.81.15, 2620:100:6031:15::a27d:510f\n",
            "Connecting to uc059d60d88c3ba0d971896d19aa.dl.dropboxusercontent.com (uc059d60d88c3ba0d971896d19aa.dl.dropboxusercontent.com)|162.125.81.15|:443... connected.\n",
            "HTTP request sent, awaiting response... 200 OK\n",
            "Length: 1414979 (1.3M) [application/binary]\n",
            "Saving to: ‘mecab-0.996-ko-0.9.2.tar.gz?dl=1.2’\n",
            "\n",
            "mecab-0.996-ko-0.9. 100%[===================>]   1.35M  7.68MB/s    in 0.2s    \n",
            "\n",
            "2022-10-03 00:16:04 (7.68 MB/s) - ‘mecab-0.996-ko-0.9.2.tar.gz?dl=1.2’ saved [1414979/1414979]\n",
            "\n",
            "mecab-0.996-ko-0.9.2/\n",
            "mecab-0.996-ko-0.9.2/example/\n",
            "mecab-0.996-ko-0.9.2/example/example.cpp\n",
            "mecab-0.996-ko-0.9.2/example/example_lattice.cpp\n",
            "mecab-0.996-ko-0.9.2/example/example_lattice.c\n",
            "mecab-0.996-ko-0.9.2/example/example.c\n",
            "mecab-0.996-ko-0.9.2/example/thread_test.cpp\n",
            "mecab-0.996-ko-0.9.2/mecab-config.in\n",
            "mecab-0.996-ko-0.9.2/man/\n",
            "mecab-0.996-ko-0.9.2/man/Makefile.am\n",
            "mecab-0.996-ko-0.9.2/man/mecab.1\n",
            "mecab-0.996-ko-0.9.2/man/Makefile.in\n",
            "mecab-0.996-ko-0.9.2/mecab.iss.in\n",
            "mecab-0.996-ko-0.9.2/config.guess\n",
            "mecab-0.996-ko-0.9.2/README\n",
            "mecab-0.996-ko-0.9.2/COPYING\n",
            "mecab-0.996-ko-0.9.2/CHANGES.md\n",
            "mecab-0.996-ko-0.9.2/README.md\n",
            "mecab-0.996-ko-0.9.2/INSTALL\n",
            "mecab-0.996-ko-0.9.2/config.sub\n",
            "mecab-0.996-ko-0.9.2/configure.in\n",
            "mecab-0.996-ko-0.9.2/swig/\n",
            "mecab-0.996-ko-0.9.2/swig/Makefile\n",
            "mecab-0.996-ko-0.9.2/swig/version.h.in\n",
            "mecab-0.996-ko-0.9.2/swig/version.h\n",
            "mecab-0.996-ko-0.9.2/swig/MeCab.i\n",
            "mecab-0.996-ko-0.9.2/aclocal.m4\n",
            "mecab-0.996-ko-0.9.2/LGPL\n",
            "mecab-0.996-ko-0.9.2/Makefile.am\n",
            "mecab-0.996-ko-0.9.2/configure\n",
            "mecab-0.996-ko-0.9.2/tests/\n",
            "mecab-0.996-ko-0.9.2/tests/autolink/\n",
            "mecab-0.996-ko-0.9.2/tests/autolink/unk.def\n",
            "mecab-0.996-ko-0.9.2/tests/autolink/dicrc\n",
            "mecab-0.996-ko-0.9.2/tests/autolink/dic.csv\n",
            "mecab-0.996-ko-0.9.2/tests/autolink/test\n",
            "mecab-0.996-ko-0.9.2/tests/autolink/char.def\n",
            "mecab-0.996-ko-0.9.2/tests/autolink/matrix.def\n",
            "mecab-0.996-ko-0.9.2/tests/autolink/test.gld\n",
            "mecab-0.996-ko-0.9.2/tests/t9/\n",
            "mecab-0.996-ko-0.9.2/tests/t9/unk.def\n",
            "mecab-0.996-ko-0.9.2/tests/t9/ipadic.pl\n",
            "mecab-0.996-ko-0.9.2/tests/t9/dicrc\n",
            "mecab-0.996-ko-0.9.2/tests/t9/dic.csv\n",
            "mecab-0.996-ko-0.9.2/tests/t9/test\n",
            "mecab-0.996-ko-0.9.2/tests/t9/char.def\n",
            "mecab-0.996-ko-0.9.2/tests/t9/matrix.def\n",
            "mecab-0.996-ko-0.9.2/tests/t9/mkdic.pl\n",
            "mecab-0.996-ko-0.9.2/tests/t9/test.gld\n",
            "mecab-0.996-ko-0.9.2/tests/cost-train/\n",
            "mecab-0.996-ko-0.9.2/tests/cost-train/ipa.train\n",
            "mecab-0.996-ko-0.9.2/tests/cost-train/ipa.test\n",
            "mecab-0.996-ko-0.9.2/tests/cost-train/seed/\n",
            "mecab-0.996-ko-0.9.2/tests/cost-train/seed/rewrite.def\n",
            "mecab-0.996-ko-0.9.2/tests/cost-train/seed/feature.def\n",
            "mecab-0.996-ko-0.9.2/tests/cost-train/seed/unk.def\n",
            "mecab-0.996-ko-0.9.2/tests/cost-train/seed/dicrc\n",
            "mecab-0.996-ko-0.9.2/tests/cost-train/seed/dic.csv\n",
            "mecab-0.996-ko-0.9.2/tests/cost-train/seed/char.def\n",
            "mecab-0.996-ko-0.9.2/tests/cost-train/seed/matrix.def\n",
            "mecab-0.996-ko-0.9.2/tests/run-eval.sh\n",
            "mecab-0.996-ko-0.9.2/tests/run-cost-train.sh\n",
            "mecab-0.996-ko-0.9.2/tests/Makefile.am\n",
            "mecab-0.996-ko-0.9.2/tests/katakana/\n",
            "mecab-0.996-ko-0.9.2/tests/katakana/unk.def\n",
            "mecab-0.996-ko-0.9.2/tests/katakana/dicrc\n",
            "mecab-0.996-ko-0.9.2/tests/katakana/dic.csv\n",
            "mecab-0.996-ko-0.9.2/tests/katakana/test\n",
            "mecab-0.996-ko-0.9.2/tests/katakana/char.def\n",
            "mecab-0.996-ko-0.9.2/tests/katakana/matrix.def\n",
            "mecab-0.996-ko-0.9.2/tests/katakana/test.gld\n",
            "mecab-0.996-ko-0.9.2/tests/eval/\n",
            "mecab-0.996-ko-0.9.2/tests/eval/answer\n",
            "mecab-0.996-ko-0.9.2/tests/eval/system\n",
            "mecab-0.996-ko-0.9.2/tests/eval/test.gld\n",
            "mecab-0.996-ko-0.9.2/tests/shiin/\n",
            "mecab-0.996-ko-0.9.2/tests/shiin/unk.def\n",
            "mecab-0.996-ko-0.9.2/tests/shiin/dicrc\n",
            "mecab-0.996-ko-0.9.2/tests/shiin/dic.csv\n",
            "mecab-0.996-ko-0.9.2/tests/shiin/test\n",
            "mecab-0.996-ko-0.9.2/tests/shiin/char.def\n",
            "mecab-0.996-ko-0.9.2/tests/shiin/matrix.def\n",
            "mecab-0.996-ko-0.9.2/tests/shiin/mkdic.pl\n",
            "mecab-0.996-ko-0.9.2/tests/shiin/test.gld\n",
            "mecab-0.996-ko-0.9.2/tests/latin/\n",
            "mecab-0.996-ko-0.9.2/tests/latin/unk.def\n",
            "mecab-0.996-ko-0.9.2/tests/latin/dicrc\n",
            "mecab-0.996-ko-0.9.2/tests/latin/dic.csv\n",
            "mecab-0.996-ko-0.9.2/tests/latin/test\n",
            "mecab-0.996-ko-0.9.2/tests/latin/char.def\n",
            "mecab-0.996-ko-0.9.2/tests/latin/matrix.def\n",
            "mecab-0.996-ko-0.9.2/tests/latin/test.gld\n",
            "mecab-0.996-ko-0.9.2/tests/chartype/\n",
            "mecab-0.996-ko-0.9.2/tests/chartype/unk.def\n",
            "mecab-0.996-ko-0.9.2/tests/chartype/dicrc\n",
            "mecab-0.996-ko-0.9.2/tests/chartype/dic.csv\n",
            "mecab-0.996-ko-0.9.2/tests/chartype/test\n",
            "mecab-0.996-ko-0.9.2/tests/chartype/char.def\n",
            "mecab-0.996-ko-0.9.2/tests/chartype/matrix.def\n",
            "mecab-0.996-ko-0.9.2/tests/chartype/test.gld\n",
            "mecab-0.996-ko-0.9.2/tests/run-dics.sh\n",
            "mecab-0.996-ko-0.9.2/tests/ngram/\n",
            "mecab-0.996-ko-0.9.2/tests/ngram/unk.def\n",
            "mecab-0.996-ko-0.9.2/tests/ngram/dicrc\n",
            "mecab-0.996-ko-0.9.2/tests/ngram/dic.csv\n",
            "mecab-0.996-ko-0.9.2/tests/ngram/test\n",
            "mecab-0.996-ko-0.9.2/tests/ngram/char.def\n",
            "mecab-0.996-ko-0.9.2/tests/ngram/matrix.def\n",
            "mecab-0.996-ko-0.9.2/tests/ngram/test.gld\n",
            "mecab-0.996-ko-0.9.2/tests/Makefile.in\n",
            "mecab-0.996-ko-0.9.2/ltmain.sh\n",
            "mecab-0.996-ko-0.9.2/config.rpath\n",
            "mecab-0.996-ko-0.9.2/config.h.in\n",
            "mecab-0.996-ko-0.9.2/mecabrc.in\n",
            "mecab-0.996-ko-0.9.2/GPL\n",
            "mecab-0.996-ko-0.9.2/Makefile.train\n",
            "mecab-0.996-ko-0.9.2/ChangeLog\n",
            "mecab-0.996-ko-0.9.2/install-sh\n",
            "mecab-0.996-ko-0.9.2/AUTHORS\n",
            "mecab-0.996-ko-0.9.2/doc/\n",
            "mecab-0.996-ko-0.9.2/doc/bindings.html\n",
            "mecab-0.996-ko-0.9.2/doc/posid.html\n",
            "mecab-0.996-ko-0.9.2/doc/unk.html\n",
            "mecab-0.996-ko-0.9.2/doc/learn.html\n",
            "mecab-0.996-ko-0.9.2/doc/format.html\n",
            "mecab-0.996-ko-0.9.2/doc/libmecab.html\n",
            "mecab-0.996-ko-0.9.2/doc/mecab.css\n",
            "mecab-0.996-ko-0.9.2/doc/feature.html\n",
            "mecab-0.996-ko-0.9.2/doc/Makefile.am\n",
            "mecab-0.996-ko-0.9.2/doc/soft.html\n",
            "mecab-0.996-ko-0.9.2/doc/en/\n",
            "mecab-0.996-ko-0.9.2/doc/en/bindings.html\n",
            "mecab-0.996-ko-0.9.2/doc/dic-detail.html\n",
            "mecab-0.996-ko-0.9.2/doc/flow.png\n",
            "mecab-0.996-ko-0.9.2/doc/mecab.html\n",
            "mecab-0.996-ko-0.9.2/doc/index.html\n",
            "mecab-0.996-ko-0.9.2/doc/result.png\n",
            "mecab-0.996-ko-0.9.2/doc/doxygen/\n",
            "mecab-0.996-ko-0.9.2/doc/doxygen/tab_a.png\n",
            "mecab-0.996-ko-0.9.2/doc/doxygen/globals_eval.html\n",
            "mecab-0.996-ko-0.9.2/doc/doxygen/classMeCab_1_1Tagger-members.html\n",
            "mecab-0.996-ko-0.9.2/doc/doxygen/functions_vars.html\n",
            "mecab-0.996-ko-0.9.2/doc/doxygen/doxygen.css\n",
            "mecab-0.996-ko-0.9.2/doc/doxygen/tab_r.gif\n",
            "mecab-0.996-ko-0.9.2/doc/doxygen/classMeCab_1_1Lattice.html\n",
            "mecab-0.996-ko-0.9.2/doc/doxygen/functions.html\n",
            "mecab-0.996-ko-0.9.2/doc/doxygen/classMeCab_1_1Tagger.html\n",
            "mecab-0.996-ko-0.9.2/doc/doxygen/mecab_8h_source.html\n",
            "mecab-0.996-ko-0.9.2/doc/doxygen/tabs.css\n",
            "mecab-0.996-ko-0.9.2/doc/doxygen/nav_f.png\n",
            "mecab-0.996-ko-0.9.2/doc/doxygen/tab_b.png\n",
            "mecab-0.996-ko-0.9.2/doc/doxygen/globals.html\n",
            "mecab-0.996-ko-0.9.2/doc/doxygen/nav_h.png\n",
            "mecab-0.996-ko-0.9.2/doc/doxygen/tab_h.png\n",
            "mecab-0.996-ko-0.9.2/doc/doxygen/classMeCab_1_1Model.html\n",
            "mecab-0.996-ko-0.9.2/doc/doxygen/globals_func.html\n",
            "mecab-0.996-ko-0.9.2/doc/doxygen/closed.png\n",
            "mecab-0.996-ko-0.9.2/doc/doxygen/tab_l.gif\n",
            "mecab-0.996-ko-0.9.2/doc/doxygen/structmecab__path__t-members.html\n",
            "mecab-0.996-ko-0.9.2/doc/doxygen/functions_func.html\n",
            "mecab-0.996-ko-0.9.2/doc/doxygen/globals_type.html\n",
            "mecab-0.996-ko-0.9.2/doc/doxygen/classMeCab_1_1Lattice-members.html\n",
            "mecab-0.996-ko-0.9.2/doc/doxygen/structmecab__node__t.html\n",
            "mecab-0.996-ko-0.9.2/doc/doxygen/namespacemembers_func.html\n",
            "mecab-0.996-ko-0.9.2/doc/doxygen/tab_s.png\n",
            "mecab-0.996-ko-0.9.2/doc/doxygen/structmecab__dictionary__info__t-members.html\n",
            "mecab-0.996-ko-0.9.2/doc/doxygen/namespacemembers_type.html\n",
            "mecab-0.996-ko-0.9.2/doc/doxygen/classMeCab_1_1Model-members.html\n",
            "mecab-0.996-ko-0.9.2/doc/doxygen/structmecab__dictionary__info__t.html\n",
            "mecab-0.996-ko-0.9.2/doc/doxygen/namespaces.html\n",
            "mecab-0.996-ko-0.9.2/doc/doxygen/namespacemembers.html\n",
            "mecab-0.996-ko-0.9.2/doc/doxygen/namespaceMeCab.html\n",
            "mecab-0.996-ko-0.9.2/doc/doxygen/structmecab__path__t.html\n",
            "mecab-0.996-ko-0.9.2/doc/doxygen/files.html\n",
            "mecab-0.996-ko-0.9.2/doc/doxygen/structmecab__node__t-members.html\n",
            "mecab-0.996-ko-0.9.2/doc/doxygen/index.html\n",
            "mecab-0.996-ko-0.9.2/doc/doxygen/annotated.html\n",
            "mecab-0.996-ko-0.9.2/doc/doxygen/globals_defs.html\n",
            "mecab-0.996-ko-0.9.2/doc/doxygen/classes.html\n",
            "mecab-0.996-ko-0.9.2/doc/doxygen/mecab_8h-source.html\n",
            "mecab-0.996-ko-0.9.2/doc/doxygen/doxygen.png\n",
            "mecab-0.996-ko-0.9.2/doc/doxygen/tab_b.gif\n",
            "mecab-0.996-ko-0.9.2/doc/doxygen/bc_s.png\n",
            "mecab-0.996-ko-0.9.2/doc/doxygen/open.png\n",
            "mecab-0.996-ko-0.9.2/doc/doxygen/mecab_8h.html\n",
            "mecab-0.996-ko-0.9.2/doc/dic.html\n",
            "mecab-0.996-ko-0.9.2/doc/partial.html\n",
            "mecab-0.996-ko-0.9.2/doc/feature.png\n",
            "mecab-0.996-ko-0.9.2/doc/Makefile.in\n",
            "mecab-0.996-ko-0.9.2/missing\n",
            "mecab-0.996-ko-0.9.2/BSD\n",
            "mecab-0.996-ko-0.9.2/NEWS\n",
            "mecab-0.996-ko-0.9.2/mkinstalldirs\n",
            "mecab-0.996-ko-0.9.2/src/\n",
            "mecab-0.996-ko-0.9.2/src/dictionary.h\n",
            "mecab-0.996-ko-0.9.2/src/writer.h\n",
            "mecab-0.996-ko-0.9.2/src/utils.h\n",
            "mecab-0.996-ko-0.9.2/src/string_buffer.cpp\n",
            "mecab-0.996-ko-0.9.2/src/tokenizer.cpp\n",
            "mecab-0.996-ko-0.9.2/src/make.bat\n",
            "mecab-0.996-ko-0.9.2/src/mecab.h\n",
            "mecab-0.996-ko-0.9.2/src/freelist.h\n",
            "mecab-0.996-ko-0.9.2/src/string_buffer.h\n",
            "mecab-0.996-ko-0.9.2/src/learner_tagger.h\n",
            "mecab-0.996-ko-0.9.2/src/dictionary_compiler.cpp\n",
            "mecab-0.996-ko-0.9.2/src/eval.cpp\n",
            "mecab-0.996-ko-0.9.2/src/mecab-system-eval.cpp\n",
            "mecab-0.996-ko-0.9.2/src/darts.h\n",
            "mecab-0.996-ko-0.9.2/src/param.h\n",
            "mecab-0.996-ko-0.9.2/src/char_property.h\n",
            "mecab-0.996-ko-0.9.2/src/learner_node.h\n",
            "mecab-0.996-ko-0.9.2/src/mecab-dict-gen.cpp\n",
            "mecab-0.996-ko-0.9.2/src/mecab-dict-index.cpp\n",
            "mecab-0.996-ko-0.9.2/src/winmain.h\n",
            "mecab-0.996-ko-0.9.2/src/thread.h\n",
            "mecab-0.996-ko-0.9.2/src/context_id.cpp\n",
            "mecab-0.996-ko-0.9.2/src/Makefile.am\n",
            "mecab-0.996-ko-0.9.2/src/connector.h\n",
            "mecab-0.996-ko-0.9.2/src/common.h\n",
            "mecab-0.996-ko-0.9.2/src/dictionary_rewriter.cpp\n",
            "mecab-0.996-ko-0.9.2/src/Makefile.msvc.in\n",
            "mecab-0.996-ko-0.9.2/src/dictionary_rewriter.h\n",
            "mecab-0.996-ko-0.9.2/src/feature_index.h\n",
            "mecab-0.996-ko-0.9.2/src/iconv_utils.cpp\n",
            "mecab-0.996-ko-0.9.2/src/char_property.cpp\n",
            "mecab-0.996-ko-0.9.2/src/mecab-test-gen.cpp\n",
            "mecab-0.996-ko-0.9.2/src/tagger.cpp\n",
            "mecab-0.996-ko-0.9.2/src/mecab-cost-train.cpp\n",
            "mecab-0.996-ko-0.9.2/src/learner.cpp\n",
            "mecab-0.996-ko-0.9.2/src/dictionary.cpp\n",
            "mecab-0.996-ko-0.9.2/src/lbfgs.cpp\n",
            "mecab-0.996-ko-0.9.2/src/ucs.h\n",
            "mecab-0.996-ko-0.9.2/src/writer.cpp\n",
            "mecab-0.996-ko-0.9.2/src/learner_tagger.cpp\n",
            "mecab-0.996-ko-0.9.2/src/lbfgs.h\n",
            "mecab-0.996-ko-0.9.2/src/libmecab.cpp\n",
            "mecab-0.996-ko-0.9.2/src/tokenizer.h\n",
            "mecab-0.996-ko-0.9.2/src/mecab.cpp\n",
            "mecab-0.996-ko-0.9.2/src/utils.cpp\n",
            "mecab-0.996-ko-0.9.2/src/dictionary_generator.cpp\n",
            "mecab-0.996-ko-0.9.2/src/param.cpp\n",
            "mecab-0.996-ko-0.9.2/src/context_id.h\n",
            "mecab-0.996-ko-0.9.2/src/mmap.h\n",
            "mecab-0.996-ko-0.9.2/src/viterbi.h\n",
            "mecab-0.996-ko-0.9.2/src/viterbi.cpp\n",
            "mecab-0.996-ko-0.9.2/src/stream_wrapper.h\n",
            "mecab-0.996-ko-0.9.2/src/feature_index.cpp\n",
            "mecab-0.996-ko-0.9.2/src/nbest_generator.h\n",
            "mecab-0.996-ko-0.9.2/src/ucstable.h\n",
            "mecab-0.996-ko-0.9.2/src/nbest_generator.cpp\n",
            "mecab-0.996-ko-0.9.2/src/iconv_utils.h\n",
            "mecab-0.996-ko-0.9.2/src/connector.cpp\n",
            "mecab-0.996-ko-0.9.2/src/Makefile.in\n",
            "mecab-0.996-ko-0.9.2/src/scoped_ptr.h\n",
            "mecab-0.996-ko-0.9.2/Makefile.in\n",
            "checking for a BSD-compatible install... /usr/bin/install -c\n",
            "checking whether build environment is sane... yes\n",
            "checking for a thread-safe mkdir -p... /bin/mkdir -p\n",
            "checking for gawk... no\n",
            "checking for mawk... mawk\n",
            "checking whether make sets $(MAKE)... yes\n",
            "checking for gcc... gcc\n",
            "checking whether the C compiler works... yes\n",
            "checking for C compiler default output file name... a.out\n",
            "checking for suffix of executables... \n",
            "checking whether we are cross compiling... no\n",
            "checking for suffix of object files... o\n",
            "checking whether we are using the GNU C compiler... yes\n",
            "checking whether gcc accepts -g... yes\n",
            "checking for gcc option to accept ISO C89... none needed\n",
            "checking for style of include used by make... GNU\n",
            "checking dependency style of gcc... none\n",
            "checking for g++... g++\n",
            "checking whether we are using the GNU C++ compiler... yes\n",
            "checking whether g++ accepts -g... yes\n",
            "checking dependency style of g++... none\n",
            "checking how to run the C preprocessor... gcc -E\n",
            "checking for grep that handles long lines and -e... /bin/grep\n",
            "checking for egrep... /bin/grep -E\n",
            "checking whether gcc needs -traditional... no\n",
            "checking whether make sets $(MAKE)... (cached) yes\n",
            "checking build system type... x86_64-unknown-linux-gnu\n",
            "checking host system type... x86_64-unknown-linux-gnu\n",
            "checking how to print strings... printf\n",
            "checking for a sed that does not truncate output... /bin/sed\n",
            "checking for fgrep... /bin/grep -F\n",
            "checking for ld used by gcc... /usr/bin/ld\n",
            "checking if the linker (/usr/bin/ld) is GNU ld... yes\n",
            "checking for BSD- or MS-compatible name lister (nm)... /usr/bin/nm -B\n",
            "checking the name lister (/usr/bin/nm -B) interface... BSD nm\n",
            "checking whether ln -s works... yes\n",
            "checking the maximum length of command line arguments... 1572864\n",
            "checking whether the shell understands some XSI constructs... yes\n",
            "checking whether the shell understands \"+=\"... yes\n",
            "checking how to convert x86_64-unknown-linux-gnu file names to x86_64-unknown-linux-gnu format... func_convert_file_noop\n",
            "checking how to convert x86_64-unknown-linux-gnu file names to toolchain format... func_convert_file_noop\n",
            "checking for /usr/bin/ld option to reload object files... -r\n",
            "checking for objdump... objdump\n",
            "checking how to recognize dependent libraries... pass_all\n",
            "checking for dlltool... dlltool\n",
            "checking how to associate runtime and link libraries... printf %s\\n\n",
            "checking for ar... ar\n",
            "checking for archiver @FILE support... @\n",
            "checking for strip... strip\n",
            "checking for ranlib... ranlib\n",
            "checking command to parse /usr/bin/nm -B output from gcc object... ok\n",
            "checking for sysroot... no\n",
            "./configure: line 7378: /usr/bin/file: No such file or directory\n",
            "checking for mt... no\n",
            "checking if : is a manifest tool... no\n",
            "checking for ANSI C header files... yes\n",
            "checking for sys/types.h... yes\n",
            "checking for sys/stat.h... yes\n",
            "checking for stdlib.h... yes\n",
            "checking for string.h... yes\n",
            "checking for memory.h... yes\n",
            "checking for strings.h... yes\n",
            "checking for inttypes.h... yes\n",
            "checking for stdint.h... yes\n",
            "checking for unistd.h... yes\n",
            "checking for dlfcn.h... yes\n",
            "checking for objdir... .libs\n",
            "checking if gcc supports -fno-rtti -fno-exceptions... no\n",
            "checking for gcc option to produce PIC... -fPIC -DPIC\n",
            "checking if gcc PIC flag -fPIC -DPIC works... yes\n",
            "checking if gcc static flag -static works... yes\n",
            "checking if gcc supports -c -o file.o... yes\n",
            "checking if gcc supports -c -o file.o... (cached) yes\n",
            "checking whether the gcc linker (/usr/bin/ld) supports shared libraries... yes\n",
            "checking whether -lc should be explicitly linked in... no\n",
            "checking dynamic linker characteristics... GNU/Linux ld.so\n",
            "checking how to hardcode library paths into programs... immediate\n",
            "checking whether stripping libraries is possible... yes\n",
            "checking if libtool supports shared libraries... yes\n",
            "checking whether to build shared libraries... yes\n",
            "checking whether to build static libraries... yes\n",
            "checking how to run the C++ preprocessor... g++ -E\n",
            "checking for ld used by g++... /usr/bin/ld\n",
            "checking if the linker (/usr/bin/ld) is GNU ld... yes\n",
            "checking whether the g++ linker (/usr/bin/ld) supports shared libraries... yes\n",
            "checking for g++ option to produce PIC... -fPIC -DPIC\n",
            "checking if g++ PIC flag -fPIC -DPIC works... yes\n",
            "checking if g++ static flag -static works... yes\n",
            "checking if g++ supports -c -o file.o... yes\n",
            "checking if g++ supports -c -o file.o... (cached) yes\n",
            "checking whether the g++ linker (/usr/bin/ld) supports shared libraries... yes\n",
            "checking dynamic linker characteristics... (cached) GNU/Linux ld.so\n",
            "checking how to hardcode library paths into programs... immediate\n",
            "checking for library containing strerror... none required\n",
            "checking whether byte ordering is bigendian... no\n",
            "checking for ld used by GCC... /usr/bin/ld\n",
            "checking if the linker (/usr/bin/ld) is GNU ld... yes\n",
            "checking for shared library run path origin... done\n",
            "checking for iconv... yes\n",
            "checking for working iconv... yes\n",
            "checking for iconv declaration... \n",
            "         extern size_t iconv (iconv_t cd, char * *inbuf, size_t *inbytesleft, char * *outbuf, size_t *outbytesleft);\n",
            "checking for ANSI C header files... (cached) yes\n",
            "checking for an ANSI C-conforming const... yes\n",
            "checking whether byte ordering is bigendian... (cached) no\n",
            "checking for string.h... (cached) yes\n",
            "checking for stdlib.h... (cached) yes\n",
            "checking for unistd.h... (cached) yes\n",
            "checking fcntl.h usability... yes\n",
            "checking fcntl.h presence... yes\n",
            "checking for fcntl.h... yes\n",
            "checking for stdint.h... (cached) yes\n",
            "checking for sys/stat.h... (cached) yes\n",
            "checking sys/mman.h usability... yes\n",
            "checking sys/mman.h presence... yes\n",
            "checking for sys/mman.h... yes\n",
            "checking sys/times.h usability... yes\n",
            "checking sys/times.h presence... yes\n",
            "checking for sys/times.h... yes\n",
            "checking for sys/types.h... (cached) yes\n",
            "checking dirent.h usability... yes\n",
            "checking dirent.h presence... yes\n",
            "checking for dirent.h... yes\n",
            "checking ctype.h usability... yes\n",
            "checking ctype.h presence... yes\n",
            "checking for ctype.h... yes\n",
            "checking for sys/types.h... (cached) yes\n",
            "checking io.h usability... no\n",
            "checking io.h presence... no\n",
            "checking for io.h... no\n",
            "checking windows.h usability... no\n",
            "checking windows.h presence... no\n",
            "checking for windows.h... no\n",
            "checking pthread.h usability... yes\n",
            "checking pthread.h presence... yes\n",
            "checking for pthread.h... yes\n",
            "checking for off_t... yes\n",
            "checking for size_t... yes\n",
            "checking size of char... 1\n",
            "checking size of short... 2\n",
            "checking size of int... 4\n",
            "checking size of long... 8\n",
            "checking size of long long... 8\n",
            "checking size of size_t... 8\n",
            "checking for size_t... (cached) yes\n",
            "checking for unsigned long long int... yes\n",
            "checking for stdlib.h... (cached) yes\n",
            "checking for unistd.h... (cached) yes\n",
            "checking for sys/param.h... yes\n",
            "checking for getpagesize... yes\n",
            "checking for working mmap... yes\n",
            "checking for main in -lstdc++... yes\n",
            "checking for pthread_create in -lpthread... yes\n",
            "checking for pthread_join in -lpthread... yes\n",
            "checking for getenv... yes\n",
            "checking for opendir... yes\n",
            "checking whether make is GNU Make... yes\n",
            "checking if g++ supports stl <vector> (required)... yes\n",
            "checking if g++ supports stl <list> (required)... yes\n",
            "checking if g++ supports stl <map> (required)... yes\n",
            "checking if g++ supports stl <set> (required)... yes\n",
            "checking if g++ supports stl <queue> (required)... yes\n",
            "checking if g++ supports stl <functional> (required)... yes\n",
            "checking if g++ supports stl <algorithm> (required)... yes\n",
            "checking if g++ supports stl <string> (required)... yes\n",
            "checking if g++ supports stl <iostream> (required)... yes\n",
            "checking if g++ supports stl <sstream> (required)... yes\n",
            "checking if g++ supports stl <fstream> (required)... yes\n",
            "checking if g++ supports template <class T> (required)... yes\n",
            "checking if g++ supports const_cast<> (required)... yes\n",
            "checking if g++ supports static_cast<> (required)... yes\n",
            "checking if g++ supports reinterpret_cast<> (required)... yes\n",
            "checking if g++ supports namespaces (required) ... yes\n",
            "checking if g++ supports __thread (optional)... yes\n",
            "checking if g++ supports template <class T> (required)... yes\n",
            "checking if g++ supports GCC native atomic operations (optional)... yes\n",
            "checking if g++ supports OSX native atomic operations (optional)... no\n",
            "checking if g++ environment provides all required features... yes\n",
            "configure: creating ./config.status\n",
            "config.status: creating Makefile\n",
            "config.status: creating src/Makefile\n",
            "config.status: creating src/Makefile.msvc\n",
            "config.status: creating man/Makefile\n",
            "config.status: creating doc/Makefile\n",
            "config.status: creating tests/Makefile\n",
            "config.status: creating swig/version.h\n",
            "config.status: creating mecab.iss\n",
            "config.status: creating mecab-config\n",
            "config.status: creating mecabrc\n",
            "config.status: creating config.h\n",
            "config.status: config.h is unchanged\n",
            "config.status: executing depfiles commands\n",
            "config.status: executing libtool commands\n",
            "config.status: executing default commands\n",
            "make  all-recursive\n",
            "make[1]: Entering directory '/tmp/mecab-0.996-ko-0.9.2'\n",
            "Making all in src\n",
            "make[2]: Entering directory '/tmp/mecab-0.996-ko-0.9.2/src'\n",
            "make[2]: Nothing to be done for 'all'.\n",
            "make[2]: Leaving directory '/tmp/mecab-0.996-ko-0.9.2/src'\n",
            "Making all in man\n",
            "make[2]: Entering directory '/tmp/mecab-0.996-ko-0.9.2/man'\n",
            "make[2]: Nothing to be done for 'all'.\n",
            "make[2]: Leaving directory '/tmp/mecab-0.996-ko-0.9.2/man'\n",
            "Making all in doc\n",
            "make[2]: Entering directory '/tmp/mecab-0.996-ko-0.9.2/doc'\n",
            "make[2]: Nothing to be done for 'all'.\n",
            "make[2]: Leaving directory '/tmp/mecab-0.996-ko-0.9.2/doc'\n",
            "Making all in tests\n",
            "make[2]: Entering directory '/tmp/mecab-0.996-ko-0.9.2/tests'\n",
            "make[2]: Nothing to be done for 'all'.\n",
            "make[2]: Leaving directory '/tmp/mecab-0.996-ko-0.9.2/tests'\n",
            "make[2]: Entering directory '/tmp/mecab-0.996-ko-0.9.2'\n",
            "make[2]: Leaving directory '/tmp/mecab-0.996-ko-0.9.2'\n",
            "make[1]: Leaving directory '/tmp/mecab-0.996-ko-0.9.2'\n",
            "Making check in src\n",
            "make[1]: Entering directory '/tmp/mecab-0.996-ko-0.9.2/src'\n",
            "make[1]: Nothing to be done for 'check'.\n",
            "make[1]: Leaving directory '/tmp/mecab-0.996-ko-0.9.2/src'\n",
            "Making check in man\n",
            "make[1]: Entering directory '/tmp/mecab-0.996-ko-0.9.2/man'\n",
            "make[1]: Nothing to be done for 'check'.\n",
            "make[1]: Leaving directory '/tmp/mecab-0.996-ko-0.9.2/man'\n",
            "Making check in doc\n",
            "make[1]: Entering directory '/tmp/mecab-0.996-ko-0.9.2/doc'\n",
            "make[1]: Nothing to be done for 'check'.\n",
            "make[1]: Leaving directory '/tmp/mecab-0.996-ko-0.9.2/doc'\n",
            "Making check in tests\n",
            "make[1]: Entering directory '/tmp/mecab-0.996-ko-0.9.2/tests'\n",
            "make  check-TESTS\n",
            "make[2]: Entering directory '/tmp/mecab-0.996-ko-0.9.2/tests'\n",
            "./pos-id.def is not found. minimum setting is used\n",
            "reading ./unk.def ... 2\n",
            "emitting double-array: 100% |###########################################| \n",
            "./model.def is not found. skipped.\n",
            "./pos-id.def is not found. minimum setting is used\n",
            "reading ./dic.csv ... 177\n",
            "emitting double-array: 100% |###########################################| \n",
            "reading ./matrix.def ... 178x178\n",
            "emitting matrix      : 100% |###########################################| \n",
            "\n",
            "done!\n",
            "./pos-id.def is not found. minimum setting is used\n",
            "reading ./unk.def ... 2\n",
            "emitting double-array: 100% |###########################################| \n",
            "./model.def is not found. skipped.\n",
            "./pos-id.def is not found. minimum setting is used\n",
            "reading ./dic.csv ... 83\n",
            "emitting double-array: 100% |###########################################| \n",
            "reading ./matrix.def ... 84x84\n",
            "emitting matrix      : 100% |###########################################| \n",
            "\n",
            "done!\n",
            "./pos-id.def is not found. minimum setting is used\n",
            "reading ./unk.def ... 2\n",
            "emitting double-array: 100% |###########################################| \n",
            "./model.def is not found. skipped.\n",
            "./pos-id.def is not found. minimum setting is used\n",
            "reading ./dic.csv ... 450\n",
            "emitting double-array: 100% |###########################################| \n",
            "reading ./matrix.def ... 1x1\n",
            "\n",
            "done!\n",
            "./pos-id.def is not found. minimum setting is used\n",
            "reading ./unk.def ... 2\n",
            "emitting double-array: 100% |###########################################| \n",
            "./model.def is not found. skipped.\n",
            "./pos-id.def is not found. minimum setting is used\n",
            "reading ./dic.csv ... 162\n",
            "emitting double-array: 100% |###########################################| \n",
            "reading ./matrix.def ... 3x3\n",
            "emitting matrix      : 100% |###########################################| \n",
            "\n",
            "done!\n",
            "./pos-id.def is not found. minimum setting is used\n",
            "reading ./unk.def ... 2\n",
            "emitting double-array: 100% |###########################################| \n",
            "./model.def is not found. skipped.\n",
            "./pos-id.def is not found. minimum setting is used\n",
            "reading ./dic.csv ... 4\n",
            "emitting double-array: 100% |###########################################| \n",
            "reading ./matrix.def ... 1x1\n",
            "\n",
            "done!\n",
            "./pos-id.def is not found. minimum setting is used\n",
            "reading ./unk.def ... 11\n",
            "emitting double-array: 100% |###########################################| \n",
            "./model.def is not found. skipped.\n",
            "./pos-id.def is not found. minimum setting is used\n",
            "reading ./dic.csv ... 1\n",
            "reading ./matrix.def ... 1x1\n",
            "\n",
            "done!\n",
            "./pos-id.def is not found. minimum setting is used\n",
            "reading ./unk.def ... 2\n",
            "emitting double-array: 100% |###########################################| \n",
            "./model.def is not found. skipped.\n",
            "./pos-id.def is not found. minimum setting is used\n",
            "reading ./dic.csv ... 1\n",
            "reading ./matrix.def ... 1x1\n",
            "\n",
            "done!\n",
            "PASS: run-dics.sh\n",
            "PASS: run-eval.sh\n",
            "seed/pos-id.def is not found. minimum setting is used\n",
            "reading seed/unk.def ... 40\n",
            "emitting double-array: 100% |###########################################| \n",
            "seed/model.def is not found. skipped.\n",
            "seed/pos-id.def is not found. minimum setting is used\n",
            "reading seed/dic.csv ... 4335\n",
            "emitting double-array: 100% |###########################################| \n",
            "reading seed/matrix.def ... 1x1\n",
            "\n",
            "done!\n",
            "reading corpus ...\n",
            "Number of sentences: 34\n",
            "Number of features:  64108\n",
            "eta:                 0.00005\n",
            "freq:                1\n",
            "eval-size:           6\n",
            "unk-eval-size:       4\n",
            "threads:             1\n",
            "charset:             EUC-JP\n",
            "C(sigma^2):          1.00000\n",
            "\n",
            "iter=0 err=1.00000 F=0.35771 target=2406.28355 diff=1.00000\n",
            "iter=1 err=0.97059 F=0.65652 target=1484.25231 diff=0.38318\n",
            "iter=2 err=0.91176 F=0.79331 target=863.32765 diff=0.41834\n",
            "iter=3 err=0.85294 F=0.89213 target=596.72480 diff=0.30881\n",
            "iter=4 err=0.61765 F=0.95467 target=336.30744 diff=0.43641\n",
            "iter=5 err=0.50000 F=0.96702 target=246.53039 diff=0.26695\n",
            "iter=6 err=0.35294 F=0.95472 target=188.93963 diff=0.23361\n",
            "iter=7 err=0.20588 F=0.99106 target=168.62665 diff=0.10751\n",
            "iter=8 err=0.05882 F=0.99777 target=158.64865 diff=0.05917\n",
            "iter=9 err=0.08824 F=0.99665 target=154.14530 diff=0.02839\n",
            "iter=10 err=0.08824 F=0.99665 target=151.94257 diff=0.01429\n",
            "iter=11 err=0.02941 F=0.99888 target=147.20825 diff=0.03116\n",
            "iter=12 err=0.00000 F=1.00000 target=147.34956 diff=0.00096\n",
            "iter=13 err=0.02941 F=0.99888 target=146.32592 diff=0.00695\n",
            "iter=14 err=0.00000 F=1.00000 target=145.77299 diff=0.00378\n",
            "iter=15 err=0.02941 F=0.99888 target=145.24641 diff=0.00361\n",
            "iter=16 err=0.00000 F=1.00000 target=144.96490 diff=0.00194\n",
            "iter=17 err=0.02941 F=0.99888 target=144.90246 diff=0.00043\n",
            "iter=18 err=0.00000 F=1.00000 target=144.75959 diff=0.00099\n",
            "iter=19 err=0.00000 F=1.00000 target=144.71727 diff=0.00029\n",
            "iter=20 err=0.00000 F=1.00000 target=144.66337 diff=0.00037\n",
            "iter=21 err=0.00000 F=1.00000 target=144.61349 diff=0.00034\n",
            "iter=22 err=0.00000 F=1.00000 target=144.62987 diff=0.00011\n",
            "iter=23 err=0.00000 F=1.00000 target=144.60060 diff=0.00020\n",
            "iter=24 err=0.00000 F=1.00000 target=144.59125 diff=0.00006\n",
            "iter=25 err=0.00000 F=1.00000 target=144.58619 diff=0.00004\n",
            "iter=26 err=0.00000 F=1.00000 target=144.58219 diff=0.00003\n",
            "iter=27 err=0.00000 F=1.00000 target=144.58059 diff=0.00001\n",
            "\n",
            "Done! writing model file ... \n",
            "model-ipadic.c1.0.f1.model is not a binary model. reopen it as text mode...\n",
            "reading seed/unk.def ... 40\n",
            "reading seed/dic.csv ... 4335\n",
            "emitting model-ipadic.c1.0.f1.dic/left-id.def/ model-ipadic.c1.0.f1.dic/right-id.def\n",
            "emitting model-ipadic.c1.0.f1.dic/unk.def ... 40\n",
            "emitting model-ipadic.c1.0.f1.dic/dic.csv ... 4335\n",
            "emitting matrix      : 100% |###########################################| \n",
            "copying seed/char.def to model-ipadic.c1.0.f1.dic/char.def\n",
            "copying seed/rewrite.def to model-ipadic.c1.0.f1.dic/rewrite.def\n",
            "copying seed/dicrc to model-ipadic.c1.0.f1.dic/dicrc\n",
            "copying seed/feature.def to model-ipadic.c1.0.f1.dic/feature.def\n",
            "copying model-ipadic.c1.0.f1.model to model-ipadic.c1.0.f1.dic/model.def\n",
            "\n",
            "done!\n",
            "model-ipadic.c1.0.f1.dic/pos-id.def is not found. minimum setting is used\n",
            "reading model-ipadic.c1.0.f1.dic/unk.def ... 40\n",
            "emitting double-array: 100% |###########################################| \n",
            "model-ipadic.c1.0.f1.dic/pos-id.def is not found. minimum setting is used\n",
            "reading model-ipadic.c1.0.f1.dic/dic.csv ... 4335\n",
            "emitting double-array: 100% |###########################################| \n",
            "reading model-ipadic.c1.0.f1.dic/matrix.def ... 346x346\n",
            "emitting matrix      : 100% |###########################################| \n",
            "\n",
            "done!\n",
            "              precision          recall         F\n",
            "LEVEL 0:    12.8959(57/442) 11.8998(57/479) 12.3779\n",
            "LEVEL 1:    12.2172(54/442) 11.2735(54/479) 11.7264\n",
            "LEVEL 2:    11.7647(52/442) 10.8559(52/479) 11.2921\n",
            "LEVEL 4:    11.7647(52/442) 10.8559(52/479) 11.2921\n",
            "PASS: run-cost-train.sh\n",
            "==================\n",
            "All 3 tests passed\n",
            "==================\n",
            "make[2]: Leaving directory '/tmp/mecab-0.996-ko-0.9.2/tests'\n",
            "make[1]: Leaving directory '/tmp/mecab-0.996-ko-0.9.2/tests'\n",
            "make[1]: Entering directory '/tmp/mecab-0.996-ko-0.9.2'\n",
            "make[1]: Leaving directory '/tmp/mecab-0.996-ko-0.9.2'\n",
            "Making install in src\n",
            "make[1]: Entering directory '/tmp/mecab-0.996-ko-0.9.2/src'\n",
            "make[2]: Entering directory '/tmp/mecab-0.996-ko-0.9.2/src'\n",
            "test -z \"/usr/local/lib\" || /bin/mkdir -p \"/usr/local/lib\"\n",
            " /bin/bash ../libtool   --mode=install /usr/bin/install -c   libmecab.la '/usr/local/lib'\n",
            "libtool: install: /usr/bin/install -c .libs/libmecab.so.2.0.0 /usr/local/lib/libmecab.so.2.0.0\n",
            "libtool: install: (cd /usr/local/lib && { ln -s -f libmecab.so.2.0.0 libmecab.so.2 || { rm -f libmecab.so.2 && ln -s libmecab.so.2.0.0 libmecab.so.2; }; })\n",
            "libtool: install: (cd /usr/local/lib && { ln -s -f libmecab.so.2.0.0 libmecab.so || { rm -f libmecab.so && ln -s libmecab.so.2.0.0 libmecab.so; }; })\n",
            "libtool: install: /usr/bin/install -c .libs/libmecab.lai /usr/local/lib/libmecab.la\n",
            "libtool: install: /usr/bin/install -c .libs/libmecab.a /usr/local/lib/libmecab.a\n",
            "libtool: install: chmod 644 /usr/local/lib/libmecab.a\n",
            "libtool: install: ranlib /usr/local/lib/libmecab.a\n",
            "libtool: finish: PATH=\"/opt/bin:/usr/local/nvidia/bin:/usr/local/cuda/bin:/usr/local/sbin:/usr/local/bin:/usr/sbin:/usr/bin:/sbin:/bin:/tools/node/bin:/tools/google-cloud-sdk/bin:/sbin\" ldconfig -n /usr/local/lib\n",
            "----------------------------------------------------------------------\n",
            "Libraries have been installed in:\n",
            "   /usr/local/lib\n",
            "\n",
            "If you ever happen to want to link against installed libraries\n",
            "in a given directory, LIBDIR, you must either use libtool, and\n",
            "specify the full pathname of the library, or use the `-LLIBDIR'\n",
            "flag during linking and do at least one of the following:\n",
            "   - add LIBDIR to the `LD_LIBRARY_PATH' environment variable\n",
            "     during execution\n",
            "   - add LIBDIR to the `LD_RUN_PATH' environment variable\n",
            "     during linking\n",
            "   - use the `-Wl,-rpath -Wl,LIBDIR' linker flag\n",
            "   - have your system administrator add LIBDIR to `/etc/ld.so.conf'\n",
            "\n",
            "See any operating system documentation about shared libraries for\n",
            "more information, such as the ld(1) and ld.so(8) manual pages.\n",
            "----------------------------------------------------------------------\n",
            "test -z \"/usr/local/bin\" || /bin/mkdir -p \"/usr/local/bin\"\n",
            "  /bin/bash ../libtool   --mode=install /usr/bin/install -c mecab '/usr/local/bin'\n",
            "libtool: install: /usr/bin/install -c .libs/mecab /usr/local/bin/mecab\n",
            "test -z \"/usr/local/libexec/mecab\" || /bin/mkdir -p \"/usr/local/libexec/mecab\"\n",
            "  /bin/bash ../libtool   --mode=install /usr/bin/install -c mecab-dict-index mecab-dict-gen mecab-cost-train mecab-system-eval mecab-test-gen '/usr/local/libexec/mecab'\n",
            "libtool: install: /usr/bin/install -c .libs/mecab-dict-index /usr/local/libexec/mecab/mecab-dict-index\n",
            "libtool: install: /usr/bin/install -c .libs/mecab-dict-gen /usr/local/libexec/mecab/mecab-dict-gen\n",
            "libtool: install: /usr/bin/install -c .libs/mecab-cost-train /usr/local/libexec/mecab/mecab-cost-train\n",
            "libtool: install: /usr/bin/install -c .libs/mecab-system-eval /usr/local/libexec/mecab/mecab-system-eval\n",
            "libtool: install: /usr/bin/install -c .libs/mecab-test-gen /usr/local/libexec/mecab/mecab-test-gen\n",
            "test -z \"/usr/local/include\" || /bin/mkdir -p \"/usr/local/include\"\n",
            " /usr/bin/install -c -m 644 mecab.h '/usr/local/include'\n",
            "make[2]: Leaving directory '/tmp/mecab-0.996-ko-0.9.2/src'\n",
            "make[1]: Leaving directory '/tmp/mecab-0.996-ko-0.9.2/src'\n",
            "Making install in man\n",
            "make[1]: Entering directory '/tmp/mecab-0.996-ko-0.9.2/man'\n",
            "make[2]: Entering directory '/tmp/mecab-0.996-ko-0.9.2/man'\n",
            "make[2]: Nothing to be done for 'install-exec-am'.\n",
            "test -z \"/usr/local/share/man/man1\" || /bin/mkdir -p \"/usr/local/share/man/man1\"\n",
            " /usr/bin/install -c -m 644 mecab.1 '/usr/local/share/man/man1'\n",
            "make[2]: Leaving directory '/tmp/mecab-0.996-ko-0.9.2/man'\n",
            "make[1]: Leaving directory '/tmp/mecab-0.996-ko-0.9.2/man'\n",
            "Making install in doc\n",
            "make[1]: Entering directory '/tmp/mecab-0.996-ko-0.9.2/doc'\n",
            "make[2]: Entering directory '/tmp/mecab-0.996-ko-0.9.2/doc'\n",
            "make[2]: Nothing to be done for 'install-exec-am'.\n",
            "make[2]: Nothing to be done for 'install-data-am'.\n",
            "make[2]: Leaving directory '/tmp/mecab-0.996-ko-0.9.2/doc'\n",
            "make[1]: Leaving directory '/tmp/mecab-0.996-ko-0.9.2/doc'\n",
            "Making install in tests\n",
            "make[1]: Entering directory '/tmp/mecab-0.996-ko-0.9.2/tests'\n",
            "make[2]: Entering directory '/tmp/mecab-0.996-ko-0.9.2/tests'\n",
            "make[2]: Nothing to be done for 'install-exec-am'.\n",
            "make[2]: Nothing to be done for 'install-data-am'.\n",
            "make[2]: Leaving directory '/tmp/mecab-0.996-ko-0.9.2/tests'\n",
            "make[1]: Leaving directory '/tmp/mecab-0.996-ko-0.9.2/tests'\n",
            "make[1]: Entering directory '/tmp/mecab-0.996-ko-0.9.2'\n",
            "make[2]: Entering directory '/tmp/mecab-0.996-ko-0.9.2'\n",
            "test -z \"/usr/local/bin\" || /bin/mkdir -p \"/usr/local/bin\"\n",
            " /usr/bin/install -c mecab-config '/usr/local/bin'\n",
            "test -z \"/usr/local/etc\" || /bin/mkdir -p \"/usr/local/etc\"\n",
            " /usr/bin/install -c -m 644 mecabrc '/usr/local/etc'\n",
            "make[2]: Leaving directory '/tmp/mecab-0.996-ko-0.9.2'\n",
            "make[1]: Leaving directory '/tmp/mecab-0.996-ko-0.9.2'\n",
            "--2022-10-03 00:16:26--  https://www.dropbox.com/s/i8girnk5p80076c/mecab-ko-dic-2.1.1-20180720.tar.gz?dl=1\n",
            "Resolving www.dropbox.com (www.dropbox.com)... 162.125.7.18, 2620:100:6031:18::a27d:5112\n",
            "Connecting to www.dropbox.com (www.dropbox.com)|162.125.7.18|:443... connected.\n",
            "HTTP request sent, awaiting response... 302 Found\n",
            "Location: /s/dl/i8girnk5p80076c/mecab-ko-dic-2.1.1-20180720.tar.gz [following]\n",
            "--2022-10-03 00:16:27--  https://www.dropbox.com/s/dl/i8girnk5p80076c/mecab-ko-dic-2.1.1-20180720.tar.gz\n",
            "Reusing existing connection to www.dropbox.com:443.\n",
            "HTTP request sent, awaiting response... 302 Found\n",
            "Location: https://uc085e1071e8bc69b78f2f51d9c2.dl.dropboxusercontent.com/cd/0/get/BuEzlZFV7fcr6xDl86G7jHtbHtQqCw59r655k6iQT_un4F0aSyiU2I6ctTe6pLYwHJeo29yjsBk6stDp_UajuS8dxHnHz5yyMZzrd2Qu94QKrN9TomSE21wvvzxxsOmXOSAJT4fje81BppgAMNgJ0RVbL57GFzXKHvzjr-NvA-Enop1TEqAyEsd6qcerwhJ7AGo/file?dl=1# [following]\n",
            "--2022-10-03 00:16:28--  https://uc085e1071e8bc69b78f2f51d9c2.dl.dropboxusercontent.com/cd/0/get/BuEzlZFV7fcr6xDl86G7jHtbHtQqCw59r655k6iQT_un4F0aSyiU2I6ctTe6pLYwHJeo29yjsBk6stDp_UajuS8dxHnHz5yyMZzrd2Qu94QKrN9TomSE21wvvzxxsOmXOSAJT4fje81BppgAMNgJ0RVbL57GFzXKHvzjr-NvA-Enop1TEqAyEsd6qcerwhJ7AGo/file?dl=1\n",
            "Resolving uc085e1071e8bc69b78f2f51d9c2.dl.dropboxusercontent.com (uc085e1071e8bc69b78f2f51d9c2.dl.dropboxusercontent.com)... 162.125.7.15, 2620:100:6031:15::a27d:510f\n",
            "Connecting to uc085e1071e8bc69b78f2f51d9c2.dl.dropboxusercontent.com (uc085e1071e8bc69b78f2f51d9c2.dl.dropboxusercontent.com)|162.125.7.15|:443... connected.\n",
            "HTTP request sent, awaiting response... 200 OK\n",
            "Length: 49775061 (47M) [application/binary]\n",
            "Saving to: ‘mecab-ko-dic-2.1.1-20180720.tar.gz?dl=1.2’\n",
            "\n",
            "mecab-ko-dic-2.1.1- 100%[===================>]  47.47M  15.0MB/s    in 4.1s    \n",
            "\n",
            "2022-10-03 00:16:33 (11.5 MB/s) - ‘mecab-ko-dic-2.1.1-20180720.tar.gz?dl=1.2’ saved [49775061/49775061]\n",
            "\n",
            "Reading package lists... Done\n",
            "Building dependency tree       \n",
            "Reading state information... Done\n",
            "autoconf is already the newest version (2.69-11).\n",
            "The following package was automatically installed and is no longer required:\n",
            "  libnvidia-common-460\n",
            "Use 'apt autoremove' to remove it.\n",
            "0 upgraded, 0 newly installed, 0 to remove and 20 not upgraded.\n",
            "mecab-ko-dic-2.1.1-20180720/\n",
            "mecab-ko-dic-2.1.1-20180720/configure\n",
            "mecab-ko-dic-2.1.1-20180720/COPYING\n",
            "mecab-ko-dic-2.1.1-20180720/autogen.sh\n",
            "mecab-ko-dic-2.1.1-20180720/Place-station.csv\n",
            "mecab-ko-dic-2.1.1-20180720/NNG.csv\n",
            "mecab-ko-dic-2.1.1-20180720/README\n",
            "mecab-ko-dic-2.1.1-20180720/EF.csv\n",
            "mecab-ko-dic-2.1.1-20180720/MAG.csv\n",
            "mecab-ko-dic-2.1.1-20180720/Preanalysis.csv\n",
            "mecab-ko-dic-2.1.1-20180720/NNB.csv\n",
            "mecab-ko-dic-2.1.1-20180720/Person-actor.csv\n",
            "mecab-ko-dic-2.1.1-20180720/VV.csv\n",
            "mecab-ko-dic-2.1.1-20180720/Makefile.in\n",
            "mecab-ko-dic-2.1.1-20180720/matrix.def\n",
            "mecab-ko-dic-2.1.1-20180720/EC.csv\n",
            "mecab-ko-dic-2.1.1-20180720/NNBC.csv\n",
            "mecab-ko-dic-2.1.1-20180720/clean\n",
            "mecab-ko-dic-2.1.1-20180720/ChangeLog\n",
            "mecab-ko-dic-2.1.1-20180720/J.csv\n",
            "mecab-ko-dic-2.1.1-20180720/.keep\n",
            "mecab-ko-dic-2.1.1-20180720/feature.def\n",
            "mecab-ko-dic-2.1.1-20180720/Foreign.csv\n",
            "mecab-ko-dic-2.1.1-20180720/XPN.csv\n",
            "mecab-ko-dic-2.1.1-20180720/EP.csv\n",
            "mecab-ko-dic-2.1.1-20180720/NR.csv\n",
            "mecab-ko-dic-2.1.1-20180720/left-id.def\n",
            "mecab-ko-dic-2.1.1-20180720/Place.csv\n",
            "mecab-ko-dic-2.1.1-20180720/Symbol.csv\n",
            "mecab-ko-dic-2.1.1-20180720/dicrc\n",
            "mecab-ko-dic-2.1.1-20180720/NP.csv\n",
            "mecab-ko-dic-2.1.1-20180720/ETM.csv\n",
            "mecab-ko-dic-2.1.1-20180720/IC.csv\n",
            "mecab-ko-dic-2.1.1-20180720/Place-address.csv\n",
            "mecab-ko-dic-2.1.1-20180720/Group.csv\n",
            "mecab-ko-dic-2.1.1-20180720/model.def\n",
            "mecab-ko-dic-2.1.1-20180720/XSN.csv\n",
            "mecab-ko-dic-2.1.1-20180720/INSTALL\n",
            "mecab-ko-dic-2.1.1-20180720/rewrite.def\n",
            "mecab-ko-dic-2.1.1-20180720/Inflect.csv\n",
            "mecab-ko-dic-2.1.1-20180720/configure.ac\n",
            "mecab-ko-dic-2.1.1-20180720/NNP.csv\n",
            "mecab-ko-dic-2.1.1-20180720/CoinedWord.csv\n",
            "mecab-ko-dic-2.1.1-20180720/XSV.csv\n",
            "mecab-ko-dic-2.1.1-20180720/pos-id.def\n",
            "mecab-ko-dic-2.1.1-20180720/Makefile.am\n",
            "mecab-ko-dic-2.1.1-20180720/unk.def\n",
            "mecab-ko-dic-2.1.1-20180720/missing\n",
            "mecab-ko-dic-2.1.1-20180720/VCP.csv\n",
            "mecab-ko-dic-2.1.1-20180720/install-sh\n",
            "mecab-ko-dic-2.1.1-20180720/Hanja.csv\n",
            "mecab-ko-dic-2.1.1-20180720/MAJ.csv\n",
            "mecab-ko-dic-2.1.1-20180720/XSA.csv\n",
            "mecab-ko-dic-2.1.1-20180720/Wikipedia.csv\n",
            "mecab-ko-dic-2.1.1-20180720/tools/\n",
            "mecab-ko-dic-2.1.1-20180720/tools/add-userdic.sh\n",
            "mecab-ko-dic-2.1.1-20180720/tools/mecab-bestn.sh\n",
            "mecab-ko-dic-2.1.1-20180720/tools/convert_for_using_store.sh\n",
            "mecab-ko-dic-2.1.1-20180720/user-dic/\n",
            "mecab-ko-dic-2.1.1-20180720/user-dic/nnp.csv\n",
            "mecab-ko-dic-2.1.1-20180720/user-dic/place.csv\n",
            "mecab-ko-dic-2.1.1-20180720/user-dic/person.csv\n",
            "mecab-ko-dic-2.1.1-20180720/user-dic/README.md\n",
            "mecab-ko-dic-2.1.1-20180720/NorthKorea.csv\n",
            "mecab-ko-dic-2.1.1-20180720/VX.csv\n",
            "mecab-ko-dic-2.1.1-20180720/right-id.def\n",
            "mecab-ko-dic-2.1.1-20180720/VA.csv\n",
            "mecab-ko-dic-2.1.1-20180720/char.def\n",
            "mecab-ko-dic-2.1.1-20180720/NEWS\n",
            "mecab-ko-dic-2.1.1-20180720/MM.csv\n",
            "mecab-ko-dic-2.1.1-20180720/ETN.csv\n",
            "mecab-ko-dic-2.1.1-20180720/AUTHORS\n",
            "mecab-ko-dic-2.1.1-20180720/Person.csv\n",
            "mecab-ko-dic-2.1.1-20180720/XR.csv\n",
            "mecab-ko-dic-2.1.1-20180720/VCN.csv\n",
            "Looking in current directory for macros.\n",
            "configure.ac:2: warning: AM_INIT_AUTOMAKE: two- and three-arguments forms are deprecated.  For more info, see:\n",
            "configure.ac:2: http://www.gnu.org/software/automake/manual/automake.html#Modernize-AM_005fINIT_005fAUTOMAKE-invocation\n",
            "checking for a BSD-compatible install... /usr/bin/install -c\n",
            "checking whether build environment is sane... yes\n",
            "/tmp/mecab-ko-dic-2.1.1-20180720/missing: Unknown `--is-lightweight' option\n",
            "Try `/tmp/mecab-ko-dic-2.1.1-20180720/missing --help' for more information\n",
            "configure: WARNING: 'missing' script is too old or missing\n",
            "checking for a thread-safe mkdir -p... /bin/mkdir -p\n",
            "checking for gawk... no\n",
            "checking for mawk... mawk\n",
            "checking whether make sets $(MAKE)... yes\n",
            "checking whether make supports nested variables... yes\n",
            "checking for mecab-config... /usr/local/bin/mecab-config\n",
            "checking that generated files are newer than configure... done\n",
            "configure: creating ./config.status\n",
            "config.status: creating Makefile\n",
            "make: Nothing to be done for 'all'.\n",
            "make[1]: Entering directory '/tmp/mecab-ko-dic-2.1.1-20180720'\n",
            "make[1]: Nothing to be done for 'install-exec-am'.\n",
            " /bin/mkdir -p '/usr/local/lib/mecab/dic/mecab-ko-dic'\n",
            " /usr/bin/install -c -m 644 model.bin matrix.bin char.bin sys.dic unk.dic left-id.def right-id.def rewrite.def pos-id.def dicrc '/usr/local/lib/mecab/dic/mecab-ko-dic'\n",
            "make[1]: Leaving directory '/tmp/mecab-ko-dic-2.1.1-20180720'\n",
            "fatal: destination path 'mecab-python-0.996' already exists and is not an empty directory.\n",
            "Looking in indexes: https://pypi.org/simple, https://us-python.pkg.dev/colab-wheels/public/simple/\n",
            "Requirement already satisfied: konlpy in /usr/local/lib/python3.7/dist-packages (0.6.0)\n",
            "Requirement already satisfied: numpy>=1.6 in /usr/local/lib/python3.7/dist-packages (from konlpy) (1.21.6)\n",
            "Requirement already satisfied: JPype1>=0.7.0 in /usr/local/lib/python3.7/dist-packages (from konlpy) (1.4.0)\n",
            "Requirement already satisfied: lxml>=4.1.0 in /usr/local/lib/python3.7/dist-packages (from konlpy) (4.9.1)\n",
            "Requirement already satisfied: typing-extensions in /usr/local/lib/python3.7/dist-packages (from JPype1>=0.7.0->konlpy) (4.1.1)\n"
          ]
        }
      ],
      "source": [
        "# konlpy 다운로드(Mecab 포함)\n",
        "!curl -s https://raw.githubusercontent.com/teddylee777/machine-learning/master/99-Misc/01-Colab/mecab-colab.sh | bash"
      ]
    },
    {
      "cell_type": "code",
      "execution_count": 131,
      "metadata": {
        "id": "2r0rjMH0A_Iu"
      },
      "outputs": [],
      "source": [
        "# # 네이버 영화리뷰 감정 분석 문제\n",
        "# cd로 풀고 싶은 위치로 이동\n",
        "# %cd /content/drive/MyDrive/Colab Notebooks/아이펠/02NLP_word_dict\n",
        "\n",
        "# !git clone https://github.com/e9t/nsmc.git"
      ]
    },
    {
      "cell_type": "code",
      "execution_count": 132,
      "metadata": {
        "id": "2RkTwqLuA2Sn"
      },
      "outputs": [],
      "source": [
        "import csv\n",
        "import os\n",
        "import re\n",
        "from collections import Counter\n",
        "\n",
        "import numpy as np\n",
        "import pandas as pd\n",
        "import matplotlib.pyplot as plt\n",
        "\n",
        "import sentencepiece as spm\n",
        "import konlpy\n",
        "\n",
        "import tensorflow as tf"
      ]
    },
    {
      "cell_type": "markdown",
      "metadata": {
        "id": "uhMZOzj1Bhjh"
      },
      "source": [
        "## 데이터 확인 및 전처리 하기"
      ]
    },
    {
      "cell_type": "code",
      "execution_count": 133,
      "metadata": {
        "colab": {
          "base_uri": "https://localhost:8080/",
          "height": 537
        },
        "id": "_aIZkbjyA2YA",
        "outputId": "2b6e0f78-e923-4bea-be31-294ca6faa404"
      },
      "outputs": [
        {
          "name": "stdout",
          "output_type": "stream",
          "text": [
            "train_document 개수: 150000\n"
          ]
        },
        {
          "data": {
            "text/html": [
              "\n",
              "  <div id=\"df-1dda66b6-54ec-49a5-bb87-c35d6a4ed66f\">\n",
              "    <div class=\"colab-df-container\">\n",
              "      <div>\n",
              "<style scoped>\n",
              "    .dataframe tbody tr th:only-of-type {\n",
              "        vertical-align: middle;\n",
              "    }\n",
              "\n",
              "    .dataframe tbody tr th {\n",
              "        vertical-align: top;\n",
              "    }\n",
              "\n",
              "    .dataframe thead th {\n",
              "        text-align: right;\n",
              "    }\n",
              "</style>\n",
              "<table border=\"1\" class=\"dataframe\">\n",
              "  <thead>\n",
              "    <tr style=\"text-align: right;\">\n",
              "      <th></th>\n",
              "      <th>id</th>\n",
              "      <th>document</th>\n",
              "      <th>label</th>\n",
              "    </tr>\n",
              "  </thead>\n",
              "  <tbody>\n",
              "    <tr>\n",
              "      <th>0</th>\n",
              "      <td>9976970</td>\n",
              "      <td>아 더빙.. 진짜 짜증나네요 목소리</td>\n",
              "      <td>0</td>\n",
              "    </tr>\n",
              "    <tr>\n",
              "      <th>1</th>\n",
              "      <td>3819312</td>\n",
              "      <td>흠...포스터보고 초딩영화줄....오버연기조차 가볍지 않구나</td>\n",
              "      <td>1</td>\n",
              "    </tr>\n",
              "    <tr>\n",
              "      <th>2</th>\n",
              "      <td>10265843</td>\n",
              "      <td>너무재밓었다그래서보는것을추천한다</td>\n",
              "      <td>0</td>\n",
              "    </tr>\n",
              "    <tr>\n",
              "      <th>3</th>\n",
              "      <td>9045019</td>\n",
              "      <td>교도소 이야기구먼 ..솔직히 재미는 없다..평점 조정</td>\n",
              "      <td>0</td>\n",
              "    </tr>\n",
              "    <tr>\n",
              "      <th>4</th>\n",
              "      <td>6483659</td>\n",
              "      <td>사이몬페그의 익살스런 연기가 돋보였던 영화!스파이더맨에서 늙어보이기만 했던 커스틴 ...</td>\n",
              "      <td>1</td>\n",
              "    </tr>\n",
              "  </tbody>\n",
              "</table>\n",
              "</div>\n",
              "      <button class=\"colab-df-convert\" onclick=\"convertToInteractive('df-1dda66b6-54ec-49a5-bb87-c35d6a4ed66f')\"\n",
              "              title=\"Convert this dataframe to an interactive table.\"\n",
              "              style=\"display:none;\">\n",
              "        \n",
              "  <svg xmlns=\"http://www.w3.org/2000/svg\" height=\"24px\"viewBox=\"0 0 24 24\"\n",
              "       width=\"24px\">\n",
              "    <path d=\"M0 0h24v24H0V0z\" fill=\"none\"/>\n",
              "    <path d=\"M18.56 5.44l.94 2.06.94-2.06 2.06-.94-2.06-.94-.94-2.06-.94 2.06-2.06.94zm-11 1L8.5 8.5l.94-2.06 2.06-.94-2.06-.94L8.5 2.5l-.94 2.06-2.06.94zm10 10l.94 2.06.94-2.06 2.06-.94-2.06-.94-.94-2.06-.94 2.06-2.06.94z\"/><path d=\"M17.41 7.96l-1.37-1.37c-.4-.4-.92-.59-1.43-.59-.52 0-1.04.2-1.43.59L10.3 9.45l-7.72 7.72c-.78.78-.78 2.05 0 2.83L4 21.41c.39.39.9.59 1.41.59.51 0 1.02-.2 1.41-.59l7.78-7.78 2.81-2.81c.8-.78.8-2.07 0-2.86zM5.41 20L4 18.59l7.72-7.72 1.47 1.35L5.41 20z\"/>\n",
              "  </svg>\n",
              "      </button>\n",
              "      \n",
              "  <style>\n",
              "    .colab-df-container {\n",
              "      display:flex;\n",
              "      flex-wrap:wrap;\n",
              "      gap: 12px;\n",
              "    }\n",
              "\n",
              "    .colab-df-convert {\n",
              "      background-color: #E8F0FE;\n",
              "      border: none;\n",
              "      border-radius: 50%;\n",
              "      cursor: pointer;\n",
              "      display: none;\n",
              "      fill: #1967D2;\n",
              "      height: 32px;\n",
              "      padding: 0 0 0 0;\n",
              "      width: 32px;\n",
              "    }\n",
              "\n",
              "    .colab-df-convert:hover {\n",
              "      background-color: #E2EBFA;\n",
              "      box-shadow: 0px 1px 2px rgba(60, 64, 67, 0.3), 0px 1px 3px 1px rgba(60, 64, 67, 0.15);\n",
              "      fill: #174EA6;\n",
              "    }\n",
              "\n",
              "    [theme=dark] .colab-df-convert {\n",
              "      background-color: #3B4455;\n",
              "      fill: #D2E3FC;\n",
              "    }\n",
              "\n",
              "    [theme=dark] .colab-df-convert:hover {\n",
              "      background-color: #434B5C;\n",
              "      box-shadow: 0px 1px 3px 1px rgba(0, 0, 0, 0.15);\n",
              "      filter: drop-shadow(0px 1px 2px rgba(0, 0, 0, 0.3));\n",
              "      fill: #FFFFFF;\n",
              "    }\n",
              "  </style>\n",
              "\n",
              "      <script>\n",
              "        const buttonEl =\n",
              "          document.querySelector('#df-1dda66b6-54ec-49a5-bb87-c35d6a4ed66f button.colab-df-convert');\n",
              "        buttonEl.style.display =\n",
              "          google.colab.kernel.accessAllowed ? 'block' : 'none';\n",
              "\n",
              "        async function convertToInteractive(key) {\n",
              "          const element = document.querySelector('#df-1dda66b6-54ec-49a5-bb87-c35d6a4ed66f');\n",
              "          const dataTable =\n",
              "            await google.colab.kernel.invokeFunction('convertToInteractive',\n",
              "                                                     [key], {});\n",
              "          if (!dataTable) return;\n",
              "\n",
              "          const docLinkHtml = 'Like what you see? Visit the ' +\n",
              "            '<a target=\"_blank\" href=https://colab.research.google.com/notebooks/data_table.ipynb>data table notebook</a>'\n",
              "            + ' to learn more about interactive tables.';\n",
              "          element.innerHTML = '';\n",
              "          dataTable['output_type'] = 'display_data';\n",
              "          await google.colab.output.renderOutput(dataTable, element);\n",
              "          const docLink = document.createElement('div');\n",
              "          docLink.innerHTML = docLinkHtml;\n",
              "          element.appendChild(docLink);\n",
              "        }\n",
              "      </script>\n",
              "    </div>\n",
              "  </div>\n",
              "  "
            ],
            "text/plain": [
              "         id                                           document  label\n",
              "0   9976970                                아 더빙.. 진짜 짜증나네요 목소리      0\n",
              "1   3819312                  흠...포스터보고 초딩영화줄....오버연기조차 가볍지 않구나      1\n",
              "2  10265843                                  너무재밓었다그래서보는것을추천한다      0\n",
              "3   9045019                      교도소 이야기구먼 ..솔직히 재미는 없다..평점 조정      0\n",
              "4   6483659  사이몬페그의 익살스런 연기가 돋보였던 영화!스파이더맨에서 늙어보이기만 했던 커스틴 ...      1"
            ]
          },
          "metadata": {},
          "output_type": "display_data"
        },
        {
          "name": "stdout",
          "output_type": "stream",
          "text": [
            "\n",
            ", \n",
            "\n",
            "test_document 개수: 50000\n"
          ]
        },
        {
          "data": {
            "text/html": [
              "\n",
              "  <div id=\"df-d9b408a7-eb82-4d96-97e6-b16e96b66971\">\n",
              "    <div class=\"colab-df-container\">\n",
              "      <div>\n",
              "<style scoped>\n",
              "    .dataframe tbody tr th:only-of-type {\n",
              "        vertical-align: middle;\n",
              "    }\n",
              "\n",
              "    .dataframe tbody tr th {\n",
              "        vertical-align: top;\n",
              "    }\n",
              "\n",
              "    .dataframe thead th {\n",
              "        text-align: right;\n",
              "    }\n",
              "</style>\n",
              "<table border=\"1\" class=\"dataframe\">\n",
              "  <thead>\n",
              "    <tr style=\"text-align: right;\">\n",
              "      <th></th>\n",
              "      <th>id</th>\n",
              "      <th>document</th>\n",
              "      <th>label</th>\n",
              "    </tr>\n",
              "  </thead>\n",
              "  <tbody>\n",
              "    <tr>\n",
              "      <th>0</th>\n",
              "      <td>6270596</td>\n",
              "      <td>굳 ㅋ</td>\n",
              "      <td>1</td>\n",
              "    </tr>\n",
              "    <tr>\n",
              "      <th>1</th>\n",
              "      <td>9274899</td>\n",
              "      <td>GDNTOPCLASSINTHECLUB</td>\n",
              "      <td>0</td>\n",
              "    </tr>\n",
              "    <tr>\n",
              "      <th>2</th>\n",
              "      <td>8544678</td>\n",
              "      <td>뭐야 이 평점들은.... 나쁘진 않지만 10점 짜리는 더더욱 아니잖아</td>\n",
              "      <td>0</td>\n",
              "    </tr>\n",
              "    <tr>\n",
              "      <th>3</th>\n",
              "      <td>6825595</td>\n",
              "      <td>지루하지는 않은데 완전 막장임... 돈주고 보기에는....</td>\n",
              "      <td>0</td>\n",
              "    </tr>\n",
              "    <tr>\n",
              "      <th>4</th>\n",
              "      <td>6723715</td>\n",
              "      <td>3D만 아니었어도 별 다섯 개 줬을텐데.. 왜 3D로 나와서 제 심기를 불편하게 하죠??</td>\n",
              "      <td>0</td>\n",
              "    </tr>\n",
              "  </tbody>\n",
              "</table>\n",
              "</div>\n",
              "      <button class=\"colab-df-convert\" onclick=\"convertToInteractive('df-d9b408a7-eb82-4d96-97e6-b16e96b66971')\"\n",
              "              title=\"Convert this dataframe to an interactive table.\"\n",
              "              style=\"display:none;\">\n",
              "        \n",
              "  <svg xmlns=\"http://www.w3.org/2000/svg\" height=\"24px\"viewBox=\"0 0 24 24\"\n",
              "       width=\"24px\">\n",
              "    <path d=\"M0 0h24v24H0V0z\" fill=\"none\"/>\n",
              "    <path d=\"M18.56 5.44l.94 2.06.94-2.06 2.06-.94-2.06-.94-.94-2.06-.94 2.06-2.06.94zm-11 1L8.5 8.5l.94-2.06 2.06-.94-2.06-.94L8.5 2.5l-.94 2.06-2.06.94zm10 10l.94 2.06.94-2.06 2.06-.94-2.06-.94-.94-2.06-.94 2.06-2.06.94z\"/><path d=\"M17.41 7.96l-1.37-1.37c-.4-.4-.92-.59-1.43-.59-.52 0-1.04.2-1.43.59L10.3 9.45l-7.72 7.72c-.78.78-.78 2.05 0 2.83L4 21.41c.39.39.9.59 1.41.59.51 0 1.02-.2 1.41-.59l7.78-7.78 2.81-2.81c.8-.78.8-2.07 0-2.86zM5.41 20L4 18.59l7.72-7.72 1.47 1.35L5.41 20z\"/>\n",
              "  </svg>\n",
              "      </button>\n",
              "      \n",
              "  <style>\n",
              "    .colab-df-container {\n",
              "      display:flex;\n",
              "      flex-wrap:wrap;\n",
              "      gap: 12px;\n",
              "    }\n",
              "\n",
              "    .colab-df-convert {\n",
              "      background-color: #E8F0FE;\n",
              "      border: none;\n",
              "      border-radius: 50%;\n",
              "      cursor: pointer;\n",
              "      display: none;\n",
              "      fill: #1967D2;\n",
              "      height: 32px;\n",
              "      padding: 0 0 0 0;\n",
              "      width: 32px;\n",
              "    }\n",
              "\n",
              "    .colab-df-convert:hover {\n",
              "      background-color: #E2EBFA;\n",
              "      box-shadow: 0px 1px 2px rgba(60, 64, 67, 0.3), 0px 1px 3px 1px rgba(60, 64, 67, 0.15);\n",
              "      fill: #174EA6;\n",
              "    }\n",
              "\n",
              "    [theme=dark] .colab-df-convert {\n",
              "      background-color: #3B4455;\n",
              "      fill: #D2E3FC;\n",
              "    }\n",
              "\n",
              "    [theme=dark] .colab-df-convert:hover {\n",
              "      background-color: #434B5C;\n",
              "      box-shadow: 0px 1px 3px 1px rgba(0, 0, 0, 0.15);\n",
              "      filter: drop-shadow(0px 1px 2px rgba(0, 0, 0, 0.3));\n",
              "      fill: #FFFFFF;\n",
              "    }\n",
              "  </style>\n",
              "\n",
              "      <script>\n",
              "        const buttonEl =\n",
              "          document.querySelector('#df-d9b408a7-eb82-4d96-97e6-b16e96b66971 button.colab-df-convert');\n",
              "        buttonEl.style.display =\n",
              "          google.colab.kernel.accessAllowed ? 'block' : 'none';\n",
              "\n",
              "        async function convertToInteractive(key) {\n",
              "          const element = document.querySelector('#df-d9b408a7-eb82-4d96-97e6-b16e96b66971');\n",
              "          const dataTable =\n",
              "            await google.colab.kernel.invokeFunction('convertToInteractive',\n",
              "                                                     [key], {});\n",
              "          if (!dataTable) return;\n",
              "\n",
              "          const docLinkHtml = 'Like what you see? Visit the ' +\n",
              "            '<a target=\"_blank\" href=https://colab.research.google.com/notebooks/data_table.ipynb>data table notebook</a>'\n",
              "            + ' to learn more about interactive tables.';\n",
              "          element.innerHTML = '';\n",
              "          dataTable['output_type'] = 'display_data';\n",
              "          await google.colab.output.renderOutput(dataTable, element);\n",
              "          const docLink = document.createElement('div');\n",
              "          docLink.innerHTML = docLinkHtml;\n",
              "          element.appendChild(docLink);\n",
              "        }\n",
              "      </script>\n",
              "    </div>\n",
              "  </div>\n",
              "  "
            ],
            "text/plain": [
              "        id                                           document  label\n",
              "0  6270596                                                굳 ㅋ      1\n",
              "1  9274899                               GDNTOPCLASSINTHECLUB      0\n",
              "2  8544678             뭐야 이 평점들은.... 나쁘진 않지만 10점 짜리는 더더욱 아니잖아      0\n",
              "3  6825595                   지루하지는 않은데 완전 막장임... 돈주고 보기에는....      0\n",
              "4  6723715  3D만 아니었어도 별 다섯 개 줬을텐데.. 왜 3D로 나와서 제 심기를 불편하게 하죠??      0"
            ]
          },
          "metadata": {},
          "output_type": "display_data"
        }
      ],
      "source": [
        "naver_train_df = pd.read_table('/content/drive/MyDrive/Colab Notebooks/아이펠/02NLP_word_dict/nsmc/ratings_train.txt')\n",
        "naver_test_df = pd.read_table('/content/drive/MyDrive/Colab Notebooks/아이펠/02NLP_word_dict/nsmc/ratings_test.txt')\n",
        "\n",
        "print('train_document 개수:', len(naver_train_df['document']))\n",
        "display(naver_train_df.head())\n",
        "print('\\n, \\n')\n",
        "print('test_document 개수:',len(naver_test_df['document']))\n",
        "display(naver_test_df.head())"
      ]
    },
    {
      "cell_type": "markdown",
      "metadata": {
        "id": "dFcMXB_DUJqb"
      },
      "source": [
        "### 데이터를 합치기로 했다.\n",
        " 왜냐하면 train과 test 파일이 개수만 빼고 동일하기 때문이다. 또한 전처리 등으로 해야할 작업이 똑같아서 시간낭비, 효율 낭비가 심하다. 또한 데이터를 통합해도 나중에 분리할 수있다."
      ]
    },
    {
      "cell_type": "code",
      "execution_count": 134,
      "metadata": {
        "colab": {
          "base_uri": "https://localhost:8080/"
        },
        "id": "dPLnkQLqVA9n",
        "outputId": "4c4c8863-6891-4129-cc64-dae9902e3cda"
      },
      "outputs": [
        {
          "data": {
            "text/plain": [
              "200000"
            ]
          },
          "execution_count": 134,
          "metadata": {},
          "output_type": "execute_result"
        }
      ],
      "source": [
        "naver_data = pd.concat([naver_train_df, naver_test_df])\n",
        "len(naver_data['document'])"
      ]
    },
    {
      "cell_type": "markdown",
      "metadata": {
        "id": "5Dxs8ZjcWGqP"
      },
      "source": [
        "### NULL, 중복 제거"
      ]
    },
    {
      "cell_type": "markdown",
      "metadata": {
        "id": "3nwum_MydDRG"
      },
      "source": [
        "### NULL 값 제거"
      ]
    },
    {
      "cell_type": "code",
      "execution_count": 135,
      "metadata": {
        "colab": {
          "base_uri": "https://localhost:8080/"
        },
        "id": "78WgJmxmA2b9",
        "outputId": "3627152c-f8a8-4302-c512-01ef71f69f86"
      },
      "outputs": [
        {
          "name": "stdout",
          "output_type": "stream",
          "text": [
            "False\n"
          ]
        }
      ],
      "source": [
        "naver_data.drop(['id'], axis=1, inplace=True) # column 중 id는 필요없어서 제거\n",
        "naver_data = naver_data.dropna(how = 'any') # Null 값이 존재하는 행 제거\n",
        "print(naver_data.isnull().values.any()) # Null 값이 존재하는지 확인"
      ]
    },
    {
      "cell_type": "code",
      "execution_count": 136,
      "metadata": {
        "colab": {
          "base_uri": "https://localhost:8080/"
        },
        "id": "gi1JBXlKOhHR",
        "outputId": "69db6cb3-d3ba-4637-c825-184d4cc040e5"
      },
      "outputs": [
        {
          "name": "stdout",
          "output_type": "stream",
          "text": [
            "naver_data 개수 199992\n"
          ]
        }
      ],
      "source": [
        "print('naver_data 개수', len(naver_data['document']))"
      ]
    },
    {
      "cell_type": "markdown",
      "metadata": {
        "id": "KBd27cSTdZoE"
      },
      "source": [
        "### 중복값 제거"
      ]
    },
    {
      "cell_type": "code",
      "execution_count": 137,
      "metadata": {
        "colab": {
          "base_uri": "https://localhost:8080/"
        },
        "id": "9G6Gxah5dJbm",
        "outputId": "d73e657d-2d40-4d6a-d297-ece4db5e9549"
      },
      "outputs": [
        {
          "name": "stdout",
          "output_type": "stream",
          "text": [
            "naver_data의 document 중복값 5449\n"
          ]
        }
      ],
      "source": [
        "count = 0\n",
        "for idx,i in enumerate(naver_data.duplicated(['document'])):\n",
        "    if i == True:\n",
        "        count += 1\n",
        "print('naver_data의 document 중복값', count)"
      ]
    },
    {
      "cell_type": "code",
      "execution_count": 138,
      "metadata": {
        "colab": {
          "base_uri": "https://localhost:8080/"
        },
        "id": "INldmhVudI39",
        "outputId": "919ecd9a-a1d0-4730-a8e3-0a45f0ba82c8"
      },
      "outputs": [
        {
          "name": "stdout",
          "output_type": "stream",
          "text": [
            "naver_data의 document, label 중복값 0\n"
          ]
        }
      ],
      "source": [
        "count = 0\n",
        "for i in naver_data.drop_duplicates(['document', 'label']):\n",
        "    if i == True:\n",
        "            count += 1\n",
        "\n",
        "print('naver_data의 document, label 중복값', count)"
      ]
    },
    {
      "cell_type": "markdown",
      "metadata": {
        "id": "maPgnErqdIv-"
      },
      "source": [
        "- 아래에 document, label 둘 다 같으면 삭제하도록했다.\n",
        "- 예)\n",
        "\n",
        "\n",
        "|document|label|\n",
        "|---|---|\n",
        "|a|0\n",
        "|a|1\n",
        "|a|1\n",
        "위의 1번 표에서   \n",
        "\n",
        "---- \n",
        "\n",
        "|document|label|\n",
        "|---|---|\n",
        "|a|0\n",
        "|a|1\n",
        "\n",
        "위의 2번 표가 된다.\n",
        "\n",
        "가 된다. 하지만 아무런 중복 값이 다른 것을 보니\n",
        "아마도 2번표 처럼 같은 값이라도 document라도 label이 다른듯 하다. 사람마다 생각하는게 다르므로 일단 넘어가기로 했다."
      ]
    },
    {
      "cell_type": "markdown",
      "metadata": {
        "id": "AT7_yMfffLCY"
      },
      "source": [
        "### 전처리 시각화"
      ]
    },
    {
      "cell_type": "markdown",
      "metadata": {
        "id": "Kmsv9gdIfO9s"
      },
      "source": [
        "- label의 0과 1 비율 보기\n"
      ]
    },
    {
      "cell_type": "code",
      "execution_count": 139,
      "metadata": {
        "colab": {
          "base_uri": "https://localhost:8080/",
          "height": 262
        },
        "id": "6rnNkS9uA2gf",
        "outputId": "b56f6117-05ff-4789-e346-66bfcedd2843"
      },
      "outputs": [
        {
          "data": {
            "image/png": "[encoded data removed]",
            "text/plain": [
              "<Figure size 432x288 with 1 Axes>"
            ]
          },
          "metadata": {
            "needs_background": "light"
          },
          "output_type": "display_data"
        }
      ],
      "source": [
        "naver_data['label'].value_counts().plot(kind='bar');"
      ]
    },
    {
      "cell_type": "markdown",
      "metadata": {
        "id": "OIzNB0y1fU0j"
      },
      "source": [
        "- 문장의 최대, 최소, 평균 길이 보기"
      ]
    },
    {
      "cell_type": "code",
      "execution_count": 140,
      "metadata": {
        "colab": {
          "base_uri": "https://localhost:8080/"
        },
        "id": "aSerUwGjA2kY",
        "outputId": "44b931e1-56d7-474a-efa1-fc9e0375fdd7"
      },
      "outputs": [
        {
          "name": "stdout",
          "output_type": "stream",
          "text": [
            "문장의 최대 길이: 146\n",
            "문장의 최초 길이: 1\n",
            "문장의 평균 길이: 35\n"
          ]
        }
      ],
      "source": [
        "naver_document = naver_data['document']\n",
        "naver_label = naver_data['label']\n",
        "\n",
        "print('문장의 최대 길이: {}'.format(max(len(i) for i in naver_document)))\n",
        "print('문장의 최초 길이: {}'.format(min(len(i) for i in naver_document)))\n",
        "print('문장의 평균 길이: {}'.format((sum(map(len,naver_document)))//len(naver_document)))"
      ]
    },
    {
      "cell_type": "markdown",
      "metadata": {
        "id": "cgeGw-lPfcqB"
      },
      "source": [
        "- 문장의 글자 개수에 따른 분포 보기"
      ]
    },
    {
      "cell_type": "code",
      "execution_count": 176,
      "metadata": {
        "colab": {
          "base_uri": "https://localhost:8080/",
          "height": 265
        },
        "id": "ds1v_kBkS88G",
        "outputId": "77d83cbc-12aa-4852-c94d-e6bad7acfda7"
      },
      "outputs": [
        {
          "data": {
            "image/png": "[encoded data removed]",
            "text/plain": [
              "<Figure size 432x288 with 1 Axes>"
            ]
          },
          "metadata": {
            "needs_background": "light"
          },
          "output_type": "display_data"
        }
      ],
      "source": [
        "import matplotlib.pyplot as plt\n",
        "\n",
        "plt.hist([len(s) for s in naver_document], bins=146)\n",
        "plt.show()"
      ]
    },
    {
      "cell_type": "markdown",
      "metadata": {
        "id": "XxH-BtycZuB2"
      },
      "source": [
        "- 문장의 글자 개수에 따른 문장 보기"
      ]
    },
    {
      "cell_type": "code",
      "execution_count": 141,
      "metadata": {
        "colab": {
          "base_uri": "https://localhost:8080/"
        },
        "id": "ShOceXVlY-ZT",
        "outputId": "b84568e8-668b-4760-af02-8a5501583df8"
      },
      "outputs": [
        {
          "name": "stdout",
          "output_type": "stream",
          "text": [
            "['재밋는뎅', '킬링타임', '별로다.', '볼만해;', '연기 굿', '좋은영화', '굿 좋아', '재밌는데', '와...', '펑점조절', '싸우자!', '최고!!', '패륜영화', '어휴..', '재밌다.', '괜히봤다', '재미없음', '지루하다', '재미없다', '장난치냐', 'OOO기', '몰떡몰떡', 'good', '이건뭥미', '잼슴ㅇㅎ', '죽을래?', '짠하네요', '기대된디', '보고싶다', '나도별로', '추억돋네', '재밌어요', '야동!!', '왜봣지?', '볼만했음', '별로다.', '별로;;', '평점조절', '심하네.', 'good', '별로네요', '재밌어요', '재미없다', '돈아깝다', '별10개', '최고다.', '어이없다', '별루 .', '굿입니당', '와...', '옥빈님짱', 'good', '언제꺼임', '-_-^', '뭐냐이게', '개쩔었다', '그지같다', '안무섭다', '푹 잤음', '재밌네요', '괜찬았음', '안과 겉', '참쩔어요', '재 밌다', '별론데?', '괜찬군요', '최고지~', '걍 평작', '명작이다', '재밋구만', '공블리짱', '잼나ㅎㅎ', '\"\"\"\"', '재미없음', '으하하하', '재밌네요', '킬링타임', '그만하자', '별로..', '...굿', '이건멍미', '재밌다!', '보영누나', '달달..', '재밌네요', 'good', '허술하다', '넘잼있음', '재미있다', 'good', '좋았어요', '재밋어여', '씹쓰레기', '선동영화', '별로 ㅋ', '레전드.', '애절하다', '이연걸~', '재미없엉', '최고!!', '재미있음', '넘 잼따', '적절하다', '쩝...', '안습..', '지루력!', '재밌어요', '최고였다', '훈훈하다', '뭘봐!!', '어이없다', '재미있다', '재미없음', '재밌던데', '쒸레기~', '최고이지', '의리다.', '쓰렉이얌', '뽜야 뽜', '재밋는데', '구리네요', '그닥..', '최고!!', '의지부족', '좀지루함', '짱이에여', '4형제들', '재밌다.', 'ㅎ재밌다', '의기투합', '재미있다', '보고십따', '슬펏어요', '신난다!', '재미없어', '그럭저럭', '원더풀!', '아 ㅡㅡ', '쓰레기다', 'good', '재밓구만', 'good', '10분봄', 'ㅇㅋㅇㅋ', '최고다.', '박수!!', '볼만하네', '쓰레기다', '별로..', '다니엘♥', '용두사미', '대박ㅠㅠ', '끝내준다', '명작^^', '흠...', '대작이다', '별루네요', '이상하다', '볼만하다', '죽여줄까', '쓰레기.', '완전감동', '재미없어', '재밌어요', '꼴초영화', '쩝...', '숨질래?', '아련하네', '짱재밋어', 'CG류申', '좋아 ㅋ', 'fuck', '모두최고', '걸작이다', '멋있다!', '너무좋아', '좋음좋음', '잼나네요', 'ㅎㅎㅎㅎ', '멋진영화', '쵝오야~', '어려웟다', '재밌다.', 'ㅡ.ㅡ;', '시간날림', 'good', '진부하다', '재밌어요', '완전추천', '어둡다.', '재미없어', '신선했다', '김남길짱', '좋아요.', '백점이야', '쓰레기.', '불나방.', '무색무취', '슬프다.', '거지같음', 'GOOD', '원작능욕', '장난쳥?', '보고싶다', '재밌음!', '머임이거', '재미있다', '쓰레기즐', 'Good', 'ㅐ미잇다', 'ㅈㅈ치자', '재미없다', '끔찍허다', '굿~!!', '막장의끝', '좋아요~', '좋은데?', '그럭저럭', '꼭 봐-', '재미없다', '할렐루야', '재밌음~', '재밌는데', '재밌다ㅇ', '재미없어', '재미없어', '재미지다', '지루해.', '좋은영화', '유구무언', '정말최고', '재미없다', '재밌다.', '그냥,,', '너무좋아', '짱이에요', '>_신고', 'bomb', '좋아요.', '명작..', '시간낭비', 'Good', '좋네요.', '재밋네요', '사랑한다', '굿~~~', '재미없음', '1점--', '시간낭비', 'good', 'Good', '명작 !', '액션좋다', '재미없다', '지루해요', '팀버튼♡', '짱이네~', '어쩌라고', '0점!!', '학교폭력', '평생간다', '재미음슴', '골빈님짱', '스캔들짱', '어린이용', '참...', '별로 쩝', '엮시코엔', '재밌겠다', '재미만점', '대박이지', '힘들다.', '쩔어요ㅎ', '재밋엇음', '재밌어요', '알이즈웰', '재밋어요', '우와..', '대박쩐대', '글쎼..', '잼있네요', 'good', '별로..', '지루해.', '재미없음', '지루하다', '재밌네요', '어쩌라고', '됐거든.', '기대기대', '재미없다', 'soso', '뭔소리임', 'Good', '어이없다', 'ㅡㅡㅡㅡ', '재밌네여', '반전대박', '최최최고', '연기 짱', '천재다.', '재미있다', '어려워.', '잘봤어요', '신애리짱', 'ㅅㄹㅎㅇ', '멋집니다', '아주좋음', 'good', '괜찮다.', '별루..', '맛있다.', 'good', '재미있음', '벌로 ㅇ', '재미없어', '쩌넼 ㅋ', '재밌던데', 'OO하네', '짱이라능', '재밋어요', '꺼`지셈', '동심파괴', '재밌어요', '재밌는데', '우왕좉타', '재미없다', '재미있음', '심심하다', '쩐다진짜', '찝찝하다', '액션 굿', '재미있음', '재밌음!', '애매하다', ',,,,', '재미업음', '재밋던데', '....', '용두사미', '그럭저럭', '진부하다', 'good', '잼없어요', '시간낭비', '허접하네', '흠...', '영화병맛', '재밌었음', '나쁘다.', '완벽함.', '좋네요~', '개쩔지.', '좋아요.', '그럭저럭', '더럽다.', '아주좋아', '볼만해요', '재밋엇음', '잔 웃음', 'Good', '그냥그냥', '나름 굳', '벤킹슬리', '캡짱짱맨', '돈아깝다', 'Good', '평점의힘', '답답하네', '괜찮은데', '뭐야이건', '재미없다', '그럭저럭', '그냥 ㅡ', '재미업덩', '볼만함.', '이건좀.', '아름답다', '재밌었다', 'soso', '별로다.', '보고프다', '아프도다', '별로네요', '셀로브다', 'ㄱ·ㄴㅅ', '좋아요.', '최고다.', '감동!!', '재미없음', '재미없음', '시간낭비', '유치유치', '뭐지..', '재밌어요', '좋은데.', 'bomb', '쓰레기다', '최고..', '재밌네요', '푸하하~', '캐쓰레기', '절대비추', '잔인하다', '지루하다', '재미없음', 'ㅋㅋㅋㅋ', '좋아요.', '좋아요.', 'good', '야동..', '재미 짱', '흑백까기', '....', '주드이뻐', '재미없음', '재미있음', '루지했;', '재밋내요', '망했어요', '뻔하다.', '재밌었다', '재밌다.', '아름답다', '유치짬뽕', '드라마.', 'good', '재밌어요', '별루//', 'good', '음...', '별로였다', '잼있었다', '잼있었음', '그냥그래', '초딩용어', '돈만날림', '재미 짱', 'good', '재미없어', '졸려요.', '좋아요.', '뭐냐이건', 'B급영화', '우울모드', '잼있었다', '조내잼다', '별로..', '재미있음', '쫌아닌데', 'good', '에헴에헴', '시간낭비', '별로..', '잊지말자', '재밋는데', '좋아요~', '걍쓰래기', 'good', '알흠답다', '글쎄요.', '된장녀♡', '잼미없다', '억지결말', 'Good', '좋은영화', '미안하다', '재밌어요', '최고!!', '쩐다 ㄷ', '왕실망.', '괜찬은데', '최고 !', '재미었요', '평높운동', '재밋네요', 'hhhh', '최고 ㅋ', '재미없음', '오글오글', '재미없어', '짱이쁘요', '적당한듯', '최고최고', '...?', '감동..', 'good', '소꼽장난', '재미있당', '대벅이다', '별루에용', 'Good', 'good', '망한영화', '최고ㅎㅎ', '부드럽다', '료코짱!', '불쌍함.', '별론데.', '빅 빡쳐', '잼습니다', '대박이닷', '재미없다', '대박사건', '됐거든.', '벽돌깨기', '잘봣어요', '개나줘라', '감동감동', '재미없다', '9.00', '짱bbb', '1점이요', '3류영화', '최악이다', '별로다~', '최고졸작', '할말없음', '매우좋음', '굿!!!', '비버새끼', 'good', '재미있음', '전 별로', '재미있다', '벽속에서', '기대이하', '그다지.', '슬픔ㅜㅜ', '반전최고', '재미없다', '재미없어', '재밌었다', '바보영화', '재미없어', '별로던데', '재미없어', '명작이다', '어메이진', '잼있어요', '두근두근', '대박ㅋㅋ', '완전기절', '레알병맛', '재미있다', '사랑한다', '눈물난다', '어설프다', '다 저질', '좋다~!', '완전웃김', '아...', '쓰레기.', '재밌었다', '삼류공포', '무슨..', '볼만하다', '구려..', 'good', '즐겁다.', '좋은영화', 'good', 'JYJ♥', '재미있다', '재밌는데', '훌륭했어', 'ㅎㄷㄷㄷ', '지루하네', '잔잔하게', '괜찮은듯', '괜찬네여', '동혁이형', '대박 쩜', '8.6점', 'Roh잼', '왜!!!', '재미없어', '후후훗~', 'good', 'NC만세', '왜만듬?', '재밌네.', '재미없다', '이민정짱', '재미없다', 'ㅆㄹ ㄱ', '복사기님', '7점인가', 'good', '엽기점수', 'good', '유구무언', '너무높다', 'OO같네', 'ㅋㅋㅋㅋ', '장난해?', '귀엽네요', '완벽하다', 'GOOD', '너모좋음', '귀여워.', '재밌는뎁', '재밋네요', '재미잇당', '지루하군', '재미잇다', '완전짜증', '실망했음', '재미있다', '대작!!', '잼잇어요', '재밌네요', '좋은영화', '재밌어요', '재미없음', '재미없음', '매력있음', '재밌어요', '재밋네요', '뭘봐!!', '재밌어요', '스꺼스띵', '옛날생각', '낚였다.', '잘봤어요', '재미지다', '최고 ㅋ', '개지루함', '좋음><', '재미없음', '한효주♥', '--..', 'good', '쩌리쩌리', '빵점없나', '급 실망', '재밋어요', '머니??', '용두사미', '재밌군.', '켁~~~', '잼나 ㅋ', '원더풀.', '재밋었음', '장난해.', '별로네요', 'good', '개재밋음', '재밋어요', '좋은영화', '대박대박', '유구무언', '2AM♥', '재미없어', '넘 재미', '재밌어요', '불쌍해서', '재미없다', '재미있음', '맹탕이네', '셋스어필', '재밍벗음', '재미없다', '아 의지', '재미없음', '잼나게봄', '재미있네', '^^ 굳', '흠 ..', 'Good', '이거뭐냐', '볼만해요', '사랑해여', '잼 있다', '유명무실', '재미있넹', '밍밍하다', '괜찮네~', '떨구자ㅓ', '괜찮은데', '할말없음', '참...', '재미있음', '최고~!', '대박영화', '쓰레기다', 'no.1', '재미없음', '개재밋네', 'good', '징그럽다', '기대이하', '멋진영화', '별로..', '최고!~', '재밌다!', 'good', '최고임.', '100점', '와,,,', '그냥;;', '괜찮네요', '감동백배', '아름답다', 'ㅋㅋㅋㅋ', 'good', 'good', '아...', '선동영화', 'C급영화', '노래죻타', '괜찮은데', '쩝...', 'good', '명작..', '재밌어요', '최고였다', '토나왔다', '재밋어옂', '기대이하', '대박!~', '재밌네요', '재미없네', '재미있다', '재미없다', '영광이다', '재미있다', '아름답다', '싫으네요', '재미있다', '에휴..', '멀까..', '지루해요', '음~~~', '이런영화', '캐실망!', '노잼;;', 'sm세상', '의지부족', '지루하네', '볼만했음', 'GOOD', '이런..', '재미없다', '심리..', '웃기다.', '짱★알랍', '노래종아', '4444', '재미없음', '재미없음', 'ㅈㄴ웃김', 'good', '중구난방', '한물갔군', '내삶의낙', '재미있음', '브라보~', '하하하하', '재미없다', '재밌어요', '우...', '앜ㅋㅋㅋ', '울린다.', '성지순례', '지루하다', '우왕~♥', '재미있다', '재미없어', '할말없다', 'ㅎㅎㅎㅎ', '수준미달', 'good', '재밌어여', '쩌러~~', '노래종아', '지루함.', 'Good', '볼만함.', '좋다^^', '재미있다', '짜증..', 'good', '피곤하다', '재미없음', '영화 맨', '지루하다', '별로다.', '초딩영화', '재미없음', '아하 ㅋ', '재미없다', '재밌는데', 'good', '코믹하다', '홀딱빠짐', '으리!!', '장난하냐', '참...', '0점영화', '재밋네요', '좋네..', 'good', '최고다~', 'good', '1빠라서', '망햇어요', 'good', '영화즐함', '재미읍다', '완전재미', '뭐 이래', '잼있어요', '뭐야이게', '재미없어', 'good', '재미있음', '좋아요.', '병맛영화', 'OOO기', '최민호♥', '재밌다!', '뭐야이게', '최강최강', '3.14', '짱좋앜ㅋ', '구질구질', '칵~퉤!', '미스테리', '장난해.', '재밌는데', '이럴수가', '보여주네', '영환가?', '추억돋네', '오유쵝오', '두번봐라', '좋았다!', '흥미진진', '괜찮다~', '하하하하', '별루..', '재밋내요', '용두사미', '재밌는데', '재미없어', '글쎄~~', '괜찮구먼', 'bomb', '재밌네요', '반달리즘', '별로에요', '시간낭비', '지루하다', 'good', 'good', 'good', 'Good', '멍...', '얄팍하다', '기대하지', 'good', '낫 베드', '맛없다.', 'good', '잤다 ㄳ', '효민ㄷㄷ', '짜증난다', '좋다^^', '장난해?', '실은데여', '재밌어요', '돈아까워', '별로네요', '재미읎당', '윤제문짱', '뭐야..', 'good', '재밌어여', '재밌다!', '그냐ㅕㅇ', '우엑~~', '별로..', '1빠기념', '멋집니다', '예술이네', '55me', '좋아요.', '명불허전', '별로에요', '평점조절', '징그럽다', '허접하다', '으리종범', '최고 ㅋ', '재미있음', '재밌당.', 'ㅡ.ㅡㅗ', 'good', '죽인다.', 'good', '좋은작품', '안타깝다', 'good', '모르겠다', '토나온다', '짜릿하다', '3.14', '잼있어요', 'ㅇ화이팅', '재미없어', '동명이인', '4점정도', '장난하냐', '좋은영화', '쓰레기군', '땡잡았어', '그냥그럼', '초딩영화', '개나줘라', '함량미달', '끙...', '기대이하', '재미없다', '짱이여~', '볼만하다', '재미없어', 'ㅋㅋㅋㅋ', '으리으리', 'good', '과하다.', '딴거보셈', '졸았다.', '재미없다', 'good', '섬세하다', '미국만세', '음...', '유승호♥', '눈물난다', '지루하다', '별로에요', '까까먹자', '장애인들', '전우치짱', 'ㅋㅋ 굿', '이거머냐', '짜증난다', '재밓게봄', '재밌네여', 'good', '↓ 공감', '표절냄새', '재미없다', '짱재밌다', '멋져;;', '뷁!!!', '쓰렉ㄴㅇ', '시시하다', '재밌었음', '좋습니다', '좋아요.', '포르노네', '재미다?', 'cool', '강렬하다', '아...', '좋다 ㅋ', '안무섭다', '좋네..', '최고최고', '쓰레기통', '어이없네', '욱;;;', '재밌음!', '좋아요.', '보세요!', '초딩영화', '볼만하다', '귀엽네여', '재미업음', '꼭보세요', '습작인가', '지루하다', '어쩔건데', '재미있음', '그저그럼', '에혀 .', '그냥저냥', '해이해이', '휴잭맨짱', '팬이다.', '재미없음', '전체관람', '짱 ㅠㅠ', 'test', '실망이다', '시간낭비', '아 내눈', '가족..', 'good', '다이하드', '낯뜨겁다', '쩝...', '선동영화', '봐줄만함', '어설프다', '재미쓰~', '개망작임', '왜 봄?', '아싸.~', '쩝...', '0점이다', '이연걸짱', '어휴..', '재미있다', '재밌는데', '재미없다', '재밌어요', '볼만하네', '평점조절', 'good', '아프다.', '할말없음', '평1번더', '윤두준♡', 'good', '좋아요~', 'good', '짱 이다', '거품..', '재밌어요', '호모영화', 'good', '어쩌라고', '그냥 쩜', '잼있겠다', '....', '굿 샷!', '별로다.', '잼잇엇음', '재밌었던', '만족해요', '볼만함.', '추천!!', '그저그런', '재미없다', '한번더해', '재밋네요', '좋아요~', '강렬한걸', '볼만헀음', '제미있다', '재밌있다', '현실걸즈', '짱!!!', '최고!!', '수면제다', 'good', '별로네요', '진짜 짱', '아...', '재미없다', '굳!!!', '이힝이힝', 'zzzz', '보통이다', '재미없다', '재미없다', 'good', '난 별루', '그럭저럭', '이해불가', 'good', '아 최고', '돈아깝다', '막장이네', '휴~~~', '쩔어쩔어', '허허 파', '이영화짱', '뭐지..', '좋았어요', '죽입니다', '굿 무비', '그냥봐라', '조은영화', '최고 !', 'shit', '개나줘라', '에효..', '별루..', '재밌당!', '슬펐어요', '누가봐?', '재밌었다', 'good', '지루지루', 'Good', '정말웃김', '과대포장', '약하다.', '감독나와', '지루하다', '역시 굿', '유치빤스', '놀러왓음', '재밌어요', '이해불가', '평점조절', '10점.', '별로다,', 'Good', '칵~퉤!', '머어엉미', '재미없당', 'good', '맛있었다', '기대된다', 'adam', '막무가내', '재미있음', '좋다~~', 'OOO?', 'OO하네', '그럭저럭', '재밌어요', '어색했던', '할말없다', '재미없다', '쪼아쪼아', '별로네요', '재미있다', '벨희 굿', '연장 고', '재밋는데', '강수연~', '3점이하', '짱재밌음', '음...', '돈아까움', '아 쩌러', '추천~!', 'good', '재밌어요', 'good', '에휴..', '재밌얼얼', '아름답다', '할말없음', '재밌다.', '아름답다', '미친영화', '4.44', 'good', '나도조율', '재미종범', '그럭저럭', '좋습니다', '좋았어요', '재밌다!', '대단하다', '표절영화', '아 몰라', '재미없다', 'good', '별로..', '재밌네요', '슬퍼ㅠㅠ', '재미없다', '어휴~!', 'ㅎㅎ..', '심심풀이', '진짜별로', '최고에요', '재미없음', '재밋다.', '재미잇음', '어쩌라고', '쩝...', '영화임?', '막장ㅋㅋ', '재밋어요', '괜찮네요', 'good', '좋아요.', '좀 그럼', '잼났어요', '너무좋음', '유쾌하다', '소장용~', '^_^b', '레전드임', '재밌네-', '짱!!!', '별로에용', '만이주지', '고사성어', '꽤ok!', '최고!!', 'good', '뭐같다.', 'Good', '재밌어요', '대박!!', '재미있다', '잼없던데', '짱이야요', '심심하당', 'OO천식', '저러껒여', '재밌어요', 'good', '별로..', '남감하다', '별로~~', '최악이야', '재밌는데', 'good', '뭐냐..', '잼있네요', '역시..', '고생했다', '재밋엇당', '볼만함~', '안봐도암', '최악이다', 'ANG!', '별로..', 'OOO네', 'good', '시간낭비', '반전 쨩', '스례기다', '재밌네요', '3.14', '좋은영화', '별로네요', 'bomb', '재밌던데', '훑어 봄', '걍 싫어', '지루해.', '재미있다', '아 진짜', '짱이에요', 'good', '굿!!~', '괸찬은댕', '에이몰라', '스머프짱', 'dsad', '대박ㅋㅋ', '알바쓰냐', '별로임;', '중궈쨔응', 'OO년들', 'good', 'good', '재밋겠음', '별로,,', '아 졸려', '워래되로', '최고다!', '아효~~', '굳밤^^', '재밌었다', '슬픈영화', '명불허전', '아류작.', '이얍..', '명불허전', '우울..', '별점테러', '와우..', 'good', '빅뱅♥♥', '괜찮아.', '베리 굿', '지루해요', '꼭 봐요', '별루네요', '감동영화', '지루하다', '좋아요.', '진짜 굳', 'good', '나도 1', '애잔허다', '재미지다', '좋은영화', '사랑해!', '흠이없다', '아 뭐냐', '쓰레기들', '명작이다', '재밌네요', '1위뺏기', '보고싶엉', '시라소니', ';;ㅡㅡ', '재밌던데', '이성민짱', '최고..', '뭐 딱히', '달곰하다', '이게머냐', '잼나요~', 'OOO기', '짜증난다', 'Good', '별로네요', '헐ㅋㅋㅋ', '보고싶다', '재미업음', '오타쿠용', '캐쓰레기', 'bomb', '젠장..', '유치하다', '짱입니다', '지루함.', 'ㄹ휴혹숙', '참신함에', '대박..', 'good', '잼있음.', '굿 잡!', 'ANG?', '좋아좋아', '재미있어', '지루했다', '완전뻔함', '조하조하', '대박!!', '재밌어요', '재밋다.', '재미없다', '노래종아', 'good', '....', 'gksw', '별루임.', 'good', '조정석♥', 'ANG?', '지루함.', '재미없다', '주드로~', '보지마셈', '좋은영화', '재미없다', '재미있음', '재밌음!', '재밌어요', '보다잤다', '재밌는뎅', '사골국물', '상큼ㅋㅋ', '나 ㅜㅜ', '별루던데', '괜찮다.', '웃기다~', '비약금지', '멋지다.', '그냐으럼', '....', '재미있네', '재미지닼', 'ㅅㅂ 네', '그저그런', '월월~!', '소아적인', '독특하다', '한심할뿐', '짱점었어', '브라보~', '잼이떠여', 'Good', '참나..', '2am짱', '별로였다', '절대공감', '그냥 짱', '뭐 그냥', '재미없다', '존나구림', '쓰렉영화', '글쎄..', 'good', '재미없음', '하석진굿', '감동 ㅠ', '질질싼다', '이게모여', '....', '동반자.', '힘내세요', 'woal', '이상하다', 'ㅎㅎㅎㅎ', '쟘있냌ㅋ', '흥미진진', '완전감동', '넘재밌음', 'ㅋㅋㅋㅋ', '좋아요!', '그냥 굿', 'good', '참신하다', '그럭저럭', '장난하나', '고릴라걸', '할말없다', '호나우두', '최악이다', '발랄사악', '방어율1', '좋은데.', 'star', '그럭저럭', '재미있음', '보고잇다', '잽있다.', '재밌어요', '개 졸작', '재미씀!', '재밌네요', '최고지뭐', '실망..', \"'전설'\", '너무별루', '재미있다', '지루하다', '괜찮은데', '잼나네요', 'good', '시간낭비', '별로~~', '돈아까움', '뻔한연출', '대박..', '아윌비백', '완전잼남', 'ㅋㅋ좋음', '무색무취', 'good', '씨들겠다', '시대정신', '보고싶다', '강인구속', '좋은데?', '스릴러?', '시시하다', '졸려..', '굿임다.', 'good', '최고..', '평점관리', '재밌어요', 'good', '천재적인', '좋습니다', '좋아요.', '레알뿜음', '유일무이', 'good', '그냥좋음', '함께하자', '너무이상', '최고였지', 'good', '멋져부러', '아...', 'good', '좋다^^', '그닥..', '재미없음', '재미지죠', '어이상실', '쓰레기다', '재밌었어', '재밌어요', '비스트짱', '뽠따스틱', 'ㅄ영화임', '재미있엌', '볼게없음', '재밌었다', 'ㄹㄹㄹㄹ', '별로다.', '별로..', '유쾌하다', '됐거든.', '너무높아', '음 별로', '짜증지대', '감동적임', '굿 무비', '보다껏다', '멋지네요', '재밌네.', '좀///', '잼있따!', '우와 ㅋ', 'good', '멋진걸!', '베뤼~굿', '재밌어요', 'ㅊㅊㅊㅊ', '최악이다', '그리워.', '할말없음', '머냐이게', '굿...', '지겹다~', '재미없음', '볼만하다', '청소년용', 'GOOD', '됐거든.', 'ㅋㅋㅋㅋ', '오글오글', '쵸니멋졌', '잼있던데', 'ㅋㅋㅋㅋ', '훌륭했다', '착하다.', '재미없다', '똥이다!', '그냥그래', '이해한다', 'ㅈㄴ 김', 'good', '별로네요', '김수현짱', '재미없다', '재밌다.', '구라새끼', '좋아요.', '현대사회', '쓰레기~', '굿!!!', '지루하다', '짠하다~', '보고울음', '별로다.', '재밌었음', 'good', '영삼아~', '최고에요', '잠와..', '지루해염', '지루함이', '이거뭐요', 'rock', '재미잇다', '별루,,', 'OOOO', '최고였지', '재밌어요', '막장액션', '최고..', '시간낭비', 'good', '내사랑!', '코믹영화', 'ㅋㅋ최고', '로드무비', '재밌던데', '아...', '가비지~', 'fffd', '대리만족', '별로였다', '오 명작', '대박bb', '영화보기', '골때린다', '쪽바리~', '연기 굳', '좋았다.', '우울하네', '재미있슴', '재밌더라', '재미없다', '잼없어.', 'good', '마악자앙', '시기상조', '재미없다', 'good', '아하하하', '시간낭비', '최악이다', 'good', '재미없어', '저질이다', '왜본걸까', '최고.ㅋ', '윽 신고', 'ㅠㅠ대박', '반성하자', \"재밋 '\", '재미없음', 'ang?', '재미없어', '개더러워', 'good', '재미없어', '최고.!', '이런..', '아름답다', '소름돋음', '요시다♥', 'good', '좋다좋아', '미친영화', '재미없다', '괜찮다.', '발전하길', '떳구나~', '재밋네요', '원더풀!', '장난함?', '하...', '실망이다', 'good', '재밌다.', '별로네요', '넘지겹다', '이정도!', '재미없다', 'shit', '훈훈하닷', 'bad!', '난 별로', '그럭저럭', '재미없다', '답답했다', '역시..', '차배우♥', '굳 잡!', '최고^^', '잼있었음', 'OOO기', '실망조낸', '고자성어', '좋아요!', '에휴ㅉㅉ', '보고싶다', '원작대비', '보고싶다', 'bad!', '디게웃겨', 'good', '꼴려 ㅋ', '재밌어요', '이응이응', '으~~`', '멋진영화', '머야이거', '트롤트롤', '시간낭비', '재밌다.', '대박좋다', '최고.b', '나도그냥', '지리멸렬', 'good', '>,신고', '올리기~', '공포아님', '괜찮던데', '재밌어요', '음...', '재밋음~', '재미있다', '좋았다.', '재미겠다', '강추 ~', '뻔한내용', '므이야?', '잼씀 ㅎ', '재밌어요', '좋아요.', '재미없음', '....', '평점조정', '생날영화', '최고였음', '좋아요.', '재밌다.', '야동 ㅋ', '걍...', '최고 ㅎ', '멋진영화', '재미없다', '조아~~', 'OOO기', '볼만하다', '잼없다.', '재미없음', '재밌어요', 'good', '재밌는데', '이조녁짱', '짱!!♡', '대박이다', '재밋닼ㅋ', '재미있다', '재밌는뎅', '잼있네요', '공감백배', '비디오용', '병맛이다', '최고네요', 'ㅋㅋㅋㅋ', '난해하다', '흥분됬음', '미친영화', '개재밋음', 'good', '안타까움', '괜춘 ㅋ', 'good', 'good', '힘내세요', '구우웃!', '좋은영화', '볼만하다', '재밌어!', 'good', '대략난감', '재밌다.', '미치겠다', '9.00', '지루함.', 'ANG?', '동화같다', '영화좋음', 'good', '노조미짱', '찝찝하다', '0점없냐', '어케봄?', '4.44', 'Good', '초지일관', '미친..', 'ㅇ 좋음', '부러워~', 'OO염병', '재미없음', 'm,.m', '재미있음', '볼만햇다', '재미없네', '재밌어요', '재밌었다', '닥10점', '알바 즐', '지아장커', '이얌이얌', '대박..', '괜찮던데', '장난쳐?', '참나..', '오키도키', '비스트짱', '별루네요', '별점테러', '더OO발', '재밌어요', '짱잼씀♥', '재미없다', '명불허전', '재미없다', '간지철철', '오마이갓', '좋다..', '장난하나', 'OOO기', '재미없다', '순수하다', '최악이다', '재밌어요', '매력있는', '재미없다', 'ㅁㅃㅃ먀', '나라짱!', '볼만해요', '웃긴영화', 'good', '디워인줄', '야 OO', '명작인듯', 'ㅇㅋ다솔', '재미있음', '화려하다', '최고였다', '우웩..', '내가본다', '재미잇다', '옛다~~', '명작이다', '유치빤스', '쓰렉..', 'good', '용두사미', '별로..', '설레인다', '짱이네요', '장난치냐', '별로였다', '시간낭비', '괜찮았어', 'good', '재미없음', '별로..', '아쉽다.', '재미없어', 'Good', '최고..', 'ㅋㅋㅋㅋ', '허접함.', '평점조정', '잼있네요', '4류코믹', '재미없음', '역시..', '지루하다', '이게뭐임', '재미없음', '재미없다', '개잼있다', '엑설런트', '재미있어', '재미없네', '1등이다', '생날영화', '잼네요.', '잼있어요', '재미없어', '씨앗영화', 'T쓰레기', '잼있구만', '공지철짱', '최고다.', '재미없다', '인기없음', '신선했다', '휴;;;', '쓰레기임', '힘을네자', '....', '좋네요.', '평점조절', '평점조절', '안무서움', '재밌고만', '재밋엇음', '굿드완전', '좀 짜증', '재밋네요', '쓰레기네', '재밌러요', 'good', '별로네요', '상상력굳', '짱...', '엑스맨!', '좋았다.', 'GOOD', '좋았어요', '짱!!!', '재미없어', '재밋어요', 'ㅇ ㅔ라', '멋진데?', '보면 암', '잼있네요', '정크무비', '딱 좋음', '어떨까?', '좋아요.', '최고!!', '재미있다', '가소롭다', '재밋는데', '손예진♡', '재밌어용', '재미있다', '유치뽕짝', '큭 칙쇼', 'good', '돋네!!', '재밋는데', '무난하다', '4~5점', '평점조절', '보세요/', '재미잇다', '기본점수', '구하라♥', '강풀 짱', '재밌더군', '재밌었음', '어이없다', '할말없음', '시간낭비', '재밌는데', '사십자평', '최악이군', '아키 짱', '어이없음', '재밌었다', 'good', '재미없어', '짱재밋당', '제대로다', '하지원.', '따뜻해요', '노래좋다', '최고예요', '재밋엇엉', '웃기지마', '권오중?', '핫커피!', '진부하다', '눈물난다', '흝어 봄', '최악!!', 'Ang?', '내돈내놔', '쵝오ㅋㅋ', '감흥제로', '하...', '재밌네요', '브라보!', '재미있음', '재밋는데', 'good', '볼만했다', 'OOO기', '잼던데?', '완전최악', '하품난다', '최고였죠', '재밋네요', '레전드.', 'good', '재미없음', '재미있음', 'good', '야비하다', '재미없다', '지루제루', '개 망작', '깝 ㄴㄴ', '좀 유치', '재밌네요', '재미있다', '베리굿~', '재미잇음', '재미없어', '실망실망', '영화임?', '재미이다', '좋은영화', '우울하다', '개나줘라', 'good', '괜찮네요', '대박대박', '잼나요~', '고대세안', '어떤데?', '하지원짱', '엑윽엑엑', '그런대로', '어린악마', 'ㅋㅋㅋㅋ', '대략난감', 'good', '무리수다', '좋다 -', '머냐..', '페르난다', '김현주짱', '졸귀엽다', 'good', 'Dull', '재밌을듣', '재미있다', '잼있다.', '명작이다', '재미없음', '쨩ㅎㅎㅎ', 'good', '!!!!', '재밋엇당', '미친영화', '행복수행', '재밋어요', '쩐다!!', '연기좀봐', 'good', 'Good', '굿...', '쵝오쵝오', '이거잼슴', '2...', '멋지다!', '퀸이다!', '재미없다', 'good', '볼만하다', '난 별루', '재미없다', '^ ^/', 'ⓒⓞⓞⓛ', '그렇겠지', '멋진영화', '재미없다', '가하 파', 'good', '볼만해요', '노래자랑', '음..?', '재밋는데', '넘겨봤다', 'good', 'bad!', '재미없음', 'good', '굿이군요', '미친다.', '최고ㅜㅜ', '루즈하네', '킬링타임', '감독뭥미', 'good', '재밌었음', '좋아요.', '감동ㅠㅠ', '최악이다', '려원짱♥', 'ㅠ~~ㅠ', '아이참.']\n"
          ]
        }
      ],
      "source": [
        "print([s for s in naver_document if len(s) == 4])"
      ]
    },
    {
      "cell_type": "markdown",
      "metadata": {
        "id": "L1aLs8yOBp8T"
      },
      "source": [
        "## SentencePiece 사용하기 "
      ]
    },
    {
      "cell_type": "code",
      "execution_count": 142,
      "metadata": {
        "colab": {
          "base_uri": "https://localhost:8080/"
        },
        "id": "4_ClJIr495N6",
        "outputId": "9cb02bad-fc63-40cf-8622-6c518c1b6f9c"
      },
      "outputs": [
        {
          "name": "stdout",
          "output_type": "stream",
          "text": [
            "/content/drive/MyDrive/Colab Notebooks/아이펠/02NLP_word_dict\n"
          ]
        }
      ],
      "source": [
        "%cd /content/drive/MyDrive/Colab Notebooks/아이펠/02NLP_word_dict\n",
        "with open('naver_review.txt', 'w', encoding='utf8') as f:\n",
        "    f.write('\\n'.join(naver_document))"
      ]
    },
    {
      "cell_type": "code",
      "execution_count": 143,
      "metadata": {
        "id": "arjadelqhYKE"
      },
      "outputs": [],
      "source": [
        "# Unigram 타입\n",
        "spm.SentencePieceTrainer.Train(\n",
        "    '--input=naver_review.txt --model_prefix=naver_Unigram --vocab_size=8000 --max_sentence_length=100')"
      ]
    },
    {
      "cell_type": "code",
      "execution_count": 144,
      "metadata": {
        "id": "2smjCOQmhXgN"
      },
      "outputs": [],
      "source": [
        "# BPE 타입\n",
        "spm.SentencePieceTrainer.Train(\n",
        "    '--input=naver_review.txt --model_prefix=naver_BPE --vocab_size=8000 --model_type=bpe --max_sentence_length=100')"
      ]
    },
    {
      "cell_type": "code",
      "execution_count": 145,
      "metadata": {
        "colab": {
          "base_uri": "https://localhost:8080/",
          "height": 376
        },
        "id": "bW8HcxHmA29K",
        "outputId": "e1a24a4a-9a9c-42fe-e807-17614cc9d6a3"
      },
      "outputs": [
        {
          "name": "stdout",
          "output_type": "stream",
          "text": [
            "Unigram타입의 단어 개수: 8000\n"
          ]
        },
        {
          "data": {
            "text/html": [
              "\n",
              "  <div id=\"df-2534f865-f470-435a-a5f5-26f4d65b3e0b\">\n",
              "    <div class=\"colab-df-container\">\n",
              "      <div>\n",
              "<style scoped>\n",
              "    .dataframe tbody tr th:only-of-type {\n",
              "        vertical-align: middle;\n",
              "    }\n",
              "\n",
              "    .dataframe tbody tr th {\n",
              "        vertical-align: top;\n",
              "    }\n",
              "\n",
              "    .dataframe thead th {\n",
              "        text-align: right;\n",
              "    }\n",
              "</style>\n",
              "<table border=\"1\" class=\"dataframe\">\n",
              "  <thead>\n",
              "    <tr style=\"text-align: right;\">\n",
              "      <th></th>\n",
              "      <th>0</th>\n",
              "      <th>1</th>\n",
              "    </tr>\n",
              "  </thead>\n",
              "  <tbody>\n",
              "    <tr>\n",
              "      <th>100</th>\n",
              "      <td>▁봤는데</td>\n",
              "      <td>-6.85408</td>\n",
              "    </tr>\n",
              "    <tr>\n",
              "      <th>101</th>\n",
              "      <td>미</td>\n",
              "      <td>-6.86086</td>\n",
              "    </tr>\n",
              "    <tr>\n",
              "      <th>102</th>\n",
              "      <td>▁없는</td>\n",
              "      <td>-6.86160</td>\n",
              "    </tr>\n",
              "    <tr>\n",
              "      <th>103</th>\n",
              "      <td>▁참</td>\n",
              "      <td>-6.86687</td>\n",
              "    </tr>\n",
              "    <tr>\n",
              "      <th>104</th>\n",
              "      <td>냐</td>\n",
              "      <td>-6.86744</td>\n",
              "    </tr>\n",
              "    <tr>\n",
              "      <th>105</th>\n",
              "      <td>^^</td>\n",
              "      <td>-6.86950</td>\n",
              "    </tr>\n",
              "    <tr>\n",
              "      <th>106</th>\n",
              "      <td>임</td>\n",
              "      <td>-6.87881</td>\n",
              "    </tr>\n",
              "    <tr>\n",
              "      <th>107</th>\n",
              "      <td>지만</td>\n",
              "      <td>-6.88062</td>\n",
              "    </tr>\n",
              "    <tr>\n",
              "      <th>108</th>\n",
              "      <td>▁한</td>\n",
              "      <td>-6.89561</td>\n",
              "    </tr>\n",
              "    <tr>\n",
              "      <th>109</th>\n",
              "      <td>드</td>\n",
              "      <td>-6.90539</td>\n",
              "    </tr>\n",
              "  </tbody>\n",
              "</table>\n",
              "</div>\n",
              "      <button class=\"colab-df-convert\" onclick=\"convertToInteractive('df-2534f865-f470-435a-a5f5-26f4d65b3e0b')\"\n",
              "              title=\"Convert this dataframe to an interactive table.\"\n",
              "              style=\"display:none;\">\n",
              "        \n",
              "  <svg xmlns=\"http://www.w3.org/2000/svg\" height=\"24px\"viewBox=\"0 0 24 24\"\n",
              "       width=\"24px\">\n",
              "    <path d=\"M0 0h24v24H0V0z\" fill=\"none\"/>\n",
              "    <path d=\"M18.56 5.44l.94 2.06.94-2.06 2.06-.94-2.06-.94-.94-2.06-.94 2.06-2.06.94zm-11 1L8.5 8.5l.94-2.06 2.06-.94-2.06-.94L8.5 2.5l-.94 2.06-2.06.94zm10 10l.94 2.06.94-2.06 2.06-.94-2.06-.94-.94-2.06-.94 2.06-2.06.94z\"/><path d=\"M17.41 7.96l-1.37-1.37c-.4-.4-.92-.59-1.43-.59-.52 0-1.04.2-1.43.59L10.3 9.45l-7.72 7.72c-.78.78-.78 2.05 0 2.83L4 21.41c.39.39.9.59 1.41.59.51 0 1.02-.2 1.41-.59l7.78-7.78 2.81-2.81c.8-.78.8-2.07 0-2.86zM5.41 20L4 18.59l7.72-7.72 1.47 1.35L5.41 20z\"/>\n",
              "  </svg>\n",
              "      </button>\n",
              "      \n",
              "  <style>\n",
              "    .colab-df-container {\n",
              "      display:flex;\n",
              "      flex-wrap:wrap;\n",
              "      gap: 12px;\n",
              "    }\n",
              "\n",
              "    .colab-df-convert {\n",
              "      background-color: #E8F0FE;\n",
              "      border: none;\n",
              "      border-radius: 50%;\n",
              "      cursor: pointer;\n",
              "      display: none;\n",
              "      fill: #1967D2;\n",
              "      height: 32px;\n",
              "      padding: 0 0 0 0;\n",
              "      width: 32px;\n",
              "    }\n",
              "\n",
              "    .colab-df-convert:hover {\n",
              "      background-color: #E2EBFA;\n",
              "      box-shadow: 0px 1px 2px rgba(60, 64, 67, 0.3), 0px 1px 3px 1px rgba(60, 64, 67, 0.15);\n",
              "      fill: #174EA6;\n",
              "    }\n",
              "\n",
              "    [theme=dark] .colab-df-convert {\n",
              "      background-color: #3B4455;\n",
              "      fill: #D2E3FC;\n",
              "    }\n",
              "\n",
              "    [theme=dark] .colab-df-convert:hover {\n",
              "      background-color: #434B5C;\n",
              "      box-shadow: 0px 1px 3px 1px rgba(0, 0, 0, 0.15);\n",
              "      filter: drop-shadow(0px 1px 2px rgba(0, 0, 0, 0.3));\n",
              "      fill: #FFFFFF;\n",
              "    }\n",
              "  </style>\n",
              "\n",
              "      <script>\n",
              "        const buttonEl =\n",
              "          document.querySelector('#df-2534f865-f470-435a-a5f5-26f4d65b3e0b button.colab-df-convert');\n",
              "        buttonEl.style.display =\n",
              "          google.colab.kernel.accessAllowed ? 'block' : 'none';\n",
              "\n",
              "        async function convertToInteractive(key) {\n",
              "          const element = document.querySelector('#df-2534f865-f470-435a-a5f5-26f4d65b3e0b');\n",
              "          const dataTable =\n",
              "            await google.colab.kernel.invokeFunction('convertToInteractive',\n",
              "                                                     [key], {});\n",
              "          if (!dataTable) return;\n",
              "\n",
              "          const docLinkHtml = 'Like what you see? Visit the ' +\n",
              "            '<a target=\"_blank\" href=https://colab.research.google.com/notebooks/data_table.ipynb>data table notebook</a>'\n",
              "            + ' to learn more about interactive tables.';\n",
              "          element.innerHTML = '';\n",
              "          dataTable['output_type'] = 'display_data';\n",
              "          await google.colab.output.renderOutput(dataTable, element);\n",
              "          const docLink = document.createElement('div');\n",
              "          docLink.innerHTML = docLinkHtml;\n",
              "          element.appendChild(docLink);\n",
              "        }\n",
              "      </script>\n",
              "    </div>\n",
              "  </div>\n",
              "  "
            ],
            "text/plain": [
              "        0        1\n",
              "100  ▁봤는데 -6.85408\n",
              "101     미 -6.86086\n",
              "102   ▁없는 -6.86160\n",
              "103    ▁참 -6.86687\n",
              "104     냐 -6.86744\n",
              "105    ^^ -6.86950\n",
              "106     임 -6.87881\n",
              "107    지만 -6.88062\n",
              "108    ▁한 -6.89561\n",
              "109     드 -6.90539"
            ]
          },
          "metadata": {},
          "output_type": "display_data"
        }
      ],
      "source": [
        "vocab_list_Unigram = pd.read_csv('naver_Unigram.vocab', sep='\\t', header=None, quoting=csv.QUOTE_NONE)\n",
        "\n",
        "print('Unigram타입의 단어 개수:',len(vocab_list_Unigram))\n",
        "display(vocab_list_Unigram[100:110])"
      ]
    },
    {
      "cell_type": "code",
      "execution_count": 146,
      "metadata": {
        "colab": {
          "base_uri": "https://localhost:8080/",
          "height": 376
        },
        "id": "-lnctNU0A3As",
        "outputId": "2da52ac1-df5d-4f93-ee48-1cd5e9fc3395"
      },
      "outputs": [
        {
          "name": "stdout",
          "output_type": "stream",
          "text": [
            "BPE타입의 단어 개수: 8000\n"
          ]
        },
        {
          "data": {
            "text/html": [
              "\n",
              "  <div id=\"df-263729cc-55ed-447c-9670-b84a58246d98\">\n",
              "    <div class=\"colab-df-container\">\n",
              "      <div>\n",
              "<style scoped>\n",
              "    .dataframe tbody tr th:only-of-type {\n",
              "        vertical-align: middle;\n",
              "    }\n",
              "\n",
              "    .dataframe tbody tr th {\n",
              "        vertical-align: top;\n",
              "    }\n",
              "\n",
              "    .dataframe thead th {\n",
              "        text-align: right;\n",
              "    }\n",
              "</style>\n",
              "<table border=\"1\" class=\"dataframe\">\n",
              "  <thead>\n",
              "    <tr style=\"text-align: right;\">\n",
              "      <th></th>\n",
              "      <th>0</th>\n",
              "      <th>1</th>\n",
              "    </tr>\n",
              "  </thead>\n",
              "  <tbody>\n",
              "    <tr>\n",
              "      <th>100</th>\n",
              "      <td>▁완</td>\n",
              "      <td>-97</td>\n",
              "    </tr>\n",
              "    <tr>\n",
              "      <th>101</th>\n",
              "      <td>▁소</td>\n",
              "      <td>-98</td>\n",
              "    </tr>\n",
              "    <tr>\n",
              "      <th>102</th>\n",
              "      <td>었다</td>\n",
              "      <td>-99</td>\n",
              "    </tr>\n",
              "    <tr>\n",
              "      <th>103</th>\n",
              "      <td>▁생각</td>\n",
              "      <td>-100</td>\n",
              "    </tr>\n",
              "    <tr>\n",
              "      <th>104</th>\n",
              "      <td>▁못</td>\n",
              "      <td>-101</td>\n",
              "    </tr>\n",
              "    <tr>\n",
              "      <th>105</th>\n",
              "      <td>▁알</td>\n",
              "      <td>-102</td>\n",
              "    </tr>\n",
              "    <tr>\n",
              "      <th>106</th>\n",
              "      <td>▁뭐</td>\n",
              "      <td>-103</td>\n",
              "    </tr>\n",
              "    <tr>\n",
              "      <th>107</th>\n",
              "      <td>▁쓰레기</td>\n",
              "      <td>-104</td>\n",
              "    </tr>\n",
              "    <tr>\n",
              "      <th>108</th>\n",
              "      <td>^^</td>\n",
              "      <td>-105</td>\n",
              "    </tr>\n",
              "    <tr>\n",
              "      <th>109</th>\n",
              "      <td>;;</td>\n",
              "      <td>-106</td>\n",
              "    </tr>\n",
              "  </tbody>\n",
              "</table>\n",
              "</div>\n",
              "      <button class=\"colab-df-convert\" onclick=\"convertToInteractive('df-263729cc-55ed-447c-9670-b84a58246d98')\"\n",
              "              title=\"Convert this dataframe to an interactive table.\"\n",
              "              style=\"display:none;\">\n",
              "        \n",
              "  <svg xmlns=\"http://www.w3.org/2000/svg\" height=\"24px\"viewBox=\"0 0 24 24\"\n",
              "       width=\"24px\">\n",
              "    <path d=\"M0 0h24v24H0V0z\" fill=\"none\"/>\n",
              "    <path d=\"M18.56 5.44l.94 2.06.94-2.06 2.06-.94-2.06-.94-.94-2.06-.94 2.06-2.06.94zm-11 1L8.5 8.5l.94-2.06 2.06-.94-2.06-.94L8.5 2.5l-.94 2.06-2.06.94zm10 10l.94 2.06.94-2.06 2.06-.94-2.06-.94-.94-2.06-.94 2.06-2.06.94z\"/><path d=\"M17.41 7.96l-1.37-1.37c-.4-.4-.92-.59-1.43-.59-.52 0-1.04.2-1.43.59L10.3 9.45l-7.72 7.72c-.78.78-.78 2.05 0 2.83L4 21.41c.39.39.9.59 1.41.59.51 0 1.02-.2 1.41-.59l7.78-7.78 2.81-2.81c.8-.78.8-2.07 0-2.86zM5.41 20L4 18.59l7.72-7.72 1.47 1.35L5.41 20z\"/>\n",
              "  </svg>\n",
              "      </button>\n",
              "      \n",
              "  <style>\n",
              "    .colab-df-container {\n",
              "      display:flex;\n",
              "      flex-wrap:wrap;\n",
              "      gap: 12px;\n",
              "    }\n",
              "\n",
              "    .colab-df-convert {\n",
              "      background-color: #E8F0FE;\n",
              "      border: none;\n",
              "      border-radius: 50%;\n",
              "      cursor: pointer;\n",
              "      display: none;\n",
              "      fill: #1967D2;\n",
              "      height: 32px;\n",
              "      padding: 0 0 0 0;\n",
              "      width: 32px;\n",
              "    }\n",
              "\n",
              "    .colab-df-convert:hover {\n",
              "      background-color: #E2EBFA;\n",
              "      box-shadow: 0px 1px 2px rgba(60, 64, 67, 0.3), 0px 1px 3px 1px rgba(60, 64, 67, 0.15);\n",
              "      fill: #174EA6;\n",
              "    }\n",
              "\n",
              "    [theme=dark] .colab-df-convert {\n",
              "      background-color: #3B4455;\n",
              "      fill: #D2E3FC;\n",
              "    }\n",
              "\n",
              "    [theme=dark] .colab-df-convert:hover {\n",
              "      background-color: #434B5C;\n",
              "      box-shadow: 0px 1px 3px 1px rgba(0, 0, 0, 0.15);\n",
              "      filter: drop-shadow(0px 1px 2px rgba(0, 0, 0, 0.3));\n",
              "      fill: #FFFFFF;\n",
              "    }\n",
              "  </style>\n",
              "\n",
              "      <script>\n",
              "        const buttonEl =\n",
              "          document.querySelector('#df-263729cc-55ed-447c-9670-b84a58246d98 button.colab-df-convert');\n",
              "        buttonEl.style.display =\n",
              "          google.colab.kernel.accessAllowed ? 'block' : 'none';\n",
              "\n",
              "        async function convertToInteractive(key) {\n",
              "          const element = document.querySelector('#df-263729cc-55ed-447c-9670-b84a58246d98');\n",
              "          const dataTable =\n",
              "            await google.colab.kernel.invokeFunction('convertToInteractive',\n",
              "                                                     [key], {});\n",
              "          if (!dataTable) return;\n",
              "\n",
              "          const docLinkHtml = 'Like what you see? Visit the ' +\n",
              "            '<a target=\"_blank\" href=https://colab.research.google.com/notebooks/data_table.ipynb>data table notebook</a>'\n",
              "            + ' to learn more about interactive tables.';\n",
              "          element.innerHTML = '';\n",
              "          dataTable['output_type'] = 'display_data';\n",
              "          await google.colab.output.renderOutput(dataTable, element);\n",
              "          const docLink = document.createElement('div');\n",
              "          docLink.innerHTML = docLinkHtml;\n",
              "          element.appendChild(docLink);\n",
              "        }\n",
              "      </script>\n",
              "    </div>\n",
              "  </div>\n",
              "  "
            ],
            "text/plain": [
              "        0    1\n",
              "100    ▁완  -97\n",
              "101    ▁소  -98\n",
              "102    었다  -99\n",
              "103   ▁생각 -100\n",
              "104    ▁못 -101\n",
              "105    ▁알 -102\n",
              "106    ▁뭐 -103\n",
              "107  ▁쓰레기 -104\n",
              "108    ^^ -105\n",
              "109    ;; -106"
            ]
          },
          "metadata": {},
          "output_type": "display_data"
        }
      ],
      "source": [
        "vocab_list_BPE = pd.read_csv('naver_BPE.vocab', sep='\\t', header=None, quoting=csv.QUOTE_NONE)\n",
        "\n",
        "print('BPE타입의 단어 개수:',len(vocab_list_BPE))\n",
        "display(vocab_list_BPE[100:110])"
      ]
    },
    {
      "cell_type": "code",
      "execution_count": 147,
      "metadata": {
        "colab": {
          "base_uri": "https://localhost:8080/"
        },
        "id": "gf_Lpv3gA3Ec",
        "outputId": "1b009ff2-c1b6-48a2-bf77-78c8e33db0bb"
      },
      "outputs": [
        {
          "name": "stdout",
          "output_type": "stream",
          "text": [
            "문장 아 더빙.. 진짜 짜증나네요 목소리\t\n",
            "문장을 pices로 =>  ['▁아', '▁더빙', '..', '▁진짜', '▁짜증나', '네요', '▁목소리']\n",
            "문장을 id로 =>  [46, 887, 5, 28, 1608, 65, 1781]\n",
            "\n",
            "문장 사이몬페그의 익살스런 연기가 돋보였던 영화!스파이더맨에서 늙어보이기만 했던 커스틴 ...\n",
            "문장을 pices로 =>  ['▁사이', '몬', '페', '그', '의', '▁', '익', '살', '스런', '▁연기가', '▁돋', '보', '였던', '▁영화', '!', '스파이더맨', '에서', '▁늙어', '보이', '기만', '▁했던', '▁커', '스틴', '▁', '...']\n",
            "문장을 id로 =>  [3088, 2641, 1549, 230, 9, 3, 1431, 415, 2686, 530, 2249, 123, 2292, 6, 19, 6695, 58, 6843, 2500, 1403, 3371, 1932, 5499, 3, 7]\n",
            "\n"
          ]
        }
      ],
      "source": [
        "# Unigram 타입\n",
        "s_uni = spm.SentencePieceProcessor()\n",
        "vocab_uni_file = \"/content/drive/MyDrive/Colab Notebooks/아이펠/02NLP_word_dict/naver_Unigram.model\"\n",
        "s_uni.load(vocab_uni_file)\n",
        "\n",
        "sentence = [\n",
        "  \"아 더빙.. 진짜 짜증나네요 목소리\t\",\n",
        "  \"사이몬페그의 익살스런 연기가 돋보였던 영화!스파이더맨에서 늙어보이기만 했던 커스틴 ...\",\n",
        "]\n",
        "\n",
        "for sen in sentence:\n",
        "  print(\"문장\", sen)\n",
        "  print(\"문장을 pices로 => \", s_uni.encode_as_pieces(sen))\n",
        "  print(\"문장을 id로 => \",s_uni.encode_as_ids(sen))\n",
        "  print()"
      ]
    },
    {
      "cell_type": "code",
      "execution_count": 148,
      "metadata": {
        "colab": {
          "base_uri": "https://localhost:8080/"
        },
        "id": "TdZS1Wa-A3H9",
        "outputId": "2d84cd08-fa09-4379-f305-283369219dbd"
      },
      "outputs": [
        {
          "name": "stdout",
          "output_type": "stream",
          "text": [
            "문장 아 더빙.. 진짜 짜증나네요 목소리\t\n",
            "문장을 pices로 =>  ['▁아', '▁더빙', '..', '▁진짜', '▁짜증나', '네요', '▁목소리']\n",
            "문장을 id로 =>  [46, 887, 5, 28, 1608, 65, 1781]\n",
            "\n",
            "문장 사이몬페그의 익살스런 연기가 돋보였던 영화!스파이더맨에서 늙어보이기만 했던 커스틴 ...\n",
            "문장을 pices로 =>  ['▁사이', '몬', '페', '그', '의', '▁', '익', '살', '스런', '▁연기가', '▁돋', '보', '였던', '▁영화', '!', '스파이더맨', '에서', '▁늙어', '보이', '기만', '▁했던', '▁커', '스틴', '▁', '...']\n",
            "문장을 id로 =>  [3088, 2641, 1549, 230, 9, 3, 1431, 415, 2686, 530, 2249, 123, 2292, 6, 19, 6695, 58, 6843, 2500, 1403, 3371, 1932, 5499, 3, 7]\n",
            "\n"
          ]
        }
      ],
      "source": [
        "# BPE 타입\n",
        "s_BPE = spm.SentencePieceProcessor()\n",
        "vocab_BPE_file = \"/content/drive/MyDrive/Colab Notebooks/아이펠/02NLP_word_dict/naver_BPE.model\"\n",
        "s_BPE.load(vocab_BPE_file)\n",
        "\n",
        "sentence = [\n",
        "  \"아 더빙.. 진짜 짜증나네요 목소리\t\",\n",
        "  \"사이몬페그의 익살스런 연기가 돋보였던 영화!스파이더맨에서 늙어보이기만 했던 커스틴 ...\",\n",
        "]\n",
        "\n",
        "for sen in sentence:\n",
        "  print(\"문장\", sen)\n",
        "  print(\"문장을 pices로 => \", s_uni.encode_as_pieces(sen))\n",
        "  print(\"문장을 id로 => \",s_uni.encode_as_ids(sen))\n",
        "  print()"
      ]
    },
    {
      "cell_type": "markdown",
      "metadata": {
        "id": "YHGLYG3TmApB"
      },
      "source": [
        "### sp_tokenize() 메소드 구현하기"
      ]
    },
    {
      "cell_type": "code",
      "execution_count": 149,
      "metadata": {
        "id": "QspmfZB8mIzh"
      },
      "outputs": [],
      "source": [
        "# Unigram 타입\n",
        "\n",
        "def sp_unigram_tokenize(s_uni, corpus):\n",
        "\n",
        "    tensor = []\n",
        "\n",
        "    for sen in corpus:\n",
        "        tensor.append(s_uni.EncodeAsIds(sen))\n",
        "    path = \"/content/drive/MyDrive/Colab Notebooks/아이펠/02NLP_word_dict/naver_Unigram.vocab\"\n",
        "    with open(path, 'r') as f:\n",
        "        vocab = f.readlines()\n",
        "\n",
        "    word_index = {}\n",
        "    index_word = {}\n",
        "\n",
        "    for idx, line in enumerate(vocab):\n",
        "        word = line.split(\"\\t\")[0]\n",
        "\n",
        "        word_index.update({word:idx})\n",
        "        index_word.update({idx:word})\n",
        "\n",
        "    tensor = tf.keras.preprocessing.sequence.pad_sequences(tensor, padding='post')\n",
        "\n",
        "    return tensor, word_index, index_word"
      ]
    },
    {
      "cell_type": "code",
      "execution_count": 150,
      "metadata": {
        "colab": {
          "base_uri": "https://localhost:8080/"
        },
        "id": "r6n4GPOPmTAz",
        "outputId": "9cd4b7d2-5392-47ef-9eef-4caefa8f0c78"
      },
      "outputs": [
        {
          "name": "stdout",
          "output_type": "stream",
          "text": [
            "[[ 438 3071   15 1053 2702    4    0    0    0    0    0    0    0]\n",
            " [1590 2233  202  613   10  270 7908  859    7    0    0    0    0]\n",
            " [1789   18 1908 2668    9   31    3 2675   18 1693   52  243    4]]\n"
          ]
        }
      ],
      "source": [
        "# Unigram 타입\n",
        "#sp_tokenize(s, corpus) 사용예제\n",
        "\n",
        "my_corpus = ['나는 밥을 먹었습니다.', '그러나 여전히 ㅠㅠ 배가 고픕니다...', '이것은 제가 임의로 넣은 문자입니다.']\n",
        "tensor_uni, word_index_uni, index_word_uni = sp_unigram_tokenize(s_uni, my_corpus)\n",
        "print(tensor_uni)"
      ]
    },
    {
      "cell_type": "code",
      "execution_count": 151,
      "metadata": {
        "colab": {
          "base_uri": "https://localhost:8080/"
        },
        "id": "eRlcA1wq-I3c",
        "outputId": "db72be2d-c812-4f58-e620-190f8451d79c"
      },
      "outputs": [
        {
          "name": "stdout",
          "output_type": "stream",
          "text": [
            "(199992, 133)\n"
          ]
        }
      ],
      "source": [
        "tensor_uni, word_index_uni, index_word_uni = sp_unigram_tokenize(s_uni, naver_document)\n",
        "\n",
        "print(tensor_uni.shape)"
      ]
    },
    {
      "cell_type": "code",
      "execution_count": 152,
      "metadata": {
        "id": "oIYpsYdU7NJj"
      },
      "outputs": [],
      "source": [
        "# BPE  타입\n",
        "\n",
        "def sp_bpe_tokenize(s_BPE, corpus):\n",
        "\n",
        "    tensor = []\n",
        "\n",
        "    for sen in corpus:\n",
        "        tensor.append(s_uni.EncodeAsIds(sen))\n",
        "    path = \"/content/drive/MyDrive/Colab Notebooks/아이펠/02NLP_word_dict/naver_BPE.vocab\"\n",
        "    with open(path, 'r') as f:\n",
        "        vocab = f.readlines()\n",
        "\n",
        "    word_index = {}\n",
        "    index_word = {}\n",
        "\n",
        "    for idx, line in enumerate(vocab):\n",
        "        word = line.split(\"\\t\")[0]\n",
        "\n",
        "        word_index.update({word:idx})\n",
        "        index_word.update({idx:word})\n",
        "\n",
        "    tensor = tf.keras.preprocessing.sequence.pad_sequences(tensor, padding='post')\n",
        "\n",
        "    return tensor, word_index, index_word"
      ]
    },
    {
      "cell_type": "code",
      "execution_count": 153,
      "metadata": {
        "colab": {
          "base_uri": "https://localhost:8080/"
        },
        "id": "lqOHgj9p7NW1",
        "outputId": "fb979ee9-77d0-4fd6-9801-0394d198ff3f"
      },
      "outputs": [
        {
          "name": "stdout",
          "output_type": "stream",
          "text": [
            "[[ 438 3071   15 1053 2702    4    0    0    0    0    0    0    0]\n",
            " [1590 2233  202  613   10  270 7908  859    7    0    0    0    0]\n",
            " [1789   18 1908 2668    9   31    3 2675   18 1693   52  243    4]]\n",
            "(3, 13)\n"
          ]
        }
      ],
      "source": [
        "# BPE  타입\n",
        "#sp_tokenize(s, corpus) 사용예제\n",
        "\n",
        "my_corpus = ['나는 밥을 먹었습니다.', '그러나 여전히 ㅠㅠ 배가 고픕니다...', '이것은 제가 임의로 넣은 문자입니다.']\n",
        "tensor_bpe, word_index_bpe, index_word_bpe = sp_bpe_tokenize(s_BPE, my_corpus)\n",
        "print(tensor_bpe)\n",
        "print(tensor_bpe.shape)"
      ]
    },
    {
      "cell_type": "code",
      "execution_count": 154,
      "metadata": {
        "colab": {
          "base_uri": "https://localhost:8080/"
        },
        "id": "MCB1P2hz-Uo-",
        "outputId": "70287063-9d3f-45c0-97dc-f7e09e79149d"
      },
      "outputs": [
        {
          "name": "stdout",
          "output_type": "stream",
          "text": [
            "(199992, 133)\n"
          ]
        }
      ],
      "source": [
        "tensor_bpe, word_index_bpe, index_word_bpe = sp_bpe_tokenize(s_BPE, naver_document)\n",
        "\n",
        "print(tensor_bpe.shape)"
      ]
    },
    {
      "cell_type": "markdown",
      "metadata": {
        "id": "7QpzxO4gA3mk"
      },
      "source": [
        "### 모델 학습하기"
      ]
    },
    {
      "cell_type": "code",
      "execution_count": 155,
      "metadata": {
        "colab": {
          "base_uri": "https://localhost:8080/"
        },
        "id": "uRuZCllMA3yJ",
        "outputId": "ae697aef-ab00-438c-b047-0d4dc807b21c"
      },
      "outputs": [
        {
          "name": "stdout",
          "output_type": "stream",
          "text": [
            "(96182, 133)\n",
            "(96182,)\n",
            "(96182, 133)\n",
            "(96182,)\n"
          ]
        }
      ],
      "source": [
        "# 데이터 분할\n",
        "X_train = tensor_uni[:146182]\n",
        "X_test = tensor_uni[146182:]\n",
        "\n",
        "y_train = np.array(list(naver_label[:146182]))\n",
        "y_test = np.array(list(naver_label[146182:]))\n",
        "\n",
        "# validation set 50000건 분리\n",
        "x_val = X_train[:50000]   \n",
        "y_val = y_train[:50000]\n",
        "\n",
        "# validation set을 제외한 나머지 \n",
        "partial_X_train = X_train[50000:]  \n",
        "partial_y_train = y_train[50000:]\n",
        "\n",
        "print(partial_X_train.shape)\n",
        "print(partial_y_train.shape)\n",
        "\n",
        "print(partial_X_train.shape)\n",
        "print(partial_y_train.shape)"
      ]
    },
    {
      "cell_type": "code",
      "execution_count": 156,
      "metadata": {
        "colab": {
          "base_uri": "https://localhost:8080/"
        },
        "id": "_mUSjNmF89xt",
        "outputId": "f8259808-3ef0-49c2-a7c2-3c9a33f5bc78"
      },
      "outputs": [
        {
          "name": "stdout",
          "output_type": "stream",
          "text": [
            "Model: \"sequential_5\"\n",
            "_________________________________________________________________\n",
            " Layer (type)                Output Shape              Param #   \n",
            "=================================================================\n",
            " embedding_5 (Embedding)     (None, None, 16)          160000    \n",
            "                                                                 \n",
            " lstm_5 (LSTM)               (None, 12)                1392      \n",
            "                                                                 \n",
            " dense_10 (Dense)            (None, 8)                 104       \n",
            "                                                                 \n",
            " dense_11 (Dense)            (None, 1)                 9         \n",
            "                                                                 \n",
            "=================================================================\n",
            "Total params: 161,505\n",
            "Trainable params: 161,505\n",
            "Non-trainable params: 0\n",
            "_________________________________________________________________\n"
          ]
        }
      ],
      "source": [
        "import numpy as np\n",
        "import tensorflow as tf\n",
        "from tensorflow import keras\n",
        "\n",
        "vocab_size = 10000    \n",
        "word_vector_dim = 16\n",
        "\n",
        "model_rnn = keras.Sequential()\n",
        "model_rnn.add(keras.layers.Embedding(vocab_size, word_vector_dim, input_shape=(None,)))\n",
        "model_rnn.add(keras.layers.LSTM(12))   \n",
        "model_rnn.add(keras.layers.Dense(8, activation='relu'))\n",
        "model_rnn.add(keras.layers.Dense(1, activation='sigmoid'))  \n",
        "\n",
        "model_rnn.summary()"
      ]
    },
    {
      "cell_type": "code",
      "execution_count": 157,
      "metadata": {
        "colab": {
          "base_uri": "https://localhost:8080/"
        },
        "id": "k_CbSAiE8941",
        "outputId": "ed3d3619-42d4-4f67-f9fb-ec0eeb8f64b7"
      },
      "outputs": [
        {
          "name": "stdout",
          "output_type": "stream",
          "text": [
            "Epoch 1/20\n",
            "188/188 [==============================] - 7s 19ms/step - loss: 0.6931 - accuracy: 0.4993 - val_loss: 0.6932 - val_accuracy: 0.5004\n",
            "Epoch 2/20\n",
            "188/188 [==============================] - 3s 17ms/step - loss: 0.6932 - accuracy: 0.5006 - val_loss: 0.6932 - val_accuracy: 0.5004\n",
            "Epoch 3/20\n",
            "188/188 [==============================] - 3s 16ms/step - loss: 0.6932 - accuracy: 0.5006 - val_loss: 0.6932 - val_accuracy: 0.5004\n",
            "Epoch 4/20\n",
            "188/188 [==============================] - 3s 16ms/step - loss: 0.6932 - accuracy: 0.5016 - val_loss: 0.6931 - val_accuracy: 0.5004\n",
            "Epoch 5/20\n",
            "188/188 [==============================] - 3s 17ms/step - loss: 0.6931 - accuracy: 0.5016 - val_loss: 0.6931 - val_accuracy: 0.5004\n",
            "Epoch 6/20\n",
            "188/188 [==============================] - 2s 13ms/step - loss: 0.6931 - accuracy: 0.5016 - val_loss: 0.6931 - val_accuracy: 0.5004\n",
            "Epoch 7/20\n",
            "188/188 [==============================] - 2s 13ms/step - loss: 0.6932 - accuracy: 0.4998 - val_loss: 0.6931 - val_accuracy: 0.5004\n",
            "Epoch 8/20\n",
            "188/188 [==============================] - 3s 16ms/step - loss: 0.6932 - accuracy: 0.5007 - val_loss: 0.6932 - val_accuracy: 0.5004\n",
            "Epoch 9/20\n",
            "188/188 [==============================] - 3s 17ms/step - loss: 0.6932 - accuracy: 0.4990 - val_loss: 0.6932 - val_accuracy: 0.4996\n",
            "Epoch 10/20\n",
            "188/188 [==============================] - 3s 15ms/step - loss: 0.6932 - accuracy: 0.4996 - val_loss: 0.6931 - val_accuracy: 0.4996\n",
            "Epoch 11/20\n",
            "188/188 [==============================] - 3s 15ms/step - loss: 0.6932 - accuracy: 0.4989 - val_loss: 0.6931 - val_accuracy: 0.4996\n",
            "Epoch 12/20\n",
            "188/188 [==============================] - 3s 18ms/step - loss: 0.6932 - accuracy: 0.5005 - val_loss: 0.6932 - val_accuracy: 0.5004\n",
            "Epoch 13/20\n",
            "188/188 [==============================] - 2s 12ms/step - loss: 0.6932 - accuracy: 0.5000 - val_loss: 0.6932 - val_accuracy: 0.5004\n",
            "Epoch 14/20\n",
            "188/188 [==============================] - 2s 12ms/step - loss: 0.6931 - accuracy: 0.5016 - val_loss: 0.6932 - val_accuracy: 0.5004\n",
            "Epoch 15/20\n",
            "188/188 [==============================] - 3s 14ms/step - loss: 0.6931 - accuracy: 0.4989 - val_loss: 0.6932 - val_accuracy: 0.5004\n",
            "Epoch 16/20\n",
            "188/188 [==============================] - 3s 14ms/step - loss: 0.6931 - accuracy: 0.5012 - val_loss: 0.6932 - val_accuracy: 0.5004\n",
            "Epoch 17/20\n",
            "188/188 [==============================] - 2s 13ms/step - loss: 0.6932 - accuracy: 0.5016 - val_loss: 0.6932 - val_accuracy: 0.5004\n",
            "Epoch 18/20\n",
            "188/188 [==============================] - 3s 13ms/step - loss: 0.6931 - accuracy: 0.5007 - val_loss: 0.6932 - val_accuracy: 0.5004\n",
            "Epoch 19/20\n",
            "188/188 [==============================] - 3s 15ms/step - loss: 0.6931 - accuracy: 0.5011 - val_loss: 0.6932 - val_accuracy: 0.5004\n",
            "Epoch 20/20\n",
            "188/188 [==============================] - 3s 15ms/step - loss: 0.6931 - accuracy: 0.5016 - val_loss: 0.6932 - val_accuracy: 0.5004\n"
          ]
        }
      ],
      "source": [
        "model_rnn.compile(optimizer='adam',\n",
        "              loss='binary_crossentropy',\n",
        "              metrics=['accuracy'])\n",
        "              \n",
        "epochs = 20\n",
        "\n",
        "history_rnn = model_rnn.fit(partial_X_train,\n",
        "                    partial_y_train,\n",
        "                    epochs=epochs,\n",
        "                    batch_size=512,\n",
        "                    validation_data=(x_val, y_val),\n",
        "                    verbose=1)"
      ]
    },
    {
      "cell_type": "code",
      "execution_count": 158,
      "metadata": {
        "colab": {
          "base_uri": "https://localhost:8080/",
          "height": 624
        },
        "id": "qQBUDDdl8-AD",
        "outputId": "69a79db8-a880-4641-e0b7-a8bf3ca61f75"
      },
      "outputs": [
        {
          "name": "stdout",
          "output_type": "stream",
          "text": [
            "1682/1682 - 8s - loss: 0.6932 - accuracy: 0.4968 - 8s/epoch - 5ms/step\n",
            "[0.693181574344635, 0.4967849850654602]\n",
            "dict_keys(['loss', 'accuracy', 'val_loss', 'val_accuracy'])\n"
          ]
        },
        {
          "data": {
            "image/png": "[encoded data removed]",
            "text/plain": [
              "<Figure size 432x288 with 1 Axes>"
            ]
          },
          "metadata": {
            "needs_background": "light"
          },
          "output_type": "display_data"
        },
        {
          "data": {
            "image/png": "[encoded data removed]",
            "text/plain": [
              "<Figure size 432x288 with 1 Axes>"
            ]
          },
          "metadata": {
            "needs_background": "light"
          },
          "output_type": "display_data"
        }
      ],
      "source": [
        "# 평가하기\n",
        "results_rnn = model_rnn.evaluate(X_test, y_test, verbose=2)\n",
        "print(results_rnn)\n",
        "\n",
        "history_dict_rnn = history_rnn.history\n",
        "print(history_dict_rnn.keys()) # epoch에 따른 그래프를 그려볼 수 있는 항목들\n",
        "\n",
        "# train과 val의 Loss\n",
        "acc_rnn = history_dict_rnn['accuracy']\n",
        "val_acc_rnn = history_dict_rnn['val_accuracy']\n",
        "loss_rnn = history_dict_rnn['loss']\n",
        "val_loss_rnn = history_dict_rnn['val_loss']\n",
        "\n",
        "epochs_rnn = range(1, len(acc_rnn) + 1)\n",
        "\n",
        "# \"bo\"는 \"파란색 점\"\n",
        "plt.plot(epochs_rnn, loss_rnn, 'bo', label='Training loss')\n",
        "# b는 \"파란 실선\"\n",
        "plt.plot(epochs_rnn, val_loss_rnn, 'b', label='Validation loss')\n",
        "plt.title('RNN\\'s Training & validation loss')\n",
        "plt.xlabel('Epochs')\n",
        "plt.ylabel('Loss')\n",
        "plt.legend()\n",
        "\n",
        "plt.show()\n",
        "\n",
        "# train과 val의 accuracy\n",
        "plt.clf()  \n",
        "\n",
        "plt.plot(epochs_rnn, acc_rnn, 'bo', label='Training acc')\n",
        "plt.plot(epochs_rnn, val_acc_rnn, 'b', label='Validation acc')\n",
        "plt.title('RNN\\'s Training and validation accuracy')\n",
        "plt.xlabel('Epochs')\n",
        "plt.ylabel('Accuracy')\n",
        "plt.legend()\n",
        "\n",
        "plt.show()"
      ]
    },
    {
      "cell_type": "code",
      "execution_count": 159,
      "metadata": {
        "colab": {
          "base_uri": "https://localhost:8080/"
        },
        "id": "Hp-NER4H8-Gq",
        "outputId": "51493afe-c54b-4222-dd01-493c9fde01d8"
      },
      "outputs": [
        {
          "name": "stdout",
          "output_type": "stream",
          "text": [
            "(96182, 133)\n",
            "(96182,)\n"
          ]
        }
      ],
      "source": [
        "# 데이터 분할\n",
        "X_train = tensor_bpe[:146182]\n",
        "X_test = tensor_bpe[146182:]\n",
        "\n",
        "y_train = np.array(list(naver_label[:146182]))\n",
        "y_test = np.array(list(naver_label[146182:]))\n",
        "\n",
        "# validation set 50000건 분리\n",
        "x_val = X_train[:50000]   \n",
        "y_val = y_train[:50000]\n",
        "\n",
        "# validation set을 제외한 나머지 \n",
        "partial_X_train = X_train[50000:]  \n",
        "partial_y_train = y_train[50000:]\n",
        "\n",
        "print(partial_X_train.shape)\n",
        "print(partial_y_train.shape)"
      ]
    },
    {
      "cell_type": "code",
      "execution_count": 160,
      "metadata": {
        "colab": {
          "base_uri": "https://localhost:8080/"
        },
        "id": "FWhJPLjH8-Nf",
        "outputId": "80dcb457-695e-4e06-a114-8742332bc3d8"
      },
      "outputs": [
        {
          "name": "stdout",
          "output_type": "stream",
          "text": [
            "Model: \"sequential_6\"\n",
            "_________________________________________________________________\n",
            " Layer (type)                Output Shape              Param #   \n",
            "=================================================================\n",
            " embedding_6 (Embedding)     (None, None, 16)          160000    \n",
            "                                                                 \n",
            " lstm_6 (LSTM)               (None, 12)                1392      \n",
            "                                                                 \n",
            " dense_12 (Dense)            (None, 8)                 104       \n",
            "                                                                 \n",
            " dense_13 (Dense)            (None, 1)                 9         \n",
            "                                                                 \n",
            "=================================================================\n",
            "Total params: 161,505\n",
            "Trainable params: 161,505\n",
            "Non-trainable params: 0\n",
            "_________________________________________________________________\n"
          ]
        }
      ],
      "source": [
        "import numpy as np\n",
        "import tensorflow as tf\n",
        "from tensorflow import keras\n",
        "\n",
        "vocab_size = 10000\n",
        "word_vector_dim = 16\n",
        "\n",
        "model_rnn = keras.Sequential()\n",
        "model_rnn.add(keras.layers.Embedding(vocab_size, word_vector_dim, input_shape=(None,)))\n",
        "model_rnn.add(keras.layers.LSTM(12))   \n",
        "model_rnn.add(keras.layers.Dense(8, activation='relu'))\n",
        "model_rnn.add(keras.layers.Dense(1, activation='sigmoid'))  \n",
        "\n",
        "model_rnn.summary()"
      ]
    },
    {
      "cell_type": "code",
      "execution_count": 161,
      "metadata": {
        "colab": {
          "base_uri": "https://localhost:8080/"
        },
        "id": "zDDMd6dx8-UM",
        "outputId": "6d19c3ea-a439-4e3a-a286-bf474b27a8d5"
      },
      "outputs": [
        {
          "name": "stdout",
          "output_type": "stream",
          "text": [
            "Epoch 1/20\n",
            "188/188 [==============================] - 6s 18ms/step - loss: 0.6932 - accuracy: 0.5018 - val_loss: 0.6932 - val_accuracy: 0.5004\n",
            "Epoch 2/20\n",
            "188/188 [==============================] - 3s 15ms/step - loss: 0.6931 - accuracy: 0.5009 - val_loss: 0.6931 - val_accuracy: 0.4996\n",
            "Epoch 3/20\n",
            "188/188 [==============================] - 3s 15ms/step - loss: 0.6932 - accuracy: 0.4988 - val_loss: 0.6931 - val_accuracy: 0.5004\n",
            "Epoch 4/20\n",
            "188/188 [==============================] - 3s 15ms/step - loss: 0.6931 - accuracy: 0.5016 - val_loss: 0.6931 - val_accuracy: 0.5004\n",
            "Epoch 5/20\n",
            "188/188 [==============================] - 3s 15ms/step - loss: 0.6932 - accuracy: 0.5003 - val_loss: 0.6931 - val_accuracy: 0.5004\n",
            "Epoch 6/20\n",
            "188/188 [==============================] - 3s 15ms/step - loss: 0.6932 - accuracy: 0.4996 - val_loss: 0.6931 - val_accuracy: 0.5004\n",
            "Epoch 7/20\n",
            "188/188 [==============================] - 3s 15ms/step - loss: 0.6932 - accuracy: 0.4998 - val_loss: 0.6931 - val_accuracy: 0.5004\n",
            "Epoch 8/20\n",
            "188/188 [==============================] - 3s 15ms/step - loss: 0.6931 - accuracy: 0.5016 - val_loss: 0.6931 - val_accuracy: 0.5004\n",
            "Epoch 9/20\n",
            "188/188 [==============================] - 2s 12ms/step - loss: 0.6932 - accuracy: 0.5005 - val_loss: 0.6931 - val_accuracy: 0.5004\n",
            "Epoch 10/20\n",
            "188/188 [==============================] - 2s 13ms/step - loss: 0.6931 - accuracy: 0.5005 - val_loss: 0.6932 - val_accuracy: 0.5004\n",
            "Epoch 11/20\n",
            "188/188 [==============================] - 3s 15ms/step - loss: 0.6931 - accuracy: 0.5016 - val_loss: 0.6931 - val_accuracy: 0.5004\n",
            "Epoch 12/20\n",
            "188/188 [==============================] - 3s 14ms/step - loss: 0.6931 - accuracy: 0.5007 - val_loss: 0.6931 - val_accuracy: 0.5004\n",
            "Epoch 13/20\n",
            "188/188 [==============================] - 3s 14ms/step - loss: 0.6931 - accuracy: 0.5016 - val_loss: 0.6931 - val_accuracy: 0.5004\n",
            "Epoch 14/20\n",
            "188/188 [==============================] - 3s 14ms/step - loss: 0.6931 - accuracy: 0.5016 - val_loss: 0.6931 - val_accuracy: 0.5004\n",
            "Epoch 15/20\n",
            "188/188 [==============================] - 3s 15ms/step - loss: 0.6931 - accuracy: 0.5007 - val_loss: 0.6932 - val_accuracy: 0.5004\n",
            "Epoch 16/20\n",
            "188/188 [==============================] - 2s 12ms/step - loss: 0.6931 - accuracy: 0.5007 - val_loss: 0.6931 - val_accuracy: 0.5004\n",
            "Epoch 17/20\n",
            "188/188 [==============================] - 2s 12ms/step - loss: 0.6931 - accuracy: 0.5016 - val_loss: 0.6932 - val_accuracy: 0.5004\n",
            "Epoch 18/20\n",
            "188/188 [==============================] - 2s 12ms/step - loss: 0.6931 - accuracy: 0.5016 - val_loss: 0.6932 - val_accuracy: 0.5004\n",
            "Epoch 19/20\n",
            "188/188 [==============================] - 2s 13ms/step - loss: 0.6931 - accuracy: 0.5002 - val_loss: 0.6932 - val_accuracy: 0.5004\n",
            "Epoch 20/20\n",
            "188/188 [==============================] - 2s 12ms/step - loss: 0.6931 - accuracy: 0.5016 - val_loss: 0.6931 - val_accuracy: 0.5004\n"
          ]
        }
      ],
      "source": [
        "model_rnn.compile(optimizer='adam',\n",
        "              loss='binary_crossentropy',\n",
        "              metrics=['accuracy'])\n",
        "              \n",
        "epochs = 20\n",
        "\n",
        "history_rnn = model_rnn.fit(partial_X_train,\n",
        "                    partial_y_train,\n",
        "                    epochs=epochs,\n",
        "                    batch_size=512,\n",
        "                    validation_data=(x_val, y_val),\n",
        "                    verbose=1)"
      ]
    },
    {
      "cell_type": "code",
      "execution_count": 162,
      "metadata": {
        "colab": {
          "base_uri": "https://localhost:8080/",
          "height": 624
        },
        "id": "KIcs-Gof8-g-",
        "outputId": "90572baf-62b1-42bb-dc77-747fd7628348"
      },
      "outputs": [
        {
          "name": "stdout",
          "output_type": "stream",
          "text": [
            "1682/1682 - 8s - loss: 0.6932 - accuracy: 0.4968 - 8s/epoch - 5ms/step\n",
            "[0.6931604743003845, 0.4967849850654602]\n",
            "dict_keys(['loss', 'accuracy', 'val_loss', 'val_accuracy'])\n"
          ]
        },
        {
          "data": {
            "image/png": "[encoded data removed]",
            "text/plain": [
              "<Figure size 432x288 with 1 Axes>"
            ]
          },
          "metadata": {
            "needs_background": "light"
          },
          "output_type": "display_data"
        },
        {
          "data": {
            "image/png": "[encoded data removed]",
            "text/plain": [
              "<Figure size 432x288 with 1 Axes>"
            ]
          },
          "metadata": {
            "needs_background": "light"
          },
          "output_type": "display_data"
        }
      ],
      "source": [
        "# 평가하기\n",
        "results_rnn = model_rnn.evaluate(X_test, y_test, verbose=2)\n",
        "print(results_rnn)\n",
        "\n",
        "history_dict_rnn = history_rnn.history\n",
        "print(history_dict_rnn.keys()) # epoch에 따른 그래프를 그려볼 수 있는 항목들\n",
        "\n",
        "# train과 val의 Loss\n",
        "acc_rnn = history_dict_rnn['accuracy']\n",
        "val_acc_rnn = history_dict_rnn['val_accuracy']\n",
        "loss_rnn = history_dict_rnn['loss']\n",
        "val_loss_rnn = history_dict_rnn['val_loss']\n",
        "\n",
        "epochs_rnn = range(1, len(acc_rnn) + 1)\n",
        "\n",
        "# \"bo\"는 \"파란색 점\"\n",
        "plt.plot(epochs_rnn, loss_rnn, 'bo', label='Training loss')\n",
        "# b는 \"파란 실선\"\n",
        "plt.plot(epochs_rnn, val_loss_rnn, 'b', label='Validation loss')\n",
        "plt.title('RNN\\'s Training & validation loss')\n",
        "plt.xlabel('Epochs')\n",
        "plt.ylabel('Loss')\n",
        "plt.legend()\n",
        "\n",
        "plt.show()\n",
        "\n",
        "# train과 val의 accuracy\n",
        "plt.clf()  \n",
        "\n",
        "plt.plot(epochs_rnn, acc_rnn, 'bo', label='Training acc')\n",
        "plt.plot(epochs_rnn, val_acc_rnn, 'b', label='Validation acc')\n",
        "plt.title('RNN\\'s Training and validation accuracy')\n",
        "plt.xlabel('Epochs')\n",
        "plt.ylabel('Accuracy')\n",
        "plt.legend()\n",
        "\n",
        "plt.show()"
      ]
    },
    {
      "cell_type": "markdown",
      "metadata": {
        "id": "n-QKe2Hf8-nK"
      },
      "source": [
        "## KoNLPy 형태소 분석기를 사용한 모델과 성능 비교하기\n",
        "\n"
      ]
    },
    {
      "cell_type": "code",
      "execution_count": 163,
      "metadata": {
        "colab": {
          "base_uri": "https://localhost:8080/"
        },
        "id": "Nxkk9Cn28-s8",
        "outputId": "c1d2265d-cc57-4251-b54d-b052051db3a9"
      },
      "outputs": [
        {
          "name": "stderr",
          "output_type": "stream",
          "text": [
            "[nltk_data] Downloading package punkt to /root/nltk_data...\n",
            "[nltk_data]   Package punkt is already up-to-date!\n"
          ]
        }
      ],
      "source": [
        "from konlpy.tag import Kkma,Hannanum, Komoran, Okt, Mecab\n",
        "import nltk\n",
        "from nltk.tokenize import word_tokenize\n",
        "nltk.download('punkt')\n",
        "\n",
        "\n",
        "from collections import Counter"
      ]
    },
    {
      "cell_type": "code",
      "execution_count": 164,
      "metadata": {
        "id": "MXTzwtBvExv1"
      },
      "outputs": [],
      "source": [
        "tokenizer = Mecab()\n",
        "\n",
        "\n",
        "stopwords = ['의','가','이','은','들','는','좀','잘','걍','과','도','를','으로','자','에','와','한','하다'] \n",
        "num_words = 10000\n",
        "\n",
        "def load_data(naver_train_df, naver_test_df, num_words=10000):\n",
        "    naver_train_df.drop_duplicates(subset=['document'], inplace=True)\n",
        "    naver_train_df = naver_train_df.dropna(how = 'any') \n",
        "    naver_test_df.drop_duplicates(subset=['document'], inplace=True)\n",
        "    naver_test_df = naver_test_df.dropna(how = 'any') \n",
        "\n",
        "    X_train = []\n",
        "    for sentence in naver_train_df['document']:\n",
        "        temp_X = tokenizer.morphs(sentence) # 토큰화\n",
        "        temp_X = [word for word in temp_X if not word in stopwords] # 불용어 제거\n",
        "        X_train.append(temp_X)\n",
        "\n",
        "    X_test = []\n",
        "    for sentence in naver_test_df['document']:\n",
        "        temp_X = tokenizer.morphs(sentence) # 토큰화\n",
        "        temp_X = [word for word in temp_X if not word in stopwords] # 불용어 제거\n",
        "        X_test.append(temp_X)\n",
        "\n",
        "    words = np.concatenate(X_train).tolist()\n",
        "    counter = Counter(words)\n",
        "    counter = counter.most_common(10000-4)\n",
        "    vocab = ['<PAD>', '<BOS>', '<UNK>', '<UNUSED>'] + [key for key, _ in counter]\n",
        "    word_to_index = {word:index for index, word in enumerate(vocab)}\n",
        "\n",
        "    def wordlist_to_indexlist(wordlist):\n",
        "        return [word_to_index[word] if word in word_to_index else word_to_index['<UNK>'] for word in wordlist]\n",
        "\n",
        "    X_train = list(map(wordlist_to_indexlist, X_train))\n",
        "    X_test = list(map(wordlist_to_indexlist, X_test))\n",
        "\n",
        "    return X_train, np.array(list(naver_train_df['label'])), X_test, np.array(list(naver_test_df['label'])), word_to_index\n",
        "\n",
        "X_train, y_train, X_test, y_test, word_to_index = load_data(naver_train_df, naver_test_df)"
      ]
    },
    {
      "cell_type": "code",
      "execution_count": 165,
      "metadata": {
        "id": "7k7MNI-cLk7P"
      },
      "outputs": [],
      "source": [
        "index_to_word = {index:word for word, index in word_to_index.items()}"
      ]
    },
    {
      "cell_type": "code",
      "execution_count": 166,
      "metadata": {
        "id": "DbwwPIUq8_Bc"
      },
      "outputs": [],
      "source": [
        "# 문장 1개를 활용할 딕셔너리와 함께 주면, 단어 인덱스 리스트 벡터로 변환해 주는 함수\n",
        "def get_encoded_sentence(sentence, word_to_index):\n",
        "    return [word_to_index['<BOS>']]+[word_to_index[word] if word in word_to_index else word_to_index['<UNK>'] for word in sentence.split()]\n",
        "\n",
        "# 여러 개의 문장 리스트를 한꺼번에 단어 인덱스 리스트 벡터로 encode해 주는 함수\n",
        "def get_encoded_sentences(sentences, word_to_index):\n",
        "    return [get_encoded_sentence(sentence, word_to_index) for sentence in sentences]\n",
        "\n",
        "# 숫자 벡터로 encode된 문장을 원래대로 decode하는 함수\n",
        "def get_decoded_sentence(encoded_sentence, index_to_word):\n",
        "    return ' '.join(index_to_word[index] if index in index_to_word else '<UNK>' for index in encoded_sentence[1:])  #[1:]를 통해 <BOS>를 제외\n",
        "\n",
        "# 여러개의 숫자 벡터로 encode된 문장을 한꺼번에 원래대로 decode하는 함수\n",
        "def get_decoded_sentences(encoded_sentences, index_to_word):\n",
        "    return [get_decoded_sentence(encoded_sentence, index_to_word) for encoded_sentence in encoded_sentences]\n"
      ]
    },
    {
      "cell_type": "code",
      "execution_count": 167,
      "metadata": {
        "colab": {
          "base_uri": "https://localhost:8080/"
        },
        "id": "5-ys68vVLwwN",
        "outputId": "c33329b0-23af-490a-d8d3-f573677bdd2b"
      },
      "outputs": [
        {
          "name": "stdout",
          "output_type": "stream",
          "text": [
            "훈련 샘플 개수: 146182, 테스트 개수: 49157\n"
          ]
        }
      ],
      "source": [
        "print(\"훈련 샘플 개수: {}, 테스트 개수: {}\".format(len(X_train), len(X_test)))"
      ]
    },
    {
      "cell_type": "code",
      "execution_count": 168,
      "metadata": {
        "colab": {
          "base_uri": "https://localhost:8080/"
        },
        "id": "zBFp2ymmA307",
        "outputId": "651ba84d-0cc4-46a3-a0e6-229e28541854"
      },
      "outputs": [
        {
          "name": "stdout",
          "output_type": "stream",
          "text": [
            "[32, 74, 919, 4, 4, 39, 228, 20, 33, 748]\n",
            "라벨:  0\n",
            "1번째 리뷰 문장 길이:  10\n",
            "2번째 리뷰 문장 길이:  17\n"
          ]
        }
      ],
      "source": [
        "# 데이터셋 내 문장 길이 분포 파악\n",
        "print(X_train[0])  # 1번째 리뷰데이터\n",
        "print('라벨: ', y_train[0])  # 1번째 리뷰데이터의 라벨\n",
        "print('1번째 리뷰 문장 길이: ', len(X_train[0]))\n",
        "print('2번째 리뷰 문장 길이: ', len(X_train[1]))\n"
      ]
    },
    {
      "cell_type": "code",
      "execution_count": 169,
      "metadata": {
        "colab": {
          "base_uri": "https://localhost:8080/"
        },
        "id": "z2vkADq2FXYM",
        "outputId": "bcd9cf61-632a-4e5f-e715-dfbc37409f0f"
      },
      "outputs": [
        {
          "name": "stdout",
          "output_type": "stream",
          "text": [
            "더 빙 . . 진짜 짜증 나 네요 목소리\n",
            "라벨:  0\n"
          ]
        }
      ],
      "source": [
        "print(get_decoded_sentence(X_train[0], index_to_word))\n",
        "print('라벨: ', y_train[0])  # 1번째 리뷰데이터의 라벨"
      ]
    },
    {
      "cell_type": "code",
      "execution_count": 170,
      "metadata": {
        "colab": {
          "base_uri": "https://localhost:8080/"
        },
        "id": "g9HDNzp4FXfY",
        "outputId": "da6cd560-0ccb-4b10-f8b0-ebf304a44d90"
      },
      "outputs": [
        {
          "name": "stdout",
          "output_type": "stream",
          "text": [
            "문장길이 평균 :  15.969355837799927\n",
            "문장길이 최대 :  116\n",
            "문장길이 표준편차 :  12.843536204665021\n",
            "pad_sequences maxlen :  41\n",
            "전체 문장의 0.9342988343341575%가 maxlen 설정값 이내에 포함됩니다. \n"
          ]
        }
      ],
      "source": [
        "# 적절한 최대 문장 길이를 지정\n",
        "total_data_text = list(X_train) + list(X_test)\n",
        "# 텍스트데이터 문장길이의 리스트를 생성\n",
        "num_tokens = [len(tokens) for tokens in total_data_text]\n",
        "num_tokens = np.array(num_tokens)\n",
        "\n",
        "print('문장길이 평균 : ', np.mean(num_tokens))\n",
        "print('문장길이 최대 : ', np.max(num_tokens))\n",
        "print('문장길이 표준편차 : ', np.std(num_tokens))\n",
        "\n",
        "# 최대 길이를 (평균 + 2*표준편차)로 설정  \n",
        "max_tokens = np.mean(num_tokens) + 2 * np.std(num_tokens)\n",
        "maxlen = int(max_tokens)\n",
        "print('pad_sequences maxlen : ', maxlen)\n",
        "print('전체 문장의 {}%가 maxlen 설정값 이내에 포함됩니다. '.format(np.sum(num_tokens < max_tokens) / len(num_tokens)))"
      ]
    },
    {
      "cell_type": "code",
      "execution_count": 171,
      "metadata": {
        "colab": {
          "base_uri": "https://localhost:8080/"
        },
        "id": "PAHAZ1R9FXlq",
        "outputId": "a7ad5e05-ca0f-4ee8-d5a1-083939f5e563"
      },
      "outputs": [
        {
          "name": "stdout",
          "output_type": "stream",
          "text": [
            "(146182, 41)\n"
          ]
        }
      ],
      "source": [
        "# 패딩 작업\n",
        "X_train = keras.preprocessing.sequence.pad_sequences(X_train,\n",
        "                                                        value=word_to_index[\"<PAD>\"],\n",
        "                                                        padding='pre', # 혹은 'pre'\n",
        "                                                        maxlen=maxlen)\n",
        "\n",
        "X_test = keras.preprocessing.sequence.pad_sequences(X_test,\n",
        "                                                       value=word_to_index[\"<PAD>\"],\n",
        "                                                       padding='pre', # 혹은 'pre'\n",
        "                                                       maxlen=maxlen)\n",
        "\n",
        "print(X_train.shape)\n"
      ]
    },
    {
      "cell_type": "code",
      "execution_count": 172,
      "metadata": {
        "colab": {
          "base_uri": "https://localhost:8080/"
        },
        "id": "iR7pHs8_FXrL",
        "outputId": "917c5c94-efa1-4de8-d5ad-08ecafcdf3ee"
      },
      "outputs": [
        {
          "name": "stdout",
          "output_type": "stream",
          "text": [
            "(96182, 41)\n",
            "(96182,)\n"
          ]
        }
      ],
      "source": [
        "#  validation set 구성\n",
        "X_val = X_train[:50000]   \n",
        "y_val = y_train[:50000]\n",
        "\n",
        "# validation set을 제외한 나머지\n",
        "partial_X_train = X_train[50000:]  \n",
        "partial_y_train = y_train[50000:]\n",
        "\n",
        "print(partial_X_train.shape)\n",
        "print(partial_y_train.shape)"
      ]
    },
    {
      "cell_type": "code",
      "execution_count": 173,
      "metadata": {
        "colab": {
          "base_uri": "https://localhost:8080/"
        },
        "id": "W68-KnUqFXvo",
        "outputId": "c255d4e5-85ef-4cdb-b4b7-93c0203a8334"
      },
      "outputs": [
        {
          "name": "stdout",
          "output_type": "stream",
          "text": [
            "Model: \"sequential_7\"\n",
            "_________________________________________________________________\n",
            " Layer (type)                Output Shape              Param #   \n",
            "=================================================================\n",
            " embedding_7 (Embedding)     (None, None, 16)          160000    \n",
            "                                                                 \n",
            " lstm_7 (LSTM)               (None, 12)                1392      \n",
            "                                                                 \n",
            " dense_14 (Dense)            (None, 8)                 104       \n",
            "                                                                 \n",
            " dense_15 (Dense)            (None, 1)                 9         \n",
            "                                                                 \n",
            "=================================================================\n",
            "Total params: 161,505\n",
            "Trainable params: 161,505\n",
            "Non-trainable params: 0\n",
            "_________________________________________________________________\n"
          ]
        }
      ],
      "source": [
        "import numpy as np\n",
        "import tensorflow as tf\n",
        "from tensorflow import keras\n",
        "\n",
        "vocab_size = 10000    \n",
        "word_vector_dim = 16\n",
        "\n",
        "model_rnn = keras.Sequential()\n",
        "model_rnn.add(keras.layers.Embedding(vocab_size, word_vector_dim, input_shape=(None,)))\n",
        "model_rnn.add(keras.layers.LSTM(12))   \n",
        "model_rnn.add(keras.layers.Dense(8, activation='relu'))\n",
        "model_rnn.add(keras.layers.Dense(1, activation='sigmoid'))  \n",
        "\n",
        "model_rnn.summary()"
      ]
    },
    {
      "cell_type": "code",
      "execution_count": 174,
      "metadata": {
        "colab": {
          "base_uri": "https://localhost:8080/"
        },
        "id": "C_iSZ4f1FXzb",
        "outputId": "ab274b9a-2aa1-410a-a579-12fbb84be4f7"
      },
      "outputs": [
        {
          "name": "stdout",
          "output_type": "stream",
          "text": [
            "Epoch 1/20\n",
            "188/188 [==============================] - 5s 14ms/step - loss: 0.5688 - accuracy: 0.7264 - val_loss: 0.4219 - val_accuracy: 0.8312\n",
            "Epoch 2/20\n",
            "188/188 [==============================] - 2s 12ms/step - loss: 0.3623 - accuracy: 0.8480 - val_loss: 0.3531 - val_accuracy: 0.8482\n",
            "Epoch 3/20\n",
            "188/188 [==============================] - 2s 11ms/step - loss: 0.3230 - accuracy: 0.8665 - val_loss: 0.3476 - val_accuracy: 0.8495\n",
            "Epoch 4/20\n",
            "188/188 [==============================] - 2s 10ms/step - loss: 0.3032 - accuracy: 0.8756 - val_loss: 0.3495 - val_accuracy: 0.8492\n",
            "Epoch 5/20\n",
            "188/188 [==============================] - 2s 11ms/step - loss: 0.2899 - accuracy: 0.8815 - val_loss: 0.3550 - val_accuracy: 0.8475\n",
            "Epoch 6/20\n",
            "188/188 [==============================] - 2s 12ms/step - loss: 0.2765 - accuracy: 0.8885 - val_loss: 0.3537 - val_accuracy: 0.8491\n",
            "Epoch 7/20\n",
            "188/188 [==============================] - 2s 11ms/step - loss: 0.2644 - accuracy: 0.8946 - val_loss: 0.3644 - val_accuracy: 0.8453\n",
            "Epoch 8/20\n",
            "188/188 [==============================] - 2s 10ms/step - loss: 0.2518 - accuracy: 0.8996 - val_loss: 0.3681 - val_accuracy: 0.8470\n",
            "Epoch 9/20\n",
            "188/188 [==============================] - 2s 9ms/step - loss: 0.2411 - accuracy: 0.9054 - val_loss: 0.3731 - val_accuracy: 0.8469\n",
            "Epoch 10/20\n",
            "188/188 [==============================] - 2s 8ms/step - loss: 0.2276 - accuracy: 0.9113 - val_loss: 0.3939 - val_accuracy: 0.8435\n",
            "Epoch 11/20\n",
            "188/188 [==============================] - 2s 9ms/step - loss: 0.2162 - accuracy: 0.9163 - val_loss: 0.4081 - val_accuracy: 0.8433\n",
            "Epoch 12/20\n",
            "188/188 [==============================] - 2s 8ms/step - loss: 0.2093 - accuracy: 0.9194 - val_loss: 0.4202 - val_accuracy: 0.8421\n",
            "Epoch 13/20\n",
            "188/188 [==============================] - 2s 9ms/step - loss: 0.1996 - accuracy: 0.9234 - val_loss: 0.4473 - val_accuracy: 0.8400\n",
            "Epoch 14/20\n",
            "188/188 [==============================] - 2s 9ms/step - loss: 0.1914 - accuracy: 0.9270 - val_loss: 0.4449 - val_accuracy: 0.8382\n",
            "Epoch 15/20\n",
            "188/188 [==============================] - 2s 8ms/step - loss: 0.1849 - accuracy: 0.9305 - val_loss: 0.4419 - val_accuracy: 0.8384\n",
            "Epoch 16/20\n",
            "188/188 [==============================] - 2s 8ms/step - loss: 0.1779 - accuracy: 0.9333 - val_loss: 0.4679 - val_accuracy: 0.8366\n",
            "Epoch 17/20\n",
            "188/188 [==============================] - 2s 9ms/step - loss: 0.1707 - accuracy: 0.9365 - val_loss: 0.5169 - val_accuracy: 0.8355\n",
            "Epoch 18/20\n",
            "188/188 [==============================] - 2s 9ms/step - loss: 0.1666 - accuracy: 0.9379 - val_loss: 0.5055 - val_accuracy: 0.8335\n",
            "Epoch 19/20\n",
            "188/188 [==============================] - 2s 9ms/step - loss: 0.1589 - accuracy: 0.9411 - val_loss: 0.5116 - val_accuracy: 0.8325\n",
            "Epoch 20/20\n",
            "188/188 [==============================] - 2s 9ms/step - loss: 0.1573 - accuracy: 0.9418 - val_loss: 0.5370 - val_accuracy: 0.8328\n"
          ]
        }
      ],
      "source": [
        "model_rnn.compile(optimizer='adam',\n",
        "              loss='binary_crossentropy',\n",
        "              metrics=['accuracy'])\n",
        "              \n",
        "epochs = 20\n",
        "\n",
        "history_rnn = model_rnn.fit(partial_X_train,\n",
        "                    partial_y_train,\n",
        "                    epochs=epochs,\n",
        "                    batch_size=512,\n",
        "                    validation_data=(X_val, y_val),\n",
        "                    verbose=1)\n"
      ]
    },
    {
      "cell_type": "code",
      "execution_count": 175,
      "metadata": {
        "colab": {
          "base_uri": "https://localhost:8080/",
          "height": 624
        },
        "id": "AJsKEXjrFX2v",
        "outputId": "335b8f8d-ebbd-4d72-abf9-da865d6c289f"
      },
      "outputs": [
        {
          "name": "stdout",
          "output_type": "stream",
          "text": [
            "1537/1537 - 4s - loss: 0.5438 - accuracy: 0.8292 - 4s/epoch - 3ms/step\n",
            "[0.5438194870948792, 0.8292409777641296]\n",
            "dict_keys(['loss', 'accuracy', 'val_loss', 'val_accuracy'])\n"
          ]
        },
        {
          "data": {
            "image/png": "[encoded data removed]",
            "text/plain": [
              "<Figure size 432x288 with 1 Axes>"
            ]
          },
          "metadata": {
            "needs_background": "light"
          },
          "output_type": "display_data"
        },
        {
          "data": {
            "image/png": "[encoded data removed]",
            "text/plain": [
              "<Figure size 432x288 with 1 Axes>"
            ]
          },
          "metadata": {
            "needs_background": "light"
          },
          "output_type": "display_data"
        }
      ],
      "source": [
        "# 평가하기\n",
        "results_rnn = model_rnn.evaluate(X_test, y_test, verbose=2)\n",
        "print(results_rnn)\n",
        "\n",
        "history_dict_rnn = history_rnn.history\n",
        "print(history_dict_rnn.keys()) # epoch에 따른 그래프를 그려볼 수 있는 항목들\n",
        "\n",
        "# train과 val의 Loss\n",
        "acc_rnn = history_dict_rnn['accuracy']\n",
        "val_acc_rnn = history_dict_rnn['val_accuracy']\n",
        "loss_rnn = history_dict_rnn['loss']\n",
        "val_loss_rnn = history_dict_rnn['val_loss']\n",
        "\n",
        "epochs_rnn = range(1, len(acc_rnn) + 1)\n",
        "\n",
        "# \"bo\"는 \"파란색 점\"\n",
        "plt.plot(epochs_rnn, loss_rnn, 'bo', label='Training loss')\n",
        "# b는 \"파란 실선\"\n",
        "plt.plot(epochs_rnn, val_loss_rnn, 'b', label='Validation loss')\n",
        "plt.title('RNN\\'s Training & validation loss')\n",
        "plt.xlabel('Epochs')\n",
        "plt.ylabel('Loss')\n",
        "plt.legend()\n",
        "\n",
        "plt.show()\n",
        "\n",
        "# train과 val의 accuracy\n",
        "plt.clf()  \n",
        "\n",
        "plt.plot(epochs_rnn, acc_rnn, 'bo', label='Training acc')\n",
        "plt.plot(epochs_rnn, val_acc_rnn, 'b', label='Validation acc')\n",
        "plt.title('RNN\\'s Training and validation accuracy')\n",
        "plt.xlabel('Epochs')\n",
        "plt.ylabel('Accuracy')\n",
        "plt.legend()\n",
        "\n",
        "plt.show()"
      ]
    },
    {
      "cell_type": "markdown",
      "metadata": {
        "id": "HBbug0W0FX53"
      },
      "source": [
        "## 회고\n",
        "\n",
        "- 처음부터터 끝까지지 역경과과 도전이었고 괴로웠다.\n",
        "1. 단어를 토큰화한다.\n",
        "2. 토큰으로 학습(fit)을 한다.\n",
        "3. 결과를 시각화한다.  \n",
        "\n",
        "이렇게 3가지 과정 밖에 없지만 괴로웠다. 어떻게 토큰으로 학습을 한다는게 뭔지 몰라서 힘들었다.\n",
        "- NLP 이전에는 pandas에서 필요한 컬럼을 추출해서 X_train, y_train에 할당하고 학습을 했다. 하지만 이제는 문장을 단어로 쪼개고 학습을 해야한다.\n",
        "- SentencePiece는 2주일 중 일주일 반을 써서 어찌어찌 이해하고 나름대로 코드도 넣어보고 했다. 하지만 konlpy은 시간이 부족해서 코드를 대략적인 이해만 가능했고, 결국 베껴쓰기를 해버렸다.  \n",
        "\n",
        "- 문장 2~3줄 넣은 후 학습까지 하는 체험을 했지만, 대규모 문장(파일)을 어떻게 처리해야하는지 몰라서 계속 실패와 좌절이 있었다.\n",
        "- SentencePiece는 그 자체로 어떻게 쓰는지 몰라서 해맸다. 어찌저찌해서 .model, .vocab을 만들었는데, 각각 어디에 쓰느지도 몰랐다. .model은 검색을 해도 여는 방법이 없었고, vocab은 판다스로 보니 단어장 형태가 되어있었다. 검색을 해도 대부분 학습은 나오지 않았다. 이걸로 어떻게 학습을 해야할지, 학습한다고 해도 label(taget)과 함께 학습해야 할지 몰라서 혼란스러웠다.\n",
        "- SentencePiece를 토큰화하고 학습까지 따라했는데 acc가 50에서 고정이 되어서 방법을 찾으려했으나 시간이 부족해서 도중에 그만두었다.\n",
        "- konlpy를 import하고 mecab,kkma,hannanum 등을 쓰면 형태소 단위로 쪼개지는 걸 알았다. 하지만 이걸 어떻게 학습하는지 몰랐다.  행태소 쪼깨기까지는 문제 없었다. 하지만 어떻게 토큰화(탠서)를 하는지 몰랐다. SentencePiece와 마찬가지로 어떻게 학습할 지도 몰랐다.  \n",
        "\n",
        "\n",
        "## 아쉬운 점\n",
        "\n",
        "\n",
        "### 처음에는 여러가지  실험을 하고 싶었다.\n",
        "\n",
        "\n",
        "- kpnlpy의 kkma, okt, hannanum, mecab등을 사용해보기\n",
        "- 트리맵, 워드 클라우드 만들기\n",
        "\n",
        "- #### SentencePiec로 만든 단어장으로 문장 뭉치를 가져와서 실험해보긱\n",
        "\n",
        "- 아래의 그림을 근거로 문장의 길이가 4~45, 60~130, 130~146을 토큰화 하고 학습 ⇒ 정확도 등의 데이터 확인 및 분석\n",
        "\n",
        "![image](https://res.craft.do/user/full/1dd87f5a-9b2d-2555-175a-a81192662092/doc/44E6E4F5-7710-43BF-9461-AEB47612939D/5FABA534-4A60-4A7E-B700-C062FC905949_2/ol2hzXiUf083YgM5xqy9IkoGqNSClLASlrSkeYkpzu4z/%202022-10-03%2009.43.44.png)\n",
        "\n",
        "등등 여러가지 아이디어가 떠올랐지만 토큰화에서부터 너무 많은 시간을 써서 못한게 아쉬웟다.\n"
      ]
    },
    {
      "cell_type": "code",
      "execution_count": 175,
      "metadata": {
        "id": "L-IdVO2TFX8z"
      },
      "outputs": [],
      "source": []
    }
  ],
  "metadata": {
    "accelerator": "GPU",
    "colab": {
      "collapsed_sections": [],
      "provenance": []
    },
    "gpuClass": "standard",
    "kernelspec": {
      "display_name": "Python 3",
      "name": "python3"
    },
    "language_info": {
      "name": "python"
    }
  },
  "nbformat": 4,
  "nbformat_minor": 0
}
