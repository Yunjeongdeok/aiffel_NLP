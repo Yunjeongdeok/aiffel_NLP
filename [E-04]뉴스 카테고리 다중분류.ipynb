{
 "cells": [
  {
   "cell_type": "markdown",
   "id": "e4e7461b",
   "metadata": {},
   "source": [
    "# 뉴스 카테고리 다중분류\n",
    "- 목차\n",
    "    1. 모든 단어 사용 및 머신 러닝\n",
    "    2. 5000개만 사용해보기\n",
    "    3. 2500개만 사용해보기\n",
    "        1. 나이브 베이즈 분류기\n",
    "        2. CNB\n",
    "        3. 결정트리\n",
    "        4. 랜덤 포레스트(Random Forest)\n",
    "        5. 그래디언트 부스팅 트리\n",
    "        6. XGBoost\n",
    "        7. 보팅(Voting)\n",
    "        8. SGD(확률적 경사하강법)\n",
    "        - 빈도수 제한없을 때, 정확도 리스트\n",
    "\n",
    "\n",
    "   \n",
    "- 참고 자료\n",
    "    - https://piaojian.tistory.com/36\n",
    "    - https://intrepidgeeks.com/tutorial/news-classification-multi-classification-problem-python-deep-learning-example"
   ]
  },
  {
   "cell_type": "code",
   "execution_count": 1,
   "id": "c76949a5",
   "metadata": {},
   "outputs": [],
   "source": [
    "import tensorflow as tf\n",
    "from tensorflow.keras.datasets import reuters\n",
    "import sklearn\n",
    "\n",
    "import numpy as np\n",
    "import pandas as pd\n",
    "import seaborn as sns\n",
    "import matplotlib.pyplot as plt"
   ]
  },
  {
   "cell_type": "code",
   "execution_count": 2,
   "id": "cab4a1b8",
   "metadata": {},
   "outputs": [
    {
     "name": "stderr",
     "output_type": "stream",
     "text": [
      "/opt/conda/lib/python3.9/site-packages/pkg_resources/__init__.py:116: PkgResourcesDeprecationWarning: 0.996-ko-0.9.2 is an invalid version and will not be supported in a future release\n",
      "  warnings.warn(\n"
     ]
    }
   ],
   "source": [
    "from sklearn.feature_extraction.text import CountVectorizer\n",
    "from sklearn.feature_extraction.text import TfidfTransformer\n",
    "\n",
    "from sklearn.naive_bayes import MultinomialNB #다항분포 나이브 베이즈 모델\n",
    "from sklearn.linear_model import LogisticRegression, SGDClassifier\n",
    "from sklearn.naive_bayes import ComplementNB\n",
    "from sklearn.tree import DecisionTreeClassifier\n",
    "from sklearn.ensemble import RandomForestClassifier\n",
    "from sklearn.ensemble import GradientBoostingClassifier\n",
    "from sklearn.ensemble import VotingClassifier\n",
    "from sklearn.svm import LinearSVC\n",
    "from sklearn.metrics import accuracy_score #정확도 계산\n",
    "\n",
    "from sklearn.metrics import classification_report\n",
    "from sklearn.metrics import confusion_matrix\n",
    "from xgboost import XGBClassifier"
   ]
  },
  {
   "cell_type": "code",
   "execution_count": 3,
   "id": "d813edbc",
   "metadata": {},
   "outputs": [],
   "source": [
    "# 텐서플로우 데이터셋에서 로이터 뉴스 데이터를 받아옵니다.\n",
    "'''\n",
    "num_words는 '상위 빈도수'를 뜻합니다.none은 전부다 사용한다는 것이고,\n",
    "5,000은 빈도수 상위 5,000개의 단어만 사용하고,\n",
    "2,500은 빈도수 상위 2,500개의 단어만 사용한다는 뜻입니다.\n",
    "만약 num_words가 5000이고'사랑'라는 단어가 상위 빈도 5000에 들어가면 출력이 되고\n",
    "5000에 속하지 못한다면 <unk>가 됩니다.\n",
    "'''\n",
    "(x_train_1, y_train_1), (x_test_1, y_test_1) = reuters.load_data(num_words=None, test_split=0.2)\n",
    "(x_train_2, y_train_2), (x_test_2, y_test_2) = reuters.load_data(num_words=5000, test_split=0.2)\n",
    "(x_train_3, y_train_3), (x_test_3, y_test_3) = reuters.load_data(num_words=2500, test_split=0.2)"
   ]
  },
  {
   "cell_type": "code",
   "execution_count": 4,
   "id": "94d57c45",
   "metadata": {},
   "outputs": [
    {
     "name": "stdout",
     "output_type": "stream",
     "text": [
      "클래스(정답)의 개수 : 46 46 46\n"
     ]
    }
   ],
   "source": [
    "num_classes_1 = max(y_train_1) + 1\n",
    "num_classes_2 = max(y_train_2) + 1\n",
    "num_classes_3 = max(y_train_3) + 1\n",
    "\n",
    "print('클래스(정답)의 개수 : {} {} {}'.format(num_classes_1, num_classes_2, num_classes_3))"
   ]
  },
  {
   "cell_type": "code",
   "execution_count": 5,
   "id": "b6bd76fc",
   "metadata": {},
   "outputs": [
    {
     "name": "stdout",
     "output_type": "stream",
     "text": [
      "x_train_1 개수: 8982\n",
      "y_train_1 개수: 8982\n",
      "x_test_1 개수: 2246\n",
      "y_test_1 개수: 2246\n",
      "\n",
      "x_train_2 개수: 8982\n",
      "y_train_2 개수: 8982\n",
      "x_test_2 개수: 2246\n",
      "y_test_2 개수: 2246\n",
      "\n",
      "x_train_3 개수: 8982\n",
      "y_train_3 개수: 8982\n",
      "x_test_3 개수: 2246\n",
      "y_test_3 개수: 2246\n"
     ]
    }
   ],
   "source": [
    "# 이렇게 받아온 데이터가 어떤 구성을 가지고 있는지 출력해 볼까요?\n",
    "print('x_train_1 개수: {}'.format(len(x_train_1)))\n",
    "print('y_train_1 개수: {}'.format(len(y_train_1)))\n",
    "print('x_test_1 개수: {}'.format(len(x_test_1)))\n",
    "print('y_test_1 개수: {}'.format(len(y_test_1)))\n",
    "print()\n",
    "print('x_train_2 개수: {}'.format(len(x_train_2)))\n",
    "print('y_train_2 개수: {}'.format(len(y_train_2)))\n",
    "print('x_test_2 개수: {}'.format(len(x_test_2)))\n",
    "print('y_test_2 개수: {}'.format(len(y_test_2)))\n",
    "print()\n",
    "print('x_train_3 개수: {}'.format(len(x_train_3)))\n",
    "print('y_train_3 개수: {}'.format(len(y_train_3)))\n",
    "print('x_test_3 개수: {}'.format(len(x_test_3)))\n",
    "print('y_test_3 개수: {}'.format(len(y_test_3)))"
   ]
  },
  {
   "cell_type": "code",
   "execution_count": 6,
   "id": "7f4e20bb",
   "metadata": {},
   "outputs": [
    {
     "name": "stdout",
     "output_type": "stream",
     "text": [
      "토큰화된 x_train_1\n",
      "[1, 227, 2406, 91, 21969, 125, 2855, 21, 4, 3976, 76, 7, 4, 757, 481, 3976, 790, 5259, 5654, 9, 111, 149, 8, 7, 10, 76, 223, 51, 4, 417, 8, 1047, 91, 6917, 1688, 340, 7, 194, 9411, 6, 1894, 21, 127, 2151, 2394, 1456, 6, 3034, 4, 329, 433, 7, 65, 87, 1127, 10, 8219, 1475, 290, 9, 21, 567, 16, 1926, 24, 4, 76, 209, 30, 4033, 6655, 5654, 8, 4, 60, 8, 4, 966, 308, 40, 2575, 129, 15562, 295, 277, 1071, 9, 24, 286, 2114, 234, 222, 9, 4, 906, 3994, 8519, 114, 5758, 1752, 7, 4, 113, 17, 12]\n",
      "\n",
      "x_train_1의 정답 \n",
      "25\n",
      "\n",
      "토큰화된 x_test_1\n",
      "[1, 706, 209, 658, 4, 37, 38, 309, 484, 4, 1434, 6, 933, 4, 89, 709, 377, 101, 28, 4, 143, 511, 101, 5, 47, 758, 15, 90, 2388, 7, 809, 6, 444, 2035, 4, 911, 5, 709, 198, 1997, 634, 3644, 3798, 2305, 8, 1486, 6, 674, 480, 10, 990, 309, 4008, 2190, 2305, 1849, 24, 68, 583, 242, 5, 4, 143, 709, 364, 7376, 41, 30, 13, 706, 6, 837, 4, 377, 101, 6, 631, 28, 47, 758, 15, 36, 1413, 107, 4, 377, 101, 62, 47, 758, 15, 634, 114, 713, 888, 1412, 6, 343, 37, 38, 1116, 95, 1136, 269, 43, 1488, 1170, 6, 226, 11435, 4, 377, 101, 136, 143, 1032, 4, 89, 709, 377, 101, 1217, 30, 478, 97, 47, 948, 15, 90, 4594, 27184, 5853, 41, 30, 13, 706, 6, 455, 4, 465, 474, 6, 837, 634, 6, 2069, 4, 709, 377, 101, 28, 47, 758, 15, 7, 463, 29, 89, 1017, 97, 148, 16, 6, 47, 948, 15, 4, 48, 511, 377, 101, 23, 47, 758, 15, 161, 5, 4, 47, 12, 20, 7424, 7978, 386, 240, 2305, 2634, 24, 10, 181, 1475, 7, 194, 534, 21, 709, 364, 756, 33, 30, 4, 386, 404, 36, 118, 4, 2190, 24, 4, 911, 7, 1116, 23, 24, 4, 37, 38, 377, 101, 1976, 42, 9964, 6, 127, 122, 9, 7609, 1136, 692, 13, 37, 38, 1116, 446, 69, 4, 234, 709, 7614, 1320, 13, 126, 1006, 5, 338, 458, 2305, 8, 4, 1136, 911, 23, 4, 307, 2016, 36, 8, 634, 23, 325, 2863, 4, 820, 9, 129, 2767, 40, 836, 85, 1523, 17, 12]\n",
      "\n",
      "x_train_1의 정답\n",
      "24\n",
      "\n",
      "토큰화된 x_train_2\n",
      "[1, 227, 2406, 91, 2, 125, 2855, 21, 4, 3976, 76, 7, 4, 757, 481, 3976, 790, 2, 2, 9, 111, 149, 8, 7, 10, 76, 223, 51, 4, 417, 8, 1047, 91, 2, 1688, 340, 7, 194, 2, 6, 1894, 21, 127, 2151, 2394, 1456, 6, 3034, 4, 329, 433, 7, 65, 87, 1127, 10, 2, 1475, 290, 9, 21, 567, 16, 1926, 24, 4, 76, 209, 30, 4033, 2, 2, 8, 4, 60, 8, 4, 966, 308, 40, 2575, 129, 2, 295, 277, 1071, 9, 24, 286, 2114, 234, 222, 9, 4, 906, 3994, 2, 114, 2, 1752, 7, 4, 113, 17, 12]\n",
      "\n",
      "x_train_2의 정답 \n",
      "25\n",
      "\n",
      "토큰화된 x_test_2\n",
      "[1, 706, 209, 658, 4, 37, 38, 309, 484, 4, 1434, 6, 933, 4, 89, 709, 377, 101, 28, 4, 143, 511, 101, 5, 47, 758, 15, 90, 2388, 7, 809, 6, 444, 2035, 4, 911, 5, 709, 198, 1997, 634, 3644, 3798, 2305, 8, 1486, 6, 674, 480, 10, 990, 309, 4008, 2190, 2305, 1849, 24, 68, 583, 242, 5, 4, 143, 709, 364, 2, 41, 30, 13, 706, 6, 837, 4, 377, 101, 6, 631, 28, 47, 758, 15, 36, 1413, 107, 4, 377, 101, 62, 47, 758, 15, 634, 114, 713, 888, 1412, 6, 343, 37, 38, 1116, 95, 1136, 269, 43, 1488, 1170, 6, 226, 2, 4, 377, 101, 136, 143, 1032, 4, 89, 709, 377, 101, 1217, 30, 478, 97, 47, 948, 15, 90, 4594, 2, 2, 41, 30, 13, 706, 6, 455, 4, 465, 474, 6, 837, 634, 6, 2069, 4, 709, 377, 101, 28, 47, 758, 15, 7, 463, 29, 89, 1017, 97, 148, 16, 6, 47, 948, 15, 4, 48, 511, 377, 101, 23, 47, 758, 15, 161, 5, 4, 47, 12, 20, 2, 2, 386, 240, 2305, 2634, 24, 10, 181, 1475, 7, 194, 534, 21, 709, 364, 756, 33, 30, 4, 386, 404, 36, 118, 4, 2190, 24, 4, 911, 7, 1116, 23, 24, 4, 37, 38, 377, 101, 1976, 42, 2, 6, 127, 122, 9, 2, 1136, 692, 13, 37, 38, 1116, 446, 69, 4, 234, 709, 2, 1320, 13, 126, 1006, 5, 338, 458, 2305, 8, 4, 1136, 911, 23, 4, 307, 2016, 36, 8, 634, 23, 325, 2863, 4, 820, 9, 129, 2767, 40, 836, 85, 1523, 17, 12]\n",
      "\n",
      "x_train_2의 정답\n",
      "24\n",
      "\n",
      "토큰화된 x_train_3\n",
      "[1, 227, 2406, 91, 2, 125, 2, 21, 4, 2, 76, 7, 4, 757, 481, 2, 790, 2, 2, 9, 111, 149, 8, 7, 10, 76, 223, 51, 4, 417, 8, 1047, 91, 2, 1688, 340, 7, 194, 2, 6, 1894, 21, 127, 2151, 2394, 1456, 6, 2, 4, 329, 433, 7, 65, 87, 1127, 10, 2, 1475, 290, 9, 21, 567, 16, 1926, 24, 4, 76, 209, 30, 2, 2, 2, 8, 4, 60, 8, 4, 966, 308, 40, 2, 129, 2, 295, 277, 1071, 9, 24, 286, 2114, 234, 222, 9, 4, 906, 2, 2, 114, 2, 1752, 7, 4, 113, 17, 12]\n",
      "\n",
      "x_train_3의 정답 \n",
      "25\n",
      "\n",
      "토큰화된 x_test_3\n",
      "[1, 706, 209, 658, 4, 37, 38, 309, 484, 4, 1434, 6, 933, 4, 89, 709, 377, 101, 28, 4, 143, 511, 101, 5, 47, 758, 15, 90, 2388, 7, 809, 6, 444, 2035, 4, 911, 5, 709, 198, 1997, 634, 2, 2, 2305, 8, 1486, 6, 674, 480, 10, 990, 309, 2, 2190, 2305, 1849, 24, 68, 583, 242, 5, 4, 143, 709, 364, 2, 41, 30, 13, 706, 6, 837, 4, 377, 101, 6, 631, 28, 47, 758, 15, 36, 1413, 107, 4, 377, 101, 62, 47, 758, 15, 634, 114, 713, 888, 1412, 6, 343, 37, 38, 1116, 95, 1136, 269, 43, 1488, 1170, 6, 226, 2, 4, 377, 101, 136, 143, 1032, 4, 89, 709, 377, 101, 1217, 30, 478, 97, 47, 948, 15, 90, 2, 2, 2, 41, 30, 13, 706, 6, 455, 4, 465, 474, 6, 837, 634, 6, 2069, 4, 709, 377, 101, 28, 47, 758, 15, 7, 463, 29, 89, 1017, 97, 148, 16, 6, 47, 948, 15, 4, 48, 511, 377, 101, 23, 47, 758, 15, 161, 5, 4, 47, 12, 20, 2, 2, 386, 240, 2305, 2, 24, 10, 181, 1475, 7, 194, 534, 21, 709, 364, 756, 33, 30, 4, 386, 404, 36, 118, 4, 2190, 24, 4, 911, 7, 1116, 23, 24, 4, 37, 38, 377, 101, 1976, 42, 2, 6, 127, 122, 9, 2, 1136, 692, 13, 37, 38, 1116, 446, 69, 4, 234, 709, 2, 1320, 13, 126, 1006, 5, 338, 458, 2305, 8, 4, 1136, 911, 23, 4, 307, 2016, 36, 8, 634, 23, 325, 2, 4, 820, 9, 129, 2, 40, 836, 85, 1523, 17, 12]\n",
      "\n",
      "x_train_3의 정답\n",
      "24\n",
      "\n"
     ]
    }
   ],
   "source": [
    "print('토큰화된 x_train_1',x_train_1[8981],sep='\\n');print()\n",
    "print('x_train_1의 정답 ',y_train_1[8981],sep='\\n');print()\n",
    "print('토큰화된 x_test_1',x_test_1[2245], sep='\\n');print()\n",
    "print('x_train_1의 정답',y_test_1[2245], sep='\\n');print()\n",
    "\n",
    "\n",
    "print('토큰화된 x_train_2',x_train_2[8981],sep='\\n');print()\n",
    "print('x_train_2의 정답 ',y_train_2[8981],sep='\\n');print()\n",
    "print('토큰화된 x_test_2',x_test_2[2245], sep='\\n');print()\n",
    "print('x_train_2의 정답',y_test_2[2245], sep='\\n');print()\n",
    "\n",
    "print('토큰화된 x_train_3',x_train_3[8981],sep='\\n');print()\n",
    "print('x_train_3의 정답 ',y_train_3[8981],sep='\\n');print()\n",
    "print('토큰화된 x_test_3',x_test_3[2245], sep='\\n');print()\n",
    "print('x_train_3의 정답',y_test_3[2245], sep='\\n');print()"
   ]
  },
  {
   "cell_type": "markdown",
   "id": "0dfee69c",
   "metadata": {},
   "source": [
    "- 다운로드를 할 때 차이점은 빈도수에 따라서 <unk>를 할 것인지 안할 것인지 정하는 것이었습니다. 사실 <unk>가 되기 때문에 개수가 하나만 해도 똑같습니다. 그러므로 앞으로 모델 훈련 등이 아니라면 하나만 하겠습니다."
   ]
  },
  {
   "cell_type": "code",
   "execution_count": 7,
   "id": "045ac5ff",
   "metadata": {},
   "outputs": [
    {
     "name": "stdout",
     "output_type": "stream",
     "text": [
      "훈련용 뉴스의 최대 길이 :2376\n",
      "훈련용 뉴스의 평균 길이 :145.5398574927633\n"
     ]
    },
    {
     "data": {
      "image/png": "[encoded data removed]",
      "text/plain": [
       "<Figure size 432x288 with 1 Axes>"
      ]
     },
     "metadata": {
      "needs_background": "light"
     },
     "output_type": "display_data"
    }
   ],
   "source": [
    "# 뉴스 데이터의 길이 분포 확인하기\n",
    "print('훈련용 뉴스의 최대 길이 :{}'.format(max(len(l) for l in x_train_1)))\n",
    "print('훈련용 뉴스의 평균 길이 :{}'.format(sum(map(len, x_train_1))/len(x_train_1)))\n",
    "\n",
    "plt.hist([len(s) for s in x_train_1], bins=50)\n",
    "plt.xlabel('length of samples')\n",
    "plt.ylabel('number of samples')\n",
    "plt.show()"
   ]
  },
  {
   "cell_type": "code",
   "execution_count": 8,
   "id": "b09bcc68",
   "metadata": {},
   "outputs": [
    {
     "data": {
      "image/png": "[encoded data removed]",
      "text/plain": [
       "<Figure size 792x360 with 1 Axes>"
      ]
     },
     "metadata": {
      "needs_background": "light"
     },
     "output_type": "display_data"
    }
   ],
   "source": [
    "# 클래스(정답) 별로 분포 확인하기\n",
    "fig, axe = plt.subplots(ncols=1)\n",
    "fig.set_size_inches(11,5)\n",
    "sns.countplot(x=y_train_1)\n",
    "plt.show()"
   ]
  },
  {
   "cell_type": "code",
   "execution_count": 9,
   "id": "165f647d",
   "metadata": {},
   "outputs": [
    {
     "name": "stdout",
     "output_type": "stream",
     "text": [
      "클래스 별 빈도수\n"
     ]
    },
    {
     "data": {
      "text/html": [
       "<div>\n",
       "<style scoped>\n",
       "    .dataframe tbody tr th:only-of-type {\n",
       "        vertical-align: middle;\n",
       "    }\n",
       "\n",
       "    .dataframe tbody tr th {\n",
       "        vertical-align: top;\n",
       "    }\n",
       "\n",
       "    .dataframe thead th {\n",
       "        text-align: right;\n",
       "    }\n",
       "</style>\n",
       "<table border=\"1\" class=\"dataframe\">\n",
       "  <thead>\n",
       "    <tr style=\"text-align: right;\">\n",
       "      <th></th>\n",
       "      <th>0</th>\n",
       "    </tr>\n",
       "  </thead>\n",
       "  <tbody>\n",
       "    <tr>\n",
       "      <th>0</th>\n",
       "      <td>55</td>\n",
       "    </tr>\n",
       "    <tr>\n",
       "      <th>1</th>\n",
       "      <td>432</td>\n",
       "    </tr>\n",
       "    <tr>\n",
       "      <th>2</th>\n",
       "      <td>74</td>\n",
       "    </tr>\n",
       "    <tr>\n",
       "      <th>3</th>\n",
       "      <td>3159</td>\n",
       "    </tr>\n",
       "    <tr>\n",
       "      <th>4</th>\n",
       "      <td>1949</td>\n",
       "    </tr>\n",
       "    <tr>\n",
       "      <th>5</th>\n",
       "      <td>17</td>\n",
       "    </tr>\n",
       "    <tr>\n",
       "      <th>6</th>\n",
       "      <td>48</td>\n",
       "    </tr>\n",
       "    <tr>\n",
       "      <th>7</th>\n",
       "      <td>16</td>\n",
       "    </tr>\n",
       "    <tr>\n",
       "      <th>8</th>\n",
       "      <td>139</td>\n",
       "    </tr>\n",
       "    <tr>\n",
       "      <th>9</th>\n",
       "      <td>101</td>\n",
       "    </tr>\n",
       "    <tr>\n",
       "      <th>10</th>\n",
       "      <td>124</td>\n",
       "    </tr>\n",
       "    <tr>\n",
       "      <th>11</th>\n",
       "      <td>390</td>\n",
       "    </tr>\n",
       "    <tr>\n",
       "      <th>12</th>\n",
       "      <td>49</td>\n",
       "    </tr>\n",
       "    <tr>\n",
       "      <th>13</th>\n",
       "      <td>172</td>\n",
       "    </tr>\n",
       "    <tr>\n",
       "      <th>14</th>\n",
       "      <td>26</td>\n",
       "    </tr>\n",
       "    <tr>\n",
       "      <th>15</th>\n",
       "      <td>20</td>\n",
       "    </tr>\n",
       "    <tr>\n",
       "      <th>16</th>\n",
       "      <td>444</td>\n",
       "    </tr>\n",
       "    <tr>\n",
       "      <th>17</th>\n",
       "      <td>39</td>\n",
       "    </tr>\n",
       "    <tr>\n",
       "      <th>18</th>\n",
       "      <td>66</td>\n",
       "    </tr>\n",
       "    <tr>\n",
       "      <th>19</th>\n",
       "      <td>549</td>\n",
       "    </tr>\n",
       "    <tr>\n",
       "      <th>20</th>\n",
       "      <td>269</td>\n",
       "    </tr>\n",
       "    <tr>\n",
       "      <th>21</th>\n",
       "      <td>100</td>\n",
       "    </tr>\n",
       "    <tr>\n",
       "      <th>22</th>\n",
       "      <td>15</td>\n",
       "    </tr>\n",
       "    <tr>\n",
       "      <th>23</th>\n",
       "      <td>41</td>\n",
       "    </tr>\n",
       "    <tr>\n",
       "      <th>24</th>\n",
       "      <td>62</td>\n",
       "    </tr>\n",
       "    <tr>\n",
       "      <th>25</th>\n",
       "      <td>92</td>\n",
       "    </tr>\n",
       "    <tr>\n",
       "      <th>26</th>\n",
       "      <td>24</td>\n",
       "    </tr>\n",
       "    <tr>\n",
       "      <th>27</th>\n",
       "      <td>15</td>\n",
       "    </tr>\n",
       "    <tr>\n",
       "      <th>28</th>\n",
       "      <td>48</td>\n",
       "    </tr>\n",
       "    <tr>\n",
       "      <th>29</th>\n",
       "      <td>19</td>\n",
       "    </tr>\n",
       "    <tr>\n",
       "      <th>30</th>\n",
       "      <td>45</td>\n",
       "    </tr>\n",
       "    <tr>\n",
       "      <th>31</th>\n",
       "      <td>39</td>\n",
       "    </tr>\n",
       "    <tr>\n",
       "      <th>32</th>\n",
       "      <td>32</td>\n",
       "    </tr>\n",
       "    <tr>\n",
       "      <th>33</th>\n",
       "      <td>11</td>\n",
       "    </tr>\n",
       "    <tr>\n",
       "      <th>34</th>\n",
       "      <td>50</td>\n",
       "    </tr>\n",
       "    <tr>\n",
       "      <th>35</th>\n",
       "      <td>10</td>\n",
       "    </tr>\n",
       "    <tr>\n",
       "      <th>36</th>\n",
       "      <td>49</td>\n",
       "    </tr>\n",
       "    <tr>\n",
       "      <th>37</th>\n",
       "      <td>19</td>\n",
       "    </tr>\n",
       "    <tr>\n",
       "      <th>38</th>\n",
       "      <td>19</td>\n",
       "    </tr>\n",
       "    <tr>\n",
       "      <th>39</th>\n",
       "      <td>24</td>\n",
       "    </tr>\n",
       "    <tr>\n",
       "      <th>40</th>\n",
       "      <td>36</td>\n",
       "    </tr>\n",
       "    <tr>\n",
       "      <th>41</th>\n",
       "      <td>30</td>\n",
       "    </tr>\n",
       "    <tr>\n",
       "      <th>42</th>\n",
       "      <td>13</td>\n",
       "    </tr>\n",
       "    <tr>\n",
       "      <th>43</th>\n",
       "      <td>21</td>\n",
       "    </tr>\n",
       "    <tr>\n",
       "      <th>44</th>\n",
       "      <td>12</td>\n",
       "    </tr>\n",
       "    <tr>\n",
       "      <th>45</th>\n",
       "      <td>18</td>\n",
       "    </tr>\n",
       "  </tbody>\n",
       "</table>\n",
       "</div>"
      ],
      "text/plain": [
       "       0\n",
       "0     55\n",
       "1    432\n",
       "2     74\n",
       "3   3159\n",
       "4   1949\n",
       "5     17\n",
       "6     48\n",
       "7     16\n",
       "8    139\n",
       "9    101\n",
       "10   124\n",
       "11   390\n",
       "12    49\n",
       "13   172\n",
       "14    26\n",
       "15    20\n",
       "16   444\n",
       "17    39\n",
       "18    66\n",
       "19   549\n",
       "20   269\n",
       "21   100\n",
       "22    15\n",
       "23    41\n",
       "24    62\n",
       "25    92\n",
       "26    24\n",
       "27    15\n",
       "28    48\n",
       "29    19\n",
       "30    45\n",
       "31    39\n",
       "32    32\n",
       "33    11\n",
       "34    50\n",
       "35    10\n",
       "36    49\n",
       "37    19\n",
       "38    19\n",
       "39    24\n",
       "40    36\n",
       "41    30\n",
       "42    13\n",
       "43    21\n",
       "44    12\n",
       "45    18"
      ]
     },
     "metadata": {},
     "output_type": "display_data"
    }
   ],
   "source": [
    "unique_elements, counts_elements = np.unique(y_train_1, return_counts=True)\n",
    "df = pd.DataFrame(data=counts_elements)\n",
    "print('클래스 별 빈도수')\n",
    "display(df)"
   ]
  },
  {
   "cell_type": "code",
   "execution_count": 10,
   "id": "cae4df57",
   "metadata": {},
   "outputs": [],
   "source": [
    "# '단어:인덱스' 변수를 생성\n",
    "word_index = reuters.get_word_index(path=\"reuters_word_index.json\")"
   ]
  },
  {
   "cell_type": "markdown",
   "id": "c62b3078",
   "metadata": {},
   "source": [
    "- 이 데이터 사실 0번, 1번, 2번은 사실 각각 , , 라는 자연어 처리를 위한 특별한 토큰들을 위해 맵핑된 번호이다. 그래서 만들어진 index_to_word에 추가적으로 이 작업을 해주어야 진짜 index_to_word가 완성이 된다."
   ]
  },
  {
   "cell_type": "code",
   "execution_count": 11,
   "id": "c6f6a9f3",
   "metadata": {},
   "outputs": [],
   "source": [
    "index_to_word = { index+3 : word for word, index in word_index.items() }\n",
    "\n",
    "# index_to_word에 숫자 0은 <pad>, 숫자 1은 <sos>, 숫자 2는 <unk>를 넣어줍니다.\n",
    "for index, token in enumerate((\"<pad>\", \"<sos>\", \"<unk>\")):\n",
    "  index_to_word[index]=token"
   ]
  },
  {
   "cell_type": "code",
   "execution_count": 12,
   "id": "a2298267",
   "metadata": {},
   "outputs": [
    {
     "name": "stdout",
     "output_type": "stream",
     "text": [
      "<unk> it <pad> <sos>\n",
      "\n",
      "인덱스로 문장 만들기\n",
      "the transaction is expected to be completed\n",
      "\n",
      "기사 불러오기\n",
      "<sos> mcgrath rentcorp said as a result of its december acquisition of space co it expects earnings per share in 1987 of 1 15 to 1 30 dlrs per share up from 70 cts in 1986 the company said pretax net should rise to nine to 10 mln dlrs from six mln dlrs in 1986 and rental operation revenues to 19 to 22 mln dlrs from 12 5 mln dlrs it said cash flow per share this year should be 2 50 to three dlrs reuter 3\n"
     ]
    }
   ],
   "source": [
    "print(index_to_word[2], index_to_word[16], index_to_word[0], index_to_word[1])\n",
    "\n",
    "print()\n",
    "print('인덱스로 문장 만들기')\n",
    "print(' '.join([index_to_word[index] for index in [4, 587, 23, 133, 6, 30, 515]]))\n",
    "print()\n",
    "print('기사 불러오기')\n",
    "print(' '.join([index_to_word[index] for index in x_train_1[0]]))"
   ]
  },
  {
   "cell_type": "code",
   "execution_count": 13,
   "id": "e9f71c62",
   "metadata": {
    "scrolled": true
   },
   "outputs": [],
   "source": [
    "# 숫자에서 문자로 변환하기\n",
    "def decode(x):\n",
    "    decoded = []\n",
    "    for i in range(len(x)):\n",
    "        t = ' '.join([index_to_word[index] for index in x[i]])\n",
    "        decoded.append(t)\n",
    "    return decoded\n",
    "\n",
    "x_train_1 = decode(x_train_1)\n",
    "x_test_1 = decode(x_test_1)\n",
    "\n",
    "x_train_2 = decode(x_train_2)\n",
    "x_test_2 = decode(x_test_2)\n",
    "\n",
    "x_train_3 = decode(x_train_3)\n",
    "x_test_3 = decode(x_test_3)"
   ]
  },
  {
   "cell_type": "code",
   "execution_count": 14,
   "id": "026a8955",
   "metadata": {},
   "outputs": [
    {
     "data": {
      "text/plain": [
       "(2246,)"
      ]
     },
     "execution_count": 14,
     "metadata": {},
     "output_type": "execute_result"
    }
   ],
   "source": [
    "np.array(x_train_1).shape\n",
    "np.array(x_test_1).shape"
   ]
  },
  {
   "cell_type": "code",
   "execution_count": 15,
   "id": "97f914fd",
   "metadata": {},
   "outputs": [
    {
     "name": "stdout",
     "output_type": "stream",
     "text": [
      "8982\n",
      "2246\n",
      "\n",
      "8982\n",
      "2246\n",
      "\n",
      "8982\n",
      "2246\n"
     ]
    }
   ],
   "source": [
    "print(len(x_train_1))\n",
    "print(len(x_test_1))\n",
    "print()\n",
    "print(len(x_train_2))\n",
    "print(len(x_test_2))\n",
    "print()\n",
    "print(len(x_train_3))\n",
    "print(len(x_test_3))"
   ]
  },
  {
   "cell_type": "code",
   "execution_count": 16,
   "id": "c45588b8",
   "metadata": {},
   "outputs": [
    {
     "name": "stdout",
     "output_type": "stream",
     "text": [
      "8982\n",
      "2246\n",
      "\n",
      "8982\n",
      "2246\n",
      "\n",
      "8982\n",
      "2246\n"
     ]
    }
   ],
   "source": [
    "print(len(x_train_1))\n",
    "print(len(x_test_1))\n",
    "print()\n",
    "print(len(x_train_2))\n",
    "print(len(x_test_2))\n",
    "print()\n",
    "print(len(x_train_3))\n",
    "print(len(x_test_3))\n"
   ]
  },
  {
   "cell_type": "code",
   "execution_count": 17,
   "id": "2ecc171b",
   "metadata": {},
   "outputs": [
    {
     "data": {
      "text/plain": [
       "\"<sos> some producers in the 1987 acreage reduction program may be eligible for deficiency payments on 92 pct of their enrolled acreage even though none of it is planted with wheat or other program crops the u s agriculture department said the department said the provision of the farm disaster assistance act will be available to all eligible winter wheat producers producers of other types of wheat who were prevented from planting their 1987 wheat crop because of a 1986 natural disaster and all producers who operate farms with program crop acreage bases subject to flooding on 50 pct of such crop's permitted acreage a producer who did not enroll in the 1987 acreage reduction program may become eligible by signing up no later than july 15 producers will be informed by the local offices when applications are being accepted it said the department said producers of wheat other than winter wheat may use the 0 92 option if they were preventedf from planting their intended acreage with wheat for harvest in 1987 because of any natural disasters which occured in 1986 or if the farm is located in a county approved by farmers home administration for emergency loans for such disasters that occurred in 1986 reuter 3\""
      ]
     },
     "execution_count": 17,
     "metadata": {},
     "output_type": "execute_result"
    }
   ],
   "source": [
    "# 숫자에서 문자로 변환된 거 확인하기\n",
    "x_train_1[549]"
   ]
  },
  {
   "cell_type": "code",
   "execution_count": 18,
   "id": "3eb5d00d",
   "metadata": {
    "scrolled": false
   },
   "outputs": [
    {
     "data": {
      "text/plain": [
       "'<sos> florida public utilities co said its board declared a three for two stock split on its common stock it said holders of record april 15 will receive one additional share may one for each two shares held the company also said it raised the dividend on its common stock by two cts to 33 cts a share on a pre split basis the dividend is payable april one to holders of record march 18 reuter 3'"
      ]
     },
     "execution_count": 18,
     "metadata": {},
     "output_type": "execute_result"
    }
   ],
   "source": [
    "# 숫자에서 문자로 변환된 거 확인하기\n",
    "x_test_1[549]"
   ]
  },
  {
   "cell_type": "code",
   "execution_count": 19,
   "id": "f4df68bc",
   "metadata": {},
   "outputs": [],
   "source": [
    "from sklearn.feature_extraction.text import CountVectorizer\n",
    "from sklearn.feature_extraction.text import TfidfTransformer\n",
    "\n",
    "def dtmvector_tfidf(x_train, x_test):\n",
    "    dtmvector = CountVectorizer()\n",
    "    x_train_dtm = dtmvector.fit_transform(x_train) # train 데이터를 DTM으로 변환\n",
    "    x_test_dtm = dtmvector.transform(x_test) #테스트 데이터를 DTM으로 변환\n",
    "\n",
    "    tfidf_transformer = TfidfTransformer()\n",
    "    tfidfv_train = tfidf_transformer.fit_transform(x_train_dtm)#DTM을 TF-IDF 행렬로 변환\n",
    "    tfidfv_test = tfidf_transformer.transform(x_test_dtm) #DTM을 TF-IDF 행렬로 변환\n",
    "\n",
    "    return tfidfv_train, tfidfv_test\n",
    "\n",
    "tfidfv_train_1, tfidfv_test_1 = dtmvector_tfidf(x_train_1, x_test_1)\n",
    "tfidfv_train_2, tfidfv_test_2 = dtmvector_tfidf(x_train_2, x_test_2)\n",
    "tfidfv_train_3, tfidfv_test_3 = dtmvector_tfidf(x_train_3, x_test_3)"
   ]
  },
  {
   "cell_type": "code",
   "execution_count": 20,
   "id": "d0a35132",
   "metadata": {
    "scrolled": true
   },
   "outputs": [
    {
     "name": "stdout",
     "output_type": "stream",
     "text": [
      "(8982, 26506)\n",
      "(2246, 26506)\n",
      "\n",
      "(8982, 4867)\n",
      "(2246, 4867)\n",
      "\n",
      "(8982, 2430)\n",
      "(2246, 2430)\n"
     ]
    }
   ],
   "source": [
    "print(tfidfv_train_1.shape)\n",
    "print(tfidfv_test_1.shape)\n",
    "print()\n",
    "print(tfidfv_train_2.shape)\n",
    "print(tfidfv_test_2.shape)\n",
    "print()\n",
    "print(tfidfv_train_3.shape)\n",
    "print(tfidfv_test_3.shape)"
   ]
  },
  {
   "cell_type": "markdown",
   "id": "dee7937e",
   "metadata": {},
   "source": [
    "- 위의 빈도수에 따라 shape의 행렬수가 줄어들었다. 이것과 TF-IDF의 관계를 설명하고 싶었지만 해석을 못했다."
   ]
  },
  {
   "cell_type": "markdown",
   "id": "742f07d0",
   "metadata": {},
   "source": [
    "## 모델별 정확도 예측"
   ]
  },
  {
   "cell_type": "code",
   "execution_count": 21,
   "id": "9e37ec8d",
   "metadata": {},
   "outputs": [
    {
     "name": "stdout",
     "output_type": "stream",
     "text": [
      "['나이브 베이즈 분류기', 'CNB', '결정트리', '랜덤 포레스트', '트리그래디언트 부스팅 트리', 'XGBoost', '보팅', 'SDG']\n"
     ]
    }
   ],
   "source": [
    "classifier_list = '나이브 베이즈 분류기,CNB,결정트리,랜덤 포레스트,트리그래디언트 부스팅 트리,XGBoost,보팅,SDG'\n",
    "classifier_list = classifier_list.split(',')\n",
    "classifier_answer_list = []\n",
    "\n",
    "print(classifier_list)"
   ]
  },
  {
   "cell_type": "markdown",
   "id": "d34a353d",
   "metadata": {},
   "source": [
    "## 1. 나이브 베이즈 분류기"
   ]
  },
  {
   "cell_type": "code",
   "execution_count": 22,
   "id": "a498833a",
   "metadata": {},
   "outputs": [],
   "source": [
    "def NB(x_train, y_train, x_test, y_test):\n",
    "    model = MultinomialNB()\n",
    "    model.fit(x_train, y_train)\n",
    "    \n",
    "    predicted = model.predict(x_test) #테스트 데이터에 대한 예측\n",
    "    \n",
    "    return print(\"정확도:\", accuracy_score(y_test, predicted)) #예측값과 실제값 비교"
   ]
  },
  {
   "cell_type": "code",
   "execution_count": 23,
   "id": "d3fd2269",
   "metadata": {},
   "outputs": [
    {
     "name": "stdout",
     "output_type": "stream",
     "text": [
      "정확도: 0.5997328584149599\n",
      "정확도: 0.6731967943009796\n",
      "정확도: 0.6905609973285841\n"
     ]
    }
   ],
   "source": [
    "# 정확도\n",
    "NB(tfidfv_train_1, y_train_1, tfidfv_test_1, y_test_1)\n",
    "NB(tfidfv_train_2, y_train_2, tfidfv_test_2, y_test_2)\n",
    "NB(tfidfv_train_3, y_train_3, tfidfv_test_3, y_test_3)"
   ]
  },
  {
   "cell_type": "markdown",
   "id": "2d3f55c4",
   "metadata": {},
   "source": [
    "## 2. CNB(나이브 베이즈 분류기)"
   ]
  },
  {
   "cell_type": "code",
   "execution_count": 24,
   "id": "4f8a1273",
   "metadata": {},
   "outputs": [],
   "source": [
    "def CNB(x_train, y_train, x_test, y_test):\n",
    "    cnb = ComplementNB()\n",
    "    cnb.fit(x_train, y_train)\n",
    "    predicted = cnb.predict(x_test) #테스트 데이터에 대한 예측\n",
    "    \n",
    "    return print(\"정확도:\", accuracy_score(y_test, predicted)) #예측값과 실제값 비교"
   ]
  },
  {
   "cell_type": "code",
   "execution_count": 25,
   "id": "4ed4aa25",
   "metadata": {},
   "outputs": [
    {
     "name": "stdout",
     "output_type": "stream",
     "text": [
      "정확도: 0.7649154051647373\n",
      "정확도: 0.7707034728406055\n",
      "정확도: 0.7609082813891362\n"
     ]
    }
   ],
   "source": [
    "# 정확도\n",
    "CNB(tfidfv_train_1, y_train_1, tfidfv_test_1, y_test_1)\n",
    "CNB(tfidfv_train_2, y_train_2, tfidfv_test_2, y_test_2)\n",
    "CNB(tfidfv_train_3, y_train_3, tfidfv_test_3, y_test_3)"
   ]
  },
  {
   "cell_type": "markdown",
   "id": "c577495f",
   "metadata": {},
   "source": [
    "## 3. 로직스틱 회귀"
   ]
  },
  {
   "cell_type": "code",
   "execution_count": 26,
   "id": "7fe120c6",
   "metadata": {},
   "outputs": [],
   "source": [
    "def LR(x_train, y_train, x_test, y_test):\n",
    "    lr = LogisticRegression(C=10000, penalty='l2', max_iter=3000)\n",
    "    lr.fit(x_train, y_train)\n",
    "    predicted = lr.predict(x_test) #테스트 데이터에 대한 예측\n",
    "    \n",
    "    return print(\"정확도:\", accuracy_score(y_test, predicted)) #예측값과 실제값 비교"
   ]
  },
  {
   "cell_type": "code",
   "execution_count": 27,
   "id": "79bc242b",
   "metadata": {},
   "outputs": [
    {
     "name": "stdout",
     "output_type": "stream",
     "text": [
      "정확도: 0.8165627782724845\n",
      "정확도: 0.8036509349955476\n",
      "정확도: 0.7831700801424755\n"
     ]
    }
   ],
   "source": [
    "# 정확도\n",
    "LR(tfidfv_train_1, y_train_1, tfidfv_test_1, y_test_1)\n",
    "LR(tfidfv_train_2, y_train_2, tfidfv_test_2, y_test_2)\n",
    "LR(tfidfv_train_3, y_train_3, tfidfv_test_3, y_test_3)"
   ]
  },
  {
   "cell_type": "markdown",
   "id": "dfda517b",
   "metadata": {},
   "source": [
    "## 4. 결정 트리"
   ]
  },
  {
   "cell_type": "code",
   "execution_count": 28,
   "id": "9af3c906",
   "metadata": {},
   "outputs": [],
   "source": [
    "def DT(x_train, y_train, x_test, y_test):\n",
    "    tree = DecisionTreeClassifier(max_depth=10, random_state=0)\n",
    "    tree.fit(x_train, y_train)\n",
    "    predicted = tree.predict(x_test) #테스트 데이터에 대한 예측\n",
    "    \n",
    "    return print(\"정확도:\", accuracy_score(y_test, predicted)) #예측값과 실제값 비교"
   ]
  },
  {
   "cell_type": "code",
   "execution_count": 29,
   "id": "c244260b",
   "metadata": {},
   "outputs": [
    {
     "name": "stdout",
     "output_type": "stream",
     "text": [
      "정확도: 0.6211041852181657\n",
      "정확도: 0.6179875333926982\n",
      "정확도: 0.6260017809439002\n"
     ]
    }
   ],
   "source": [
    "# 정확도\n",
    "DT(tfidfv_train_1, y_train_1, tfidfv_test_1, y_test_1)\n",
    "DT(tfidfv_train_2, y_train_2, tfidfv_test_2, y_test_2)\n",
    "DT(tfidfv_train_3, y_train_3, tfidfv_test_3, y_test_3)"
   ]
  },
  {
   "cell_type": "markdown",
   "id": "91345dfd",
   "metadata": {},
   "source": [
    "## 5. 랜덤 포레스트(Random Forest)"
   ]
  },
  {
   "cell_type": "code",
   "execution_count": 30,
   "id": "f6377e57",
   "metadata": {},
   "outputs": [],
   "source": [
    "def RF(x_train, y_train, x_test, y_test):\n",
    "    forest = RandomForestClassifier(n_estimators=5, random_state=0)\n",
    "    forest.fit(x_train, y_train)\n",
    "    predicted = forest.predict(x_test) #테스트 데이터에 대한 예측\n",
    "    \n",
    "    return print(\"정확도:\", accuracy_score(y_test, predicted)) #예측값과 실제값 비교"
   ]
  },
  {
   "cell_type": "code",
   "execution_count": 31,
   "id": "39d6e550",
   "metadata": {},
   "outputs": [
    {
     "name": "stdout",
     "output_type": "stream",
     "text": [
      "정확도: 0.6544968833481746\n",
      "정확도: 0.701246660730187\n",
      "정확도: 0.705253784505788\n"
     ]
    }
   ],
   "source": [
    "# 정확도\n",
    "RF(tfidfv_train_1, y_train_1, tfidfv_test_1, y_test_1)\n",
    "RF(tfidfv_train_2, y_train_2, tfidfv_test_2, y_test_2)\n",
    "RF(tfidfv_train_3, y_train_3, tfidfv_test_3, y_test_3)"
   ]
  },
  {
   "cell_type": "markdown",
   "id": "be80ec5a",
   "metadata": {},
   "source": [
    "## 6. 그래디언트 부스팅 트리(GradientBoostingClassifier)"
   ]
  },
  {
   "cell_type": "code",
   "execution_count": 32,
   "id": "1d08fb79",
   "metadata": {},
   "outputs": [],
   "source": [
    "def GBC(x_train, y_train, x_test, y_test):\n",
    "    grbt = GradientBoostingClassifier(random_state=0) # verbose=3\n",
    "    grbt.fit(x_train, y_train)\n",
    "    predicted = grbt.predict(x_test) #테스트 데이터에 대한 예측\n",
    "    \n",
    "    return print(\"정확도:\", accuracy_score(y_test, predicted)) #예측값과 실제값 비교"
   ]
  },
  {
   "cell_type": "code",
   "execution_count": 33,
   "id": "8e664145",
   "metadata": {},
   "outputs": [
    {
     "name": "stdout",
     "output_type": "stream",
     "text": [
      "정확도: 0.7702582368655387\n",
      "정확도: 0.767586821015138\n",
      "정확도: 0.7666963490650045\n"
     ]
    }
   ],
   "source": [
    "# 정확도\n",
    "GBC(tfidfv_train_1, y_train_1, tfidfv_test_1, y_test_1)\n",
    "GBC(tfidfv_train_2, y_train_2, tfidfv_test_2, y_test_2)\n",
    "GBC(tfidfv_train_3, y_train_3, tfidfv_test_3, y_test_3)"
   ]
  },
  {
   "cell_type": "markdown",
   "id": "6e39a2ec",
   "metadata": {},
   "source": [
    "## 7. XGBoost"
   ]
  },
  {
   "cell_type": "code",
   "execution_count": 34,
   "id": "64551c72",
   "metadata": {},
   "outputs": [],
   "source": [
    "def XGB(x_train, y_train, x_test, y_test):\n",
    "    XGB = XGBClassifier()\n",
    "    XGB.fit(x_train, y_train)\n",
    "    predicted = XGB.predict(x_test) #테스트 데이터에 대한 예측\n",
    "    \n",
    "    return print(\"정확도:\", accuracy_score(y_test, predicted)) #예측값과 실제값 비교\n"
   ]
  },
  {
   "cell_type": "code",
   "execution_count": 35,
   "id": "ebc247e3",
   "metadata": {},
   "outputs": [
    {
     "name": "stderr",
     "output_type": "stream",
     "text": [
      "/opt/conda/lib/python3.9/site-packages/xgboost/sklearn.py:1146: UserWarning: The use of label encoder in XGBClassifier is deprecated and will be removed in a future release. To remove this warning, do the following: 1) Pass option use_label_encoder=False when constructing XGBClassifier object; and 2) Encode your labels (y) as integers starting with 0, i.e. 0, 1, 2, ..., [num_class - 1].\n",
      "  warnings.warn(label_encoder_deprecation_msg, UserWarning)\n"
     ]
    },
    {
     "name": "stdout",
     "output_type": "stream",
     "text": [
      "[14:06:07] WARNING: ../src/learner.cc:1095: Starting in XGBoost 1.3.0, the default evaluation metric used with the objective 'multi:softprob' was changed from 'merror' to 'mlogloss'. Explicitly set eval_metric if you'd like to restore the old behavior.\n",
      "정확도: 0.7934105075690115\n"
     ]
    },
    {
     "name": "stderr",
     "output_type": "stream",
     "text": [
      "/opt/conda/lib/python3.9/site-packages/xgboost/sklearn.py:1146: UserWarning: The use of label encoder in XGBClassifier is deprecated and will be removed in a future release. To remove this warning, do the following: 1) Pass option use_label_encoder=False when constructing XGBClassifier object; and 2) Encode your labels (y) as integers starting with 0, i.e. 0, 1, 2, ..., [num_class - 1].\n",
      "  warnings.warn(label_encoder_deprecation_msg, UserWarning)\n"
     ]
    },
    {
     "name": "stdout",
     "output_type": "stream",
     "text": [
      "[14:10:04] WARNING: ../src/learner.cc:1095: Starting in XGBoost 1.3.0, the default evaluation metric used with the objective 'multi:softprob' was changed from 'merror' to 'mlogloss'. Explicitly set eval_metric if you'd like to restore the old behavior.\n",
      "정확도: 0.7956366874443455\n"
     ]
    },
    {
     "name": "stderr",
     "output_type": "stream",
     "text": [
      "/opt/conda/lib/python3.9/site-packages/xgboost/sklearn.py:1146: UserWarning: The use of label encoder in XGBClassifier is deprecated and will be removed in a future release. To remove this warning, do the following: 1) Pass option use_label_encoder=False when constructing XGBClassifier object; and 2) Encode your labels (y) as integers starting with 0, i.e. 0, 1, 2, ..., [num_class - 1].\n",
      "  warnings.warn(label_encoder_deprecation_msg, UserWarning)\n"
     ]
    },
    {
     "name": "stdout",
     "output_type": "stream",
     "text": [
      "[14:13:34] WARNING: ../src/learner.cc:1095: Starting in XGBoost 1.3.0, the default evaluation metric used with the objective 'multi:softprob' was changed from 'merror' to 'mlogloss'. Explicitly set eval_metric if you'd like to restore the old behavior.\n",
      "정확도: 0.7956366874443455\n"
     ]
    }
   ],
   "source": [
    "# 정확도\n",
    "XGB(tfidfv_train_1, y_train_1, tfidfv_test_1, y_test_1)\n",
    "XGB(tfidfv_train_2, y_train_2, tfidfv_test_2, y_test_2)\n",
    "XGB(tfidfv_train_3, y_train_3, tfidfv_test_3, y_test_3)"
   ]
  },
  {
   "cell_type": "markdown",
   "id": "5742369e",
   "metadata": {},
   "source": [
    "## 8. 보팅(Voting)"
   ]
  },
  {
   "cell_type": "code",
   "execution_count": 36,
   "id": "9bd2f3a0",
   "metadata": {},
   "outputs": [],
   "source": [
    "def Voting(x_train, y_train, x_test, y_test):\n",
    "    voting_classifier = VotingClassifier(estimators=[\n",
    "             ('lr', LogisticRegression(C=10000, max_iter=3000, penalty='l2')),\n",
    "            ('cb', ComplementNB()),\n",
    "            ('grbt', GradientBoostingClassifier(random_state=0))\n",
    "    ], voting='soft')\n",
    "    voting_classifier.fit(x_train, y_train)\n",
    "    \n",
    "    predicted = voting_classifier.predict(x_test) #테스트 데이터에 대한 예측\n",
    "    \n",
    "    return print(\"정확도:\", accuracy_score(y_test, predicted)) #예측값과 실제값 비교"
   ]
  },
  {
   "cell_type": "code",
   "execution_count": 37,
   "id": "1197225a",
   "metadata": {},
   "outputs": [
    {
     "name": "stdout",
     "output_type": "stream",
     "text": [
      "정확도: 0.8156723063223509\n",
      "정확도: 0.8103294746215495\n",
      "정확도: 0.7996438112199465\n"
     ]
    }
   ],
   "source": [
    "# 정확도\n",
    "Voting(tfidfv_train_1, y_train_1, tfidfv_test_1, y_test_1)\n",
    "Voting(tfidfv_train_2, y_train_2, tfidfv_test_2, y_test_2)\n",
    "Voting(tfidfv_train_3, y_train_3, tfidfv_test_3, y_test_3)"
   ]
  },
  {
   "cell_type": "markdown",
   "id": "bf3e4ae5",
   "metadata": {},
   "source": [
    "## 9. SGD(확률적 경사하강법)"
   ]
  },
  {
   "cell_type": "code",
   "execution_count": 38,
   "id": "7cb92afc",
   "metadata": {},
   "outputs": [],
   "source": [
    "from sklearn.linear_model import SGDClassifier\n",
    "\n",
    "def Voting(x_train, y_train, x_test, y_test):\n",
    "    SGD = SGDClassifier(alpha=0.001)\n",
    "    SGD.fit(x_train, y_train)\n",
    "    predicted = SGD.predict(x_test) #테스트 데이터에 대한 예측\n",
    "    \n",
    "    return print(\"정확도:\", accuracy_score(y_test, predicted)) #예측값과 실제값 비교"
   ]
  },
  {
   "cell_type": "code",
   "execution_count": 39,
   "id": "79a00321",
   "metadata": {},
   "outputs": [
    {
     "name": "stdout",
     "output_type": "stream",
     "text": [
      "정확도: 0.7996438112199465\n",
      "정확도: 0.798753339269813\n",
      "정확도: 0.796527159394479\n"
     ]
    }
   ],
   "source": [
    "# 정확도\n",
    "Voting(tfidfv_train_1, y_train_1, tfidfv_test_1, y_test_1)\n",
    "Voting(tfidfv_train_2, y_train_2, tfidfv_test_2, y_test_2)\n",
    "Voting(tfidfv_train_3, y_train_3, tfidfv_test_3, y_test_3)"
   ]
  },
  {
   "cell_type": "markdown",
   "id": "832be34a",
   "metadata": {},
   "source": [
    "## 10. 딥러닝과 비교"
   ]
  },
  {
   "cell_type": "code",
   "execution_count": 40,
   "id": "96256aa7",
   "metadata": {},
   "outputs": [],
   "source": [
    "import numpy as np\n",
    "from keras.preprocessing import sequence\n",
    "from tensorflow.keras.datasets import reuters\n",
    "import matplotlib.pyplot as plt\n",
    "\n",
    "from tensorflow.keras.models import Sequential\n",
    "from tensorflow.keras.layers import Conv2D, MaxPooling2D,Dropout\n",
    "from tensorflow.keras.layers import Dense, Activation, Flatten\n",
    "from tensorflow.keras.utils import to_categorical\n",
    "from tensorflow.keras import backend as K \n",
    "from sklearn.model_selection import train_test_split\n",
    "from tensorflow.keras import callbacks"
   ]
  },
  {
   "cell_type": "code",
   "execution_count": 41,
   "id": "daff199b",
   "metadata": {},
   "outputs": [],
   "source": [
    "# 단어 상위 빈도수 5,000개이다.\n",
    "from keras.datasets import reuters\n",
    "(train_data, train_labels), (test_data, test_labels) = reuters.load_data(num_words=5000)"
   ]
  },
  {
   "cell_type": "code",
   "execution_count": 42,
   "id": "aaafddf3",
   "metadata": {},
   "outputs": [
    {
     "data": {
      "text/plain": [
       "(8982, 2246)"
      ]
     },
     "execution_count": 42,
     "metadata": {},
     "output_type": "execute_result"
    }
   ],
   "source": [
    "len(train_data), len(test_data)"
   ]
  },
  {
   "cell_type": "code",
   "execution_count": 43,
   "id": "1ab43646",
   "metadata": {},
   "outputs": [],
   "source": [
    "# 단어로 디코딩할 수 있습니다\n",
    "word_index = reuters.get_word_index()\n",
    "reverse_word_index = dict([(value, key) for (key, value) in word_index.items()]) \n",
    "decoded_newswire = ' '.join([reverse_word_index.get(i - 3, '?') for i in train_data[0]])"
   ]
  },
  {
   "cell_type": "code",
   "execution_count": 44,
   "id": "38b87132",
   "metadata": {},
   "outputs": [],
   "source": [
    "import numpy as np\n",
    "def vectorize_sequences(sequences, dimension=10000):\n",
    "    results = np.zeros((len(sequences), dimension))\n",
    "    for i, sequence in enumerate(sequences):\n",
    "        results[i, sequence] = 1.\n",
    "    return results\n",
    "x_train = vectorize_sequences(train_data) #        \n",
    "x_test = vectorize_sequences(test_data) #        "
   ]
  },
  {
   "cell_type": "code",
   "execution_count": 45,
   "id": "c7c4d108",
   "metadata": {},
   "outputs": [],
   "source": [
    "def to_one_hot(labels, dimension=46):\n",
    "    results = np.zeros((len(labels), dimension))\n",
    "    for i, label in enumerate(labels):\n",
    "        results[i, label] = 1.\n",
    "    return results\n",
    "one_hot_train_labels = to_one_hot(train_labels) \n",
    "one_hot_test_labels = to_one_hot(test_labels)"
   ]
  },
  {
   "cell_type": "code",
   "execution_count": 46,
   "id": "493f0a81",
   "metadata": {},
   "outputs": [],
   "source": [
    "one_hot_train_labels = to_categorical(train_labels)\n",
    "one_hot_test_labels = to_categorical(test_labels)"
   ]
  },
  {
   "cell_type": "code",
   "execution_count": 47,
   "id": "90dad5de",
   "metadata": {},
   "outputs": [],
   "source": [
    "from keras import models\n",
    "from keras import layers\n",
    "model = models.Sequential()\n",
    "model.add(layers.Dense(64, activation='relu', input_shape=(10000,)))\n",
    "model.add(layers.Dense(64, activation='relu'))\n",
    "model.add(layers.Dense(46, activation='softmax'))"
   ]
  },
  {
   "cell_type": "code",
   "execution_count": 48,
   "id": "32bc4dc4",
   "metadata": {},
   "outputs": [],
   "source": [
    "model.compile(optimizer='rmsprop',loss='categorical_crossentropy',metrics=['accuracy'])\n"
   ]
  },
  {
   "cell_type": "code",
   "execution_count": 49,
   "id": "65327368",
   "metadata": {},
   "outputs": [],
   "source": [
    "x_val = x_train[:1000]\n",
    "partial_x_train = x_train[1000:]\n",
    "y_val = one_hot_train_labels[:1000]\n",
    "partial_y_train = one_hot_train_labels[1000:]"
   ]
  },
  {
   "cell_type": "code",
   "execution_count": 50,
   "id": "42201c2d",
   "metadata": {},
   "outputs": [
    {
     "name": "stdout",
     "output_type": "stream",
     "text": [
      "Epoch 1/20\n",
      "16/16 [==============================] - 1s 26ms/step - loss: 2.5272 - accuracy: 0.5148 - val_loss: 1.6846 - val_accuracy: 0.6320\n",
      "Epoch 2/20\n",
      "16/16 [==============================] - 0s 12ms/step - loss: 1.4130 - accuracy: 0.7048 - val_loss: 1.3118 - val_accuracy: 0.7150\n",
      "Epoch 3/20\n",
      "16/16 [==============================] - 0s 12ms/step - loss: 1.1046 - accuracy: 0.7621 - val_loss: 1.1563 - val_accuracy: 0.7410\n",
      "Epoch 4/20\n",
      "16/16 [==============================] - 0s 11ms/step - loss: 0.9044 - accuracy: 0.8039 - val_loss: 1.0683 - val_accuracy: 0.7710\n",
      "Epoch 5/20\n",
      "16/16 [==============================] - 0s 12ms/step - loss: 0.7465 - accuracy: 0.8369 - val_loss: 0.9901 - val_accuracy: 0.7910\n",
      "Epoch 6/20\n",
      "16/16 [==============================] - 0s 12ms/step - loss: 0.6191 - accuracy: 0.8671 - val_loss: 0.9681 - val_accuracy: 0.7860\n",
      "Epoch 7/20\n",
      "16/16 [==============================] - 0s 12ms/step - loss: 0.5154 - accuracy: 0.8916 - val_loss: 0.8915 - val_accuracy: 0.8100\n",
      "Epoch 8/20\n",
      "16/16 [==============================] - 0s 11ms/step - loss: 0.4288 - accuracy: 0.9109 - val_loss: 0.8956 - val_accuracy: 0.8140\n",
      "Epoch 9/20\n",
      "16/16 [==============================] - 0s 11ms/step - loss: 0.3589 - accuracy: 0.9218 - val_loss: 0.8766 - val_accuracy: 0.8180\n",
      "Epoch 10/20\n",
      "16/16 [==============================] - 0s 12ms/step - loss: 0.3076 - accuracy: 0.9328 - val_loss: 0.8885 - val_accuracy: 0.8200\n",
      "Epoch 11/20\n",
      "16/16 [==============================] - 0s 11ms/step - loss: 0.2657 - accuracy: 0.9394 - val_loss: 0.9002 - val_accuracy: 0.8170\n",
      "Epoch 12/20\n",
      "16/16 [==============================] - 0s 11ms/step - loss: 0.2275 - accuracy: 0.9453 - val_loss: 0.9049 - val_accuracy: 0.8180\n",
      "Epoch 13/20\n",
      "16/16 [==============================] - 0s 11ms/step - loss: 0.2092 - accuracy: 0.9483 - val_loss: 0.9257 - val_accuracy: 0.8180\n",
      "Epoch 14/20\n",
      "16/16 [==============================] - 0s 11ms/step - loss: 0.1814 - accuracy: 0.9516 - val_loss: 0.9356 - val_accuracy: 0.8070\n",
      "Epoch 15/20\n",
      "16/16 [==============================] - 0s 12ms/step - loss: 0.1683 - accuracy: 0.9551 - val_loss: 0.9603 - val_accuracy: 0.8030\n",
      "Epoch 16/20\n",
      "16/16 [==============================] - 0s 12ms/step - loss: 0.1570 - accuracy: 0.9550 - val_loss: 0.9604 - val_accuracy: 0.8130\n",
      "Epoch 17/20\n",
      "16/16 [==============================] - 0s 11ms/step - loss: 0.1498 - accuracy: 0.9539 - val_loss: 0.9424 - val_accuracy: 0.8090\n",
      "Epoch 18/20\n",
      "16/16 [==============================] - 0s 11ms/step - loss: 0.1384 - accuracy: 0.9575 - val_loss: 0.9971 - val_accuracy: 0.8110\n",
      "Epoch 19/20\n",
      "16/16 [==============================] - 0s 11ms/step - loss: 0.1276 - accuracy: 0.9572 - val_loss: 1.0178 - val_accuracy: 0.8060\n",
      "Epoch 20/20\n",
      "16/16 [==============================] - 0s 11ms/step - loss: 0.1290 - accuracy: 0.9573 - val_loss: 1.0780 - val_accuracy: 0.7950\n"
     ]
    }
   ],
   "source": [
    "history = model.fit(partial_x_train,partial_y_train,epochs=20,batch_size=512,validation_data=(x_val, y_val))\n"
   ]
  },
  {
   "cell_type": "code",
   "execution_count": 51,
   "id": "e10c3eb2",
   "metadata": {},
   "outputs": [
    {
     "name": "stdout",
     "output_type": "stream",
     "text": [
      "71/71 [==============================] - 0s 2ms/step - loss: 1.1804 - accuracy: 0.7792\n"
     ]
    },
    {
     "data": {
      "text/plain": [
       "[1.1803505420684814, 0.7791629433631897]"
      ]
     },
     "execution_count": 51,
     "metadata": {},
     "output_type": "execute_result"
    }
   ],
   "source": [
    "# 모델 평가\n",
    "model.evaluate(x_test, one_hot_test_labels)"
   ]
  },
  {
   "cell_type": "code",
   "execution_count": 52,
   "id": "86ade3a9",
   "metadata": {},
   "outputs": [
    {
     "data": {
      "image/png": "[encoded data removed]",
      "text/plain": [
       "<Figure size 432x288 with 1 Axes>"
      ]
     },
     "metadata": {
      "needs_background": "light"
     },
     "output_type": "display_data"
    }
   ],
   "source": [
    "import matplotlib.pyplot as plt\n",
    "loss = history.history['loss']\n",
    "val_loss = history.history['val_loss']\n",
    "epochs = range(1, len(loss) + 1)\n",
    "plt.plot(epochs, loss, 'bo', label='Training loss')\n",
    "plt.plot(epochs, val_loss, 'b', label='Validation loss')\n",
    "plt.title('Training and validation loss')\n",
    "plt.xlabel('Epochs')\n",
    "plt.ylabel('Loss')\n",
    "plt.legend()\n",
    "plt.show()"
   ]
  },
  {
   "cell_type": "markdown",
   "id": "34241aa4",
   "metadata": {},
   "source": [
    "## 딥러닝, 단어 상위 빈도수 2,500개 학습\n"
   ]
  },
  {
   "cell_type": "code",
   "execution_count": 53,
   "id": "95370221",
   "metadata": {},
   "outputs": [],
   "source": [
    "# 단어 상위 빈도수 2,500개이다.\n",
    "from keras.datasets import reuters\n",
    "(train_data, train_labels), (test_data, test_labels) = reuters.load_data(num_words=2500)"
   ]
  },
  {
   "cell_type": "code",
   "execution_count": 54,
   "id": "28ccc666",
   "metadata": {},
   "outputs": [],
   "source": [
    "from keras.utils.np_utils import to_categorical\n",
    "\n",
    "def vectorize_sequences(sequences, dimension=10000):\n",
    "    results = np.zeros((len(sequences), dimension))\n",
    "    for i, sequence in enumerate(sequences):\n",
    "        results[i, sequence] = 1.\n",
    "    return results\n",
    "\n",
    "x_train = vectorize_sequences(train_data)\n",
    "x_test = vectorize_sequences(test_data)\n"
   ]
  },
  {
   "cell_type": "code",
   "execution_count": 55,
   "id": "32aabb49",
   "metadata": {},
   "outputs": [],
   "source": [
    "# 원핫인코딩을 해줍시다\n",
    "from keras.utils.np_utils import to_categorical\n",
    "\n",
    "one_hot_train_labels = to_categorical(train_labels)\n",
    "one_hot_test_labels = to_categorical(test_labels)"
   ]
  },
  {
   "cell_type": "code",
   "execution_count": 56,
   "id": "e3b1b17b",
   "metadata": {},
   "outputs": [],
   "source": [
    "from keras import models\n",
    "from keras import layers\n",
    "\n",
    "# 모델 생성\n",
    "model = models.Sequential()\n",
    "model.add(layers.Dense(64, activation='relu', input_shape=(10000,)))\n",
    "model.add(layers.Dense(64, activation='relu'))\n",
    "model.add(layers.Dense(46, activation='softmax')) # 클래스가 46개"
   ]
  },
  {
   "cell_type": "code",
   "execution_count": 57,
   "id": "38803a70",
   "metadata": {},
   "outputs": [
    {
     "data": {
      "text/plain": [
       "<bound method Model.summary of <keras.engine.sequential.Sequential object at 0x7f777fe7da60>>"
      ]
     },
     "execution_count": 57,
     "metadata": {},
     "output_type": "execute_result"
    }
   ],
   "source": [
    "model.summary"
   ]
  },
  {
   "cell_type": "code",
   "execution_count": 58,
   "id": "e7e7c241",
   "metadata": {},
   "outputs": [],
   "source": [
    "# 모델 컴파일 설정\n",
    "model.compile(optimizer='adam', loss='categorical_crossentropy', metrics=['accuracy'])"
   ]
  },
  {
   "cell_type": "code",
   "execution_count": 59,
   "id": "3de51b70",
   "metadata": {},
   "outputs": [],
   "source": [
    "# 데이터 나누기\n",
    "x_val = x_train[:1000]\n",
    "partial_x_train = x_train[1000:]\n",
    "\n",
    "y_val = one_hot_train_labels[:1000]\n",
    "partial_y_train = one_hot_train_labels[1000:]"
   ]
  },
  {
   "cell_type": "code",
   "execution_count": 60,
   "id": "353e7629",
   "metadata": {},
   "outputs": [
    {
     "name": "stdout",
     "output_type": "stream",
     "text": [
      "Epoch 1/20\n",
      "16/16 [==============================] - 1s 23ms/step - loss: 3.3139 - accuracy: 0.3346 - val_loss: 2.6176 - val_accuracy: 0.3880\n",
      "Epoch 2/20\n",
      "16/16 [==============================] - 0s 11ms/step - loss: 2.0995 - accuracy: 0.5183 - val_loss: 1.6835 - val_accuracy: 0.6360\n",
      "Epoch 3/20\n",
      "16/16 [==============================] - 0s 12ms/step - loss: 1.4678 - accuracy: 0.6874 - val_loss: 1.3443 - val_accuracy: 0.6930\n",
      "Epoch 4/20\n",
      "16/16 [==============================] - 0s 11ms/step - loss: 1.1821 - accuracy: 0.7449 - val_loss: 1.1813 - val_accuracy: 0.7480\n",
      "Epoch 5/20\n",
      "16/16 [==============================] - 0s 12ms/step - loss: 0.9938 - accuracy: 0.7853 - val_loss: 1.0901 - val_accuracy: 0.7640\n",
      "Epoch 6/20\n",
      "16/16 [==============================] - 0s 10ms/step - loss: 0.8456 - accuracy: 0.8188 - val_loss: 1.0119 - val_accuracy: 0.7770\n",
      "Epoch 7/20\n",
      "16/16 [==============================] - 0s 10ms/step - loss: 0.7166 - accuracy: 0.8458 - val_loss: 0.9514 - val_accuracy: 0.7950\n",
      "Epoch 8/20\n",
      "16/16 [==============================] - 0s 12ms/step - loss: 0.6101 - accuracy: 0.8735 - val_loss: 0.9058 - val_accuracy: 0.8040\n",
      "Epoch 9/20\n",
      "16/16 [==============================] - 0s 12ms/step - loss: 0.5191 - accuracy: 0.8923 - val_loss: 0.8773 - val_accuracy: 0.8140\n",
      "Epoch 10/20\n",
      "16/16 [==============================] - 0s 11ms/step - loss: 0.4456 - accuracy: 0.9070 - val_loss: 0.8634 - val_accuracy: 0.8100\n",
      "Epoch 11/20\n",
      "16/16 [==============================] - 0s 12ms/step - loss: 0.3840 - accuracy: 0.9208 - val_loss: 0.8605 - val_accuracy: 0.8170\n",
      "Epoch 12/20\n",
      "16/16 [==============================] - 0s 11ms/step - loss: 0.3358 - accuracy: 0.9306 - val_loss: 0.8613 - val_accuracy: 0.8130\n",
      "Epoch 13/20\n",
      "16/16 [==============================] - 0s 12ms/step - loss: 0.2953 - accuracy: 0.9341 - val_loss: 0.8699 - val_accuracy: 0.8130\n",
      "Epoch 14/20\n",
      "16/16 [==============================] - 0s 12ms/step - loss: 0.2634 - accuracy: 0.9405 - val_loss: 0.8770 - val_accuracy: 0.8160\n",
      "Epoch 15/20\n",
      "16/16 [==============================] - 0s 11ms/step - loss: 0.2311 - accuracy: 0.9461 - val_loss: 0.8861 - val_accuracy: 0.8160\n",
      "Epoch 16/20\n",
      "16/16 [==============================] - 0s 11ms/step - loss: 0.2113 - accuracy: 0.9479 - val_loss: 0.9060 - val_accuracy: 0.8130\n",
      "Epoch 17/20\n",
      "16/16 [==============================] - 0s 11ms/step - loss: 0.1903 - accuracy: 0.9495 - val_loss: 0.9134 - val_accuracy: 0.8120\n",
      "Epoch 18/20\n",
      "16/16 [==============================] - 0s 11ms/step - loss: 0.1765 - accuracy: 0.9541 - val_loss: 0.9415 - val_accuracy: 0.8070\n",
      "Epoch 19/20\n",
      "16/16 [==============================] - 0s 11ms/step - loss: 0.1626 - accuracy: 0.9559 - val_loss: 0.9475 - val_accuracy: 0.8050\n",
      "Epoch 20/20\n",
      "16/16 [==============================] - 0s 11ms/step - loss: 0.1537 - accuracy: 0.9558 - val_loss: 0.9571 - val_accuracy: 0.8040\n"
     ]
    }
   ],
   "source": [
    "history = model.fit(partial_x_train, partial_y_train, epochs=20, batch_size=512, validation_data=(x_val, y_val))"
   ]
  },
  {
   "cell_type": "code",
   "execution_count": 61,
   "id": "69d3effb",
   "metadata": {},
   "outputs": [
    {
     "name": "stdout",
     "output_type": "stream",
     "text": [
      "71/71 [==============================] - 0s 2ms/step - loss: 1.0633 - accuracy: 0.7903\n"
     ]
    },
    {
     "data": {
      "text/plain": [
       "[1.063262701034546, 0.7902938723564148]"
      ]
     },
     "execution_count": 61,
     "metadata": {},
     "output_type": "execute_result"
    }
   ],
   "source": [
    "# 모델 평가\n",
    "model.evaluate(x_test, one_hot_test_labels)"
   ]
  },
  {
   "cell_type": "code",
   "execution_count": 62,
   "id": "2cc9becc",
   "metadata": {},
   "outputs": [
    {
     "data": {
      "image/png": "[encoded data removed]",
      "text/plain": [
       "<Figure size 432x288 with 1 Axes>"
      ]
     },
     "metadata": {
      "needs_background": "light"
     },
     "output_type": "display_data"
    }
   ],
   "source": [
    "# 시각화\n",
    "import matplotlib.pyplot as plt\n",
    "\n",
    "loss = history.history['loss']\n",
    "val_loss = history.history['val_loss']\n",
    "\n",
    "epochs = range(1, len(loss) + 1)\n",
    "\n",
    "plt.plot(epochs, loss, 'bo', label='Training loss')\n",
    "plt.plot(epochs, val_loss, 'b', label='Validation loss')\n",
    "plt.title('Training and validation loss')\n",
    "plt.xlabel('Epochs')\n",
    "plt.ylabel('Loss')\n",
    "plt.legend()\n",
    "\n",
    "plt.show()"
   ]
  },
  {
   "cell_type": "code",
   "execution_count": null,
   "id": "20f3d2c6",
   "metadata": {},
   "outputs": [],
   "source": []
  },
  {
   "cell_type": "code",
   "execution_count": null,
   "id": "ac6a307e",
   "metadata": {},
   "outputs": [],
   "source": []
  },
  {
   "cell_type": "code",
   "execution_count": null,
   "id": "c64b86e7",
   "metadata": {},
   "outputs": [],
   "source": []
  },
  {
   "cell_type": "code",
   "execution_count": null,
   "id": "7652c17b",
   "metadata": {},
   "outputs": [],
   "source": []
  },
  {
   "cell_type": "code",
   "execution_count": null,
   "id": "b22de751",
   "metadata": {},
   "outputs": [],
   "source": []
  }
 ],
 "metadata": {
  "kernelspec": {
   "display_name": "Python 3 (ipykernel)",
   "language": "python",
   "name": "python3"
  },
  "language_info": {
   "codemirror_mode": {
    "name": "ipython",
    "version": 3
   },
   "file_extension": ".py",
   "mimetype": "text/x-python",
   "name": "python",
   "nbconvert_exporter": "python",
   "pygments_lexer": "ipython3",
   "version": "3.9.7"
  }
 },
 "nbformat": 4,
 "nbformat_minor": 5
}
